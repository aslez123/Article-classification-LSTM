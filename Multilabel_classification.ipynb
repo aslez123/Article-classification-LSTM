{
 "cells": [
  {
   "cell_type": "code",
   "execution_count": 94,
   "id": "c2edc803",
   "metadata": {},
   "outputs": [],
   "source": [
    "import pandas as pd\n",
    "import numpy as p\n",
    "import matplotlib.pyplot as plt\n",
    "import seaborn as sns\n",
    "import re \n",
    "import spacy\n",
    "\n",
    "from sklearn.model_selection import train_test_split\n",
    "from time import time\n",
    "from sklearn.preprocessing import LabelEncoder\n",
    "from sklearn.metrics import classification_report\n",
    "from sklearn.multioutput import MultiOutputClassifier\n"
   ]
  },
  {
   "cell_type": "code",
   "execution_count": 2,
   "id": "f57e85e2",
   "metadata": {
    "scrolled": true
   },
   "outputs": [],
   "source": [
    "from keras.models import Sequential\n",
    "from keras.layers import LSTM, Embedding, Dense\n",
    "from tensorflow.keras.preprocessing.sequence import pad_sequences\n",
    "from keras.preprocessing.text import Tokenizer"
   ]
  },
  {
   "cell_type": "markdown",
   "id": "aaca42bb",
   "metadata": {},
   "source": [
    "# Reading data"
   ]
  },
  {
   "cell_type": "code",
   "execution_count": 3,
   "id": "8b72146b",
   "metadata": {},
   "outputs": [],
   "source": [
    "# download the data from kaggle\n",
    "train_df=pd.read_csv(\"train.csv\")"
   ]
  },
  {
   "cell_type": "code",
   "execution_count": 4,
   "id": "d44133a6",
   "metadata": {},
   "outputs": [
    {
     "data": {
      "text/html": [
       "<div>\n",
       "<style scoped>\n",
       "    .dataframe tbody tr th:only-of-type {\n",
       "        vertical-align: middle;\n",
       "    }\n",
       "\n",
       "    .dataframe tbody tr th {\n",
       "        vertical-align: top;\n",
       "    }\n",
       "\n",
       "    .dataframe thead th {\n",
       "        text-align: right;\n",
       "    }\n",
       "</style>\n",
       "<table border=\"1\" class=\"dataframe\">\n",
       "  <thead>\n",
       "    <tr style=\"text-align: right;\">\n",
       "      <th></th>\n",
       "      <th>ID</th>\n",
       "      <th>TITLE</th>\n",
       "      <th>ABSTRACT</th>\n",
       "      <th>Computer Science</th>\n",
       "      <th>Physics</th>\n",
       "      <th>Mathematics</th>\n",
       "      <th>Statistics</th>\n",
       "      <th>Quantitative Biology</th>\n",
       "      <th>Quantitative Finance</th>\n",
       "    </tr>\n",
       "  </thead>\n",
       "  <tbody>\n",
       "    <tr>\n",
       "      <th>0</th>\n",
       "      <td>1</td>\n",
       "      <td>Reconstructing Subject-Specific Effect Maps</td>\n",
       "      <td>Predictive models allow subject-specific inf...</td>\n",
       "      <td>1</td>\n",
       "      <td>0</td>\n",
       "      <td>0</td>\n",
       "      <td>0</td>\n",
       "      <td>0</td>\n",
       "      <td>0</td>\n",
       "    </tr>\n",
       "    <tr>\n",
       "      <th>1</th>\n",
       "      <td>2</td>\n",
       "      <td>Rotation Invariance Neural Network</td>\n",
       "      <td>Rotation invariance and translation invarian...</td>\n",
       "      <td>1</td>\n",
       "      <td>0</td>\n",
       "      <td>0</td>\n",
       "      <td>0</td>\n",
       "      <td>0</td>\n",
       "      <td>0</td>\n",
       "    </tr>\n",
       "    <tr>\n",
       "      <th>2</th>\n",
       "      <td>3</td>\n",
       "      <td>Spherical polyharmonics and Poisson kernels fo...</td>\n",
       "      <td>We introduce and develop the notion of spher...</td>\n",
       "      <td>0</td>\n",
       "      <td>0</td>\n",
       "      <td>1</td>\n",
       "      <td>0</td>\n",
       "      <td>0</td>\n",
       "      <td>0</td>\n",
       "    </tr>\n",
       "    <tr>\n",
       "      <th>3</th>\n",
       "      <td>4</td>\n",
       "      <td>A finite element approximation for the stochas...</td>\n",
       "      <td>The stochastic Landau--Lifshitz--Gilbert (LL...</td>\n",
       "      <td>0</td>\n",
       "      <td>0</td>\n",
       "      <td>1</td>\n",
       "      <td>0</td>\n",
       "      <td>0</td>\n",
       "      <td>0</td>\n",
       "    </tr>\n",
       "    <tr>\n",
       "      <th>4</th>\n",
       "      <td>5</td>\n",
       "      <td>Comparative study of Discrete Wavelet Transfor...</td>\n",
       "      <td>Fourier-transform infra-red (FTIR) spectra o...</td>\n",
       "      <td>1</td>\n",
       "      <td>0</td>\n",
       "      <td>0</td>\n",
       "      <td>1</td>\n",
       "      <td>0</td>\n",
       "      <td>0</td>\n",
       "    </tr>\n",
       "  </tbody>\n",
       "</table>\n",
       "</div>"
      ],
      "text/plain": [
       "   ID                                              TITLE  \\\n",
       "0   1        Reconstructing Subject-Specific Effect Maps   \n",
       "1   2                 Rotation Invariance Neural Network   \n",
       "2   3  Spherical polyharmonics and Poisson kernels fo...   \n",
       "3   4  A finite element approximation for the stochas...   \n",
       "4   5  Comparative study of Discrete Wavelet Transfor...   \n",
       "\n",
       "                                            ABSTRACT  Computer Science  \\\n",
       "0    Predictive models allow subject-specific inf...                 1   \n",
       "1    Rotation invariance and translation invarian...                 1   \n",
       "2    We introduce and develop the notion of spher...                 0   \n",
       "3    The stochastic Landau--Lifshitz--Gilbert (LL...                 0   \n",
       "4    Fourier-transform infra-red (FTIR) spectra o...                 1   \n",
       "\n",
       "   Physics  Mathematics  Statistics  Quantitative Biology  \\\n",
       "0        0            0           0                     0   \n",
       "1        0            0           0                     0   \n",
       "2        0            1           0                     0   \n",
       "3        0            1           0                     0   \n",
       "4        0            0           1                     0   \n",
       "\n",
       "   Quantitative Finance  \n",
       "0                     0  \n",
       "1                     0  \n",
       "2                     0  \n",
       "3                     0  \n",
       "4                     0  "
      ]
     },
     "execution_count": 4,
     "metadata": {},
     "output_type": "execute_result"
    }
   ],
   "source": [
    "train_df.head()"
   ]
  },
  {
   "cell_type": "markdown",
   "id": "65dce75b",
   "metadata": {},
   "source": [
    "# Checking missing values"
   ]
  },
  {
   "cell_type": "code",
   "execution_count": 5,
   "id": "ae3f421f",
   "metadata": {},
   "outputs": [
    {
     "name": "stdout",
     "output_type": "stream",
     "text": [
      "Check for missing values in dataset:  0\n"
     ]
    }
   ],
   "source": [
    "print(\"Check for missing values in dataset: \", train_df.isnull().sum().sum())"
   ]
  },
  {
   "cell_type": "markdown",
   "id": "69d33641",
   "metadata": {},
   "source": [
    "# Exploratory data analysis"
   ]
  },
  {
   "cell_type": "markdown",
   "id": "fe5ec476",
   "metadata": {},
   "source": [
    "Let's check how many articles are included in each category."
   ]
  },
  {
   "cell_type": "code",
   "execution_count": 5,
   "id": "48699f8f",
   "metadata": {},
   "outputs": [],
   "source": [
    "categories=[\"Computer Science\",\"Physics\",\"Mathematics\",\"Statistics\",\"Quantitative Biology\",\"Quantitative Finance\"]\n",
    "category_count=[]\n",
    "for i in categories:\n",
    "  category_count.append(train_df[i].sum()) "
   ]
  },
  {
   "cell_type": "code",
   "execution_count": 7,
   "id": "2eefada5",
   "metadata": {},
   "outputs": [
    {
     "data": {
      "text/plain": [
       "Text(0.5, 1.0, 'Number of articles in each category')"
      ]
     },
     "execution_count": 7,
     "metadata": {},
     "output_type": "execute_result"
    },
    {
     "data": {
      "image/png": "[encoded data removed]",
      "text/plain": [
       "<Figure size 1080x360 with 1 Axes>"
      ]
     },
     "metadata": {
      "needs_background": "light"
     },
     "output_type": "display_data"
    }
   ],
   "source": [
    "plt.figure(figsize=(15,5))\n",
    "plt.bar(categories,category_count)\n",
    "plt.title(\"Number of articles in each category\")"
   ]
  },
  {
   "cell_type": "markdown",
   "id": "81de200c",
   "metadata": {},
   "source": [
    "Conclusion: The dataset is imbalanced. We can see that there are significantly more articles belonging to the Computer Science category than to the Quantitative Biology or Quantitative Finance categories."
   ]
  },
  {
   "cell_type": "code",
   "execution_count": 8,
   "id": "2fd5c0c4",
   "metadata": {},
   "outputs": [],
   "source": [
    "total_word_count_in_each_category=[]\n",
    "for i in categories:\n",
    "  abstracts = train_df.where(train_df[i]==1)[['ABSTRACT']] \n",
    "  count=pd.Series(abstracts.values.flatten()).str.len().sum()\n",
    "  total_word_count_in_each_category.append(count)"
   ]
  },
  {
   "cell_type": "code",
   "execution_count": 9,
   "id": "3e8afd23",
   "metadata": {},
   "outputs": [],
   "source": [
    "avg_abstract_len_for_each_category=[]\n",
    "for i in range(6):\n",
    "  avg_abstract_len_for_each_category.append(total_word_count_in_each_category[i]/category_count[i])"
   ]
  },
  {
   "cell_type": "markdown",
   "id": "64025443",
   "metadata": {},
   "source": [
    "Now we can see the average number of words contained in an article of each category."
   ]
  },
  {
   "cell_type": "code",
   "execution_count": 10,
   "id": "b4d0036a",
   "metadata": {},
   "outputs": [
    {
     "data": {
      "text/plain": [
       "Text(0.5, 1.0, 'Average word length of abstract for each category')"
      ]
     },
     "execution_count": 10,
     "metadata": {},
     "output_type": "execute_result"
    },
    {
     "data": {
      "image/png": "[encoded data removed]",
      "text/plain": [
       "<Figure size 1080x360 with 1 Axes>"
      ]
     },
     "metadata": {
      "needs_background": "light"
     },
     "output_type": "display_data"
    }
   ],
   "source": [
    "plt.figure(figsize=(15,5))\n",
    "plt.bar(categories,avg_abstract_len_for_each_category)\n",
    "plt.title(\"Average word length of abstract for each category\")"
   ]
  },
  {
   "cell_type": "markdown",
   "id": "d0e5dfd2",
   "metadata": {},
   "source": [
    "From the above plot its clear that articles of quantitaive biology are longest, and mathematics articles are shortest."
   ]
  },
  {
   "cell_type": "code",
   "execution_count": 11,
   "id": "27e604bd",
   "metadata": {},
   "outputs": [],
   "source": [
    "count_numeric_contained_texts=dict()\n",
    "for category in categories:\n",
    "    count_numeric_contained_texts[category]=0"
   ]
  },
  {
   "cell_type": "code",
   "execution_count": 12,
   "id": "92d7e671",
   "metadata": {},
   "outputs": [],
   "source": [
    "for category in categories:\n",
    "    for text in train_df[train_df[category]==1][\"ABSTRACT\"]:\n",
    "        if re.findall(\"\\d\",text):\n",
    "            count_numeric_contained_texts[category]+=1 "
   ]
  },
  {
   "cell_type": "code",
   "execution_count": 13,
   "id": "b5b5f0be",
   "metadata": {},
   "outputs": [],
   "source": [
    "for i in range(len(categories)):\n",
    "    count_numeric_contained_texts[categories[i]]=count_numeric_contained_texts[categories[i]]/category_count[i]"
   ]
  },
  {
   "cell_type": "markdown",
   "id": "09daf0b5",
   "metadata": {},
   "source": [
    "Now we can see the average number of numeric values contained in an article of each category."
   ]
  },
  {
   "cell_type": "code",
   "execution_count": 14,
   "id": "6e37d017",
   "metadata": {},
   "outputs": [
    {
     "data": {
      "text/plain": [
       "<BarContainer object of 6 artists>"
      ]
     },
     "execution_count": 14,
     "metadata": {},
     "output_type": "execute_result"
    },
    {
     "data": {
      "image/png": "[encoded data removed]",
      "text/plain": [
       "<Figure size 1080x360 with 1 Axes>"
      ]
     },
     "metadata": {
      "needs_background": "light"
     },
     "output_type": "display_data"
    }
   ],
   "source": [
    "plt.figure(figsize=(15,5))\n",
    "plt.bar(categories,count_numeric_contained_texts.values())"
   ]
  },
  {
   "cell_type": "markdown",
   "id": "5a11a5d9",
   "metadata": {},
   "source": [
    "Each category have numeric values in almost 40% texts except physics, also physics doesnt have significant difference, so numeric values in abstracts doesnt add any significant difference between categories, so we will just remove the numeric values from text preprocessing step."
   ]
  },
  {
   "cell_type": "markdown",
   "id": "885c0f55",
   "metadata": {},
   "source": [
    "# Data preprocessing"
   ]
  },
  {
   "cell_type": "markdown",
   "id": "8700aaf6",
   "metadata": {},
   "source": [
    "Concatenation of Title and Abstract to make it one text"
   ]
  },
  {
   "cell_type": "code",
   "execution_count": 6,
   "id": "9b3e63a4",
   "metadata": {},
   "outputs": [],
   "source": [
    "train_df[\"text\"]=train_df[\"TITLE\"] +\" \"+ train_df[\"ABSTRACT\"]"
   ]
  },
  {
   "cell_type": "markdown",
   "id": "3cbb149d",
   "metadata": {},
   "source": [
    "Dropping the TITLE and ABSTRACT columns."
   ]
  },
  {
   "cell_type": "code",
   "execution_count": 7,
   "id": "a43868cb",
   "metadata": {},
   "outputs": [],
   "source": [
    "train_df.drop([\"TITLE\",\"ABSTRACT\"], axis=1,inplace=True)"
   ]
  },
  {
   "cell_type": "code",
   "execution_count": 12,
   "id": "18b5293b",
   "metadata": {},
   "outputs": [
    {
     "data": {
      "text/html": [
       "<div>\n",
       "<style scoped>\n",
       "    .dataframe tbody tr th:only-of-type {\n",
       "        vertical-align: middle;\n",
       "    }\n",
       "\n",
       "    .dataframe tbody tr th {\n",
       "        vertical-align: top;\n",
       "    }\n",
       "\n",
       "    .dataframe thead th {\n",
       "        text-align: right;\n",
       "    }\n",
       "</style>\n",
       "<table border=\"1\" class=\"dataframe\">\n",
       "  <thead>\n",
       "    <tr style=\"text-align: right;\">\n",
       "      <th></th>\n",
       "      <th>ID</th>\n",
       "      <th>Computer Science</th>\n",
       "      <th>Physics</th>\n",
       "      <th>Mathematics</th>\n",
       "      <th>Statistics</th>\n",
       "      <th>Quantitative Biology</th>\n",
       "      <th>Quantitative Finance</th>\n",
       "      <th>text</th>\n",
       "    </tr>\n",
       "  </thead>\n",
       "  <tbody>\n",
       "    <tr>\n",
       "      <th>0</th>\n",
       "      <td>1</td>\n",
       "      <td>1</td>\n",
       "      <td>0</td>\n",
       "      <td>0</td>\n",
       "      <td>0</td>\n",
       "      <td>0</td>\n",
       "      <td>0</td>\n",
       "      <td>Reconstructing Subject-Specific Effect Maps   ...</td>\n",
       "    </tr>\n",
       "    <tr>\n",
       "      <th>1</th>\n",
       "      <td>2</td>\n",
       "      <td>1</td>\n",
       "      <td>0</td>\n",
       "      <td>0</td>\n",
       "      <td>0</td>\n",
       "      <td>0</td>\n",
       "      <td>0</td>\n",
       "      <td>Rotation Invariance Neural Network   Rotation ...</td>\n",
       "    </tr>\n",
       "    <tr>\n",
       "      <th>2</th>\n",
       "      <td>3</td>\n",
       "      <td>0</td>\n",
       "      <td>0</td>\n",
       "      <td>1</td>\n",
       "      <td>0</td>\n",
       "      <td>0</td>\n",
       "      <td>0</td>\n",
       "      <td>Spherical polyharmonics and Poisson kernels fo...</td>\n",
       "    </tr>\n",
       "    <tr>\n",
       "      <th>3</th>\n",
       "      <td>4</td>\n",
       "      <td>0</td>\n",
       "      <td>0</td>\n",
       "      <td>1</td>\n",
       "      <td>0</td>\n",
       "      <td>0</td>\n",
       "      <td>0</td>\n",
       "      <td>A finite element approximation for the stochas...</td>\n",
       "    </tr>\n",
       "    <tr>\n",
       "      <th>4</th>\n",
       "      <td>5</td>\n",
       "      <td>1</td>\n",
       "      <td>0</td>\n",
       "      <td>0</td>\n",
       "      <td>1</td>\n",
       "      <td>0</td>\n",
       "      <td>0</td>\n",
       "      <td>Comparative study of Discrete Wavelet Transfor...</td>\n",
       "    </tr>\n",
       "  </tbody>\n",
       "</table>\n",
       "</div>"
      ],
      "text/plain": [
       "   ID  Computer Science  Physics  Mathematics  Statistics  \\\n",
       "0   1                 1        0            0           0   \n",
       "1   2                 1        0            0           0   \n",
       "2   3                 0        0            1           0   \n",
       "3   4                 0        0            1           0   \n",
       "4   5                 1        0            0           1   \n",
       "\n",
       "   Quantitative Biology  Quantitative Finance  \\\n",
       "0                     0                     0   \n",
       "1                     0                     0   \n",
       "2                     0                     0   \n",
       "3                     0                     0   \n",
       "4                     0                     0   \n",
       "\n",
       "                                                text  \n",
       "0  Reconstructing Subject-Specific Effect Maps   ...  \n",
       "1  Rotation Invariance Neural Network   Rotation ...  \n",
       "2  Spherical polyharmonics and Poisson kernels fo...  \n",
       "3  A finite element approximation for the stochas...  \n",
       "4  Comparative study of Discrete Wavelet Transfor...  "
      ]
     },
     "execution_count": 12,
     "metadata": {},
     "output_type": "execute_result"
    }
   ],
   "source": [
    "train_df.head()"
   ]
  },
  {
   "cell_type": "code",
   "execution_count": 8,
   "id": "4ca68ca1",
   "metadata": {},
   "outputs": [],
   "source": [
    "def split(X, y,test_size):\n",
    "    X_train, X_test, y_train, y_test = train_test_split(X, y, test_size = test_size, random_state=42)\n",
    "    return (X_train, X_test, y_train, y_test)"
   ]
  },
  {
   "cell_type": "markdown",
   "id": "e95d18d0",
   "metadata": {},
   "source": [
    "# Lemmatizing"
   ]
  },
  {
   "cell_type": "markdown",
   "id": "7de2faec",
   "metadata": {},
   "source": [
    "Performing lemmatization of words and regular expressions using the spacy library."
   ]
  },
  {
   "cell_type": "code",
   "execution_count": 19,
   "id": "78a76c58",
   "metadata": {},
   "outputs": [
    {
     "name": "stdout",
     "output_type": "stream",
     "text": [
      "C:\\Users\\LEGION\\anaconda3\\lib\\site-packages\\spacy\\__init__.py\n"
     ]
    }
   ],
   "source": [
    "import spacy\n",
    "print(spacy.__file__) "
   ]
  },
  {
   "cell_type": "code",
   "execution_count": 20,
   "id": "e6671341",
   "metadata": {
    "scrolled": true
   },
   "outputs": [],
   "source": [
    "nlp=spacy.load('en_core_web_sm',disable=['ner','parser'])"
   ]
  },
  {
   "cell_type": "markdown",
   "id": "6fad0814",
   "metadata": {},
   "source": [
    "Replace non-letter characters with a space and convert all uppercase letters to lowercase."
   ]
  },
  {
   "cell_type": "code",
   "execution_count": 21,
   "id": "00f072fb",
   "metadata": {},
   "outputs": [],
   "source": [
    "brief_cleaning=(re.sub(\"[^a-zA-Z]+\",\" \",str(text)).lower() for text in train_df[\"text\"])"
   ]
  },
  {
   "cell_type": "code",
   "execution_count": 22,
   "id": "954fa85f",
   "metadata": {},
   "outputs": [],
   "source": [
    "def cleaning(doc):\n",
    "    txt=[token.lemma_ for token in doc if not token.is_stop]\n",
    "    txt=[txt for txt in txt if len(txt)>1]\n",
    "    return \" \".join(txt)"
   ]
  },
  {
   "cell_type": "code",
   "execution_count": 23,
   "id": "c3c1df27",
   "metadata": {},
   "outputs": [
    {
     "name": "stdout",
     "output_type": "stream",
     "text": [
      "Time to clean up everything: 4.16 mins\n"
     ]
    }
   ],
   "source": [
    "t = time()\n",
    "\n",
    "txt = [cleaning(doc) for doc in nlp.pipe(brief_cleaning, batch_size=2000)]\n",
    "\n",
    "print('Time to clean up everything: {} mins'.format(round((time() - t) / 60, 2)))"
   ]
  },
  {
   "cell_type": "code",
   "execution_count": 24,
   "id": "0814b372",
   "metadata": {},
   "outputs": [],
   "source": [
    "cleaned_title2=[]\n",
    "for i in range(train_df.shape[0]):\n",
    "    title1=train_df.text[i] \n",
    "    title1=title1.lower().strip() \n",
    "    title1=re.sub(\"\\n\",\" \",title1) \n",
    "    title1=re.sub(\"[^a-zA-Z0-9 +]\",\" \",title1)\n",
    "    title1=nlp(title1) \n",
    "    title1=[token.lemma_.strip() for token in title1 if (not token.is_stop) and (len(token)>1)]\n",
    "    title1=\" \".join(title1)\n",
    "    title1=re.sub(\" +\",\" \",title1)\n",
    "    cleaned_title2.append(title1)"
   ]
  },
  {
   "cell_type": "markdown",
   "id": "49dcc0f9",
   "metadata": {},
   "source": [
    "Save this cleaned text to a csv file so that we don't have run above cell every time because it is time taking."
   ]
  },
  {
   "cell_type": "code",
   "execution_count": 4,
   "id": "5415ad52",
   "metadata": {},
   "outputs": [],
   "source": [
    "df1 = pd.DataFrame(cleaned_title2)\n",
    "df1.to_csv(\"cleaned_text_2.csv\")"
   ]
  },
  {
   "cell_type": "code",
   "execution_count": 9,
   "id": "84eec507",
   "metadata": {},
   "outputs": [
    {
     "data": {
      "text/plain": [
       "['reconstruct subject specific effect map predictive model allow subject specific inference analyze disease relate alteration neuroimage datum give subject data inference level global identifiye condition presence subject local detect condition effect individual measurement extract subject data global inference widely local inference form subject specific effect map rarely exist model yield noisy detection compose disperse isolate island article propose reconstruction method name rsm improve subject specific detection predictive modeling approach particular binary classifier rsm specifically aim reduce noise sample error associate finite sample example train classifier propose method wrapper type algorithm different binary classifier diagnostic manner information condition presence reconstruction pose maximum posteriori problem prior model parameter estimate train datum classifier specific fashion experimental evaluation perform synthetically generate datum datum alzheimer disease neuroimage initiative adni database result synthetic datum demonstrate rsm yield high detection accuracy compare model directly bootstrap average analysis adni dataset rsm improve correlation subject specific detection cortical thickness datum non imaging marker alzheimer disease ad mini mental state examination score cerebrospinal fluid amyloid beta level reliability study longitudinal adni dataset improvement detection reliability rsm',\n",
       " 'rotation invariance neural network rotation invariance translation invariance great value image recognition task paper bring new architecture convolutional neural network cnn name cyclic convolutional layer achieve rotation invariance symbol recognition position orientation symbol network achieve detection purpose multiple non overlap target architecture achieve shot learn case invariance',\n",
       " 'spherical polyharmonic poisson kernel polyharmonic function introduce develop notion spherical polyharmonic natural generalisation spherical harmonic particular study theory zonal polyharmonic allow analogously zonal harmonic construct poisson kernel polyharmonic function union rotate ball find representation poisson kernel zonal polyharmonic term gegenbauer polynomial connection classical poisson kernel harmonic function ball poisson kernel polyharmonic function union rotate ball cauchy hua kernel holomorphic function lie ball']"
      ]
     },
     "execution_count": 9,
     "metadata": {},
     "output_type": "execute_result"
    }
   ],
   "source": [
    "cleaned_text=pd.read_csv(\"cleaned_text_2.csv\")\n",
    "cleaned_text=list(cleaned_text['0'].values)\n",
    "cleaned_text[:3]"
   ]
  },
  {
   "cell_type": "code",
   "execution_count": 7,
   "id": "804a7fc1",
   "metadata": {},
   "outputs": [
    {
     "data": {
      "text/plain": [
       "20972"
      ]
     },
     "execution_count": 7,
     "metadata": {},
     "output_type": "execute_result"
    }
   ],
   "source": [
    "len(cleaned_text)"
   ]
  },
  {
   "cell_type": "code",
   "execution_count": 10,
   "id": "01cbf05b",
   "metadata": {},
   "outputs": [
    {
     "data": {
      "text/html": [
       "<div>\n",
       "<style scoped>\n",
       "    .dataframe tbody tr th:only-of-type {\n",
       "        vertical-align: middle;\n",
       "    }\n",
       "\n",
       "    .dataframe tbody tr th {\n",
       "        vertical-align: top;\n",
       "    }\n",
       "\n",
       "    .dataframe thead th {\n",
       "        text-align: right;\n",
       "    }\n",
       "</style>\n",
       "<table border=\"1\" class=\"dataframe\">\n",
       "  <thead>\n",
       "    <tr style=\"text-align: right;\">\n",
       "      <th></th>\n",
       "      <th>ID</th>\n",
       "      <th>Computer Science</th>\n",
       "      <th>Physics</th>\n",
       "      <th>Mathematics</th>\n",
       "      <th>Statistics</th>\n",
       "      <th>Quantitative Biology</th>\n",
       "      <th>Quantitative Finance</th>\n",
       "      <th>text</th>\n",
       "      <th>cleaned_text</th>\n",
       "    </tr>\n",
       "  </thead>\n",
       "  <tbody>\n",
       "    <tr>\n",
       "      <th>0</th>\n",
       "      <td>1</td>\n",
       "      <td>1</td>\n",
       "      <td>0</td>\n",
       "      <td>0</td>\n",
       "      <td>0</td>\n",
       "      <td>0</td>\n",
       "      <td>0</td>\n",
       "      <td>Reconstructing Subject-Specific Effect Maps   ...</td>\n",
       "      <td>reconstruct subject specific effect map predic...</td>\n",
       "    </tr>\n",
       "    <tr>\n",
       "      <th>1</th>\n",
       "      <td>2</td>\n",
       "      <td>1</td>\n",
       "      <td>0</td>\n",
       "      <td>0</td>\n",
       "      <td>0</td>\n",
       "      <td>0</td>\n",
       "      <td>0</td>\n",
       "      <td>Rotation Invariance Neural Network   Rotation ...</td>\n",
       "      <td>rotation invariance neural network rotation in...</td>\n",
       "    </tr>\n",
       "    <tr>\n",
       "      <th>2</th>\n",
       "      <td>3</td>\n",
       "      <td>0</td>\n",
       "      <td>0</td>\n",
       "      <td>1</td>\n",
       "      <td>0</td>\n",
       "      <td>0</td>\n",
       "      <td>0</td>\n",
       "      <td>Spherical polyharmonics and Poisson kernels fo...</td>\n",
       "      <td>spherical polyharmonic poisson kernel polyharm...</td>\n",
       "    </tr>\n",
       "    <tr>\n",
       "      <th>3</th>\n",
       "      <td>4</td>\n",
       "      <td>0</td>\n",
       "      <td>0</td>\n",
       "      <td>1</td>\n",
       "      <td>0</td>\n",
       "      <td>0</td>\n",
       "      <td>0</td>\n",
       "      <td>A finite element approximation for the stochas...</td>\n",
       "      <td>finite element approximation stochastic maxwel...</td>\n",
       "    </tr>\n",
       "    <tr>\n",
       "      <th>4</th>\n",
       "      <td>5</td>\n",
       "      <td>1</td>\n",
       "      <td>0</td>\n",
       "      <td>0</td>\n",
       "      <td>1</td>\n",
       "      <td>0</td>\n",
       "      <td>0</td>\n",
       "      <td>Comparative study of Discrete Wavelet Transfor...</td>\n",
       "      <td>comparative study discrete wavelet transform w...</td>\n",
       "    </tr>\n",
       "  </tbody>\n",
       "</table>\n",
       "</div>"
      ],
      "text/plain": [
       "   ID  Computer Science  Physics  Mathematics  Statistics  \\\n",
       "0   1                 1        0            0           0   \n",
       "1   2                 1        0            0           0   \n",
       "2   3                 0        0            1           0   \n",
       "3   4                 0        0            1           0   \n",
       "4   5                 1        0            0           1   \n",
       "\n",
       "   Quantitative Biology  Quantitative Finance  \\\n",
       "0                     0                     0   \n",
       "1                     0                     0   \n",
       "2                     0                     0   \n",
       "3                     0                     0   \n",
       "4                     0                     0   \n",
       "\n",
       "                                                text  \\\n",
       "0  Reconstructing Subject-Specific Effect Maps   ...   \n",
       "1  Rotation Invariance Neural Network   Rotation ...   \n",
       "2  Spherical polyharmonics and Poisson kernels fo...   \n",
       "3  A finite element approximation for the stochas...   \n",
       "4  Comparative study of Discrete Wavelet Transfor...   \n",
       "\n",
       "                                        cleaned_text  \n",
       "0  reconstruct subject specific effect map predic...  \n",
       "1  rotation invariance neural network rotation in...  \n",
       "2  spherical polyharmonic poisson kernel polyharm...  \n",
       "3  finite element approximation stochastic maxwel...  \n",
       "4  comparative study discrete wavelet transform w...  "
      ]
     },
     "execution_count": 10,
     "metadata": {},
     "output_type": "execute_result"
    }
   ],
   "source": [
    "train_df['cleaned_text']=cleaned_text\n",
    "train_df.head()"
   ]
  },
  {
   "cell_type": "code",
   "execution_count": 11,
   "id": "46a414e6",
   "metadata": {},
   "outputs": [],
   "source": [
    "X = train_df.loc[:,\"cleaned_text\"]\n",
    "y = train_df.loc[:,categories]"
   ]
  },
  {
   "cell_type": "code",
   "execution_count": 12,
   "id": "c7aa6eae",
   "metadata": {},
   "outputs": [
    {
     "data": {
      "text/plain": [
       "((20972,), (20972, 6))"
      ]
     },
     "execution_count": 12,
     "metadata": {},
     "output_type": "execute_result"
    }
   ],
   "source": [
    "X.shape,y.shape"
   ]
  },
  {
   "cell_type": "markdown",
   "id": "dbc542ad",
   "metadata": {},
   "source": [
    "Checking the lengths of texts and presenting them on a histogram."
   ]
  },
  {
   "cell_type": "code",
   "execution_count": 13,
   "id": "5806e0fb",
   "metadata": {},
   "outputs": [
    {
     "data": {
      "image/png": "[encoded data removed]",
      "text/plain": [
       "<Figure size 432x288 with 1 Axes>"
      ]
     },
     "metadata": {
      "needs_background": "light"
     },
     "output_type": "display_data"
    }
   ],
   "source": [
    "lengths = [len(text.split()) for text in list(X)]\n",
    "\n",
    "plt.hist(lengths, bins='auto')\n",
    "plt.xlabel('Text length')\n",
    "plt.ylabel('Number of occurrences')\n",
    "plt.title('Histogram of text lengths')\n",
    "plt.show()"
   ]
  },
  {
   "cell_type": "code",
   "execution_count": 14,
   "id": "5b864329",
   "metadata": {},
   "outputs": [],
   "source": [
    "X_train,X_test,y_train,y_test=split(X,y,0.2)"
   ]
  },
  {
   "cell_type": "code",
   "execution_count": 15,
   "id": "0205c9c5",
   "metadata": {
    "scrolled": true
   },
   "outputs": [
    {
     "data": {
      "text/plain": [
       "((16777,), (4195,), (16777, 6), (4195, 6))"
      ]
     },
     "execution_count": 15,
     "metadata": {},
     "output_type": "execute_result"
    }
   ],
   "source": [
    "X_train.shape,X_test.shape,y_train.shape,y_test.shape"
   ]
  },
  {
   "cell_type": "markdown",
   "id": "a598d36f",
   "metadata": {},
   "source": [
    "# Tokenization and Padding"
   ]
  },
  {
   "cell_type": "markdown",
   "id": "2547b9ab",
   "metadata": {},
   "source": [
    "Due to the fact that the majority of articles consist of around 100 words, we set the length of our tokens to 100."
   ]
  },
  {
   "cell_type": "code",
   "execution_count": 16,
   "id": "fc58953e",
   "metadata": {},
   "outputs": [],
   "source": [
    "max_length = 100"
   ]
  },
  {
   "cell_type": "code",
   "execution_count": 17,
   "id": "6cc87c77",
   "metadata": {},
   "outputs": [],
   "source": [
    "tokenizer = Tokenizer()\n",
    "tokenizer.fit_on_texts(X_train)\n",
    "X_train_seq = tokenizer.texts_to_sequences(X_train)\n",
    "X_train_pad = pad_sequences(X_train_seq, maxlen=max_length)"
   ]
  },
  {
   "cell_type": "code",
   "execution_count": 18,
   "id": "55409b4b",
   "metadata": {},
   "outputs": [],
   "source": [
    "X_test_seq = tokenizer.texts_to_sequences(X_test)\n",
    "X_test_pad = pad_sequences(X_test_seq, maxlen=max_length)"
   ]
  },
  {
   "cell_type": "code",
   "execution_count": 19,
   "id": "4f8e7b6f",
   "metadata": {},
   "outputs": [
    {
     "name": "stdout",
     "output_type": "stream",
     "text": [
      "[2602, 770, 2129, 960, 2602, 770, 212, 239, 1780, 770, 66, 344, 2, 331, 333, 581, 119, 28, 838, 22, 1627, 2602, 770, 428, 2129, 1045, 2, 7, 121, 28, 12, 647, 3312, 8, 10, 2602, 770, 268, 3, 27, 166, 1646, 2602, 770, 476, 6844, 3008, 24902, 56, 590, 40]\n"
     ]
    }
   ],
   "source": [
    "print(X_test_seq[1])"
   ]
  },
  {
   "cell_type": "code",
   "execution_count": 20,
   "id": "53dad4d7",
   "metadata": {},
   "outputs": [
    {
     "name": "stdout",
     "output_type": "stream",
     "text": [
      "[    0     0     0     0     0     0     0     0     0     0     0     0\n",
      "     0     0     0  1408    42   245    14    82  4693     6  2498   756\n",
      "    46  4005  4470  2894   756  4243  6378   190  4693     6   756   833\n",
      "    46  4005  4470  2894   756   756  1764    40  1764  1385 26420  3206\n",
      "  4470  1033 16698 12657  6378  2933  1795 16698 16698  3206  4470  1033\n",
      " 26421 12657  6378  2933  1795   182  1385   182    40 12657  6378 26422\n",
      "  6378  1650  4693     6   711    41  1196    46  4005  4470  2894  1196\n",
      "    24  2498  2124  1196   833    46  4005  4470  4005  6379  2894   756\n",
      "  4177  1988   250   309]\n"
     ]
    }
   ],
   "source": [
    "print(X_train_pad[1])"
   ]
  },
  {
   "cell_type": "markdown",
   "id": "20dfca21",
   "metadata": {},
   "source": [
    "# Creating an LSTM model with an Embedding layer"
   ]
  },
  {
   "cell_type": "code",
   "execution_count": 21,
   "id": "45d11a48",
   "metadata": {},
   "outputs": [
    {
     "data": {
      "text/plain": [
       "42134"
      ]
     },
     "execution_count": 21,
     "metadata": {},
     "output_type": "execute_result"
    }
   ],
   "source": [
    "vocab_size = len(tokenizer.word_index) +1\n",
    "embedding_dim = 50\n",
    "vocab_size"
   ]
  },
  {
   "cell_type": "code",
   "execution_count": 24,
   "id": "4e3558b1",
   "metadata": {},
   "outputs": [],
   "source": [
    "from tensorflow.keras.layers import Bidirectional\n",
    "from tensorflow.keras.layers import Dropout\n",
    "\n",
    "model = Sequential()\n",
    "model.add(Embedding(input_dim=vocab_size, output_dim=embedding_dim, input_length=max_length))\n",
    "model.add(Bidirectional(LSTM(units=256, return_sequences=True)))  \n",
    "model.add(Dropout(0.5))\n",
    "model.add(Bidirectional(LSTM(units=128)))\n",
    "model.add(Dropout(0.5))\n",
    "model.add(Dense(units=6, activation='sigmoid'))"
   ]
  },
  {
   "cell_type": "code",
   "execution_count": 25,
   "id": "33b2cda0",
   "metadata": {},
   "outputs": [],
   "source": [
    "model.compile(loss='binary_crossentropy', optimizer='adam', metrics=['accuracy'])"
   ]
  },
  {
   "cell_type": "code",
   "execution_count": 26,
   "id": "e434a4a2",
   "metadata": {},
   "outputs": [
    {
     "name": "stdout",
     "output_type": "stream",
     "text": [
      "Epoch 1/10\n",
      "525/525 [==============================] - 663s 1s/step - loss: 0.3892 - accuracy: 0.5260 - val_loss: 0.3198 - val_accuracy: 0.6515\n",
      "Epoch 2/10\n",
      "525/525 [==============================] - 669s 1s/step - loss: 0.2973 - accuracy: 0.7189 - val_loss: 0.2582 - val_accuracy: 0.7614\n",
      "Epoch 3/10\n",
      "525/525 [==============================] - 562s 1s/step - loss: 0.2322 - accuracy: 0.7917 - val_loss: 0.2575 - val_accuracy: 0.7640\n",
      "Epoch 4/10\n",
      "525/525 [==============================] - 554s 1s/step - loss: 0.1971 - accuracy: 0.8012 - val_loss: 0.2591 - val_accuracy: 0.7385\n",
      "Epoch 5/10\n",
      "525/525 [==============================] - 690s 1s/step - loss: 0.1663 - accuracy: 0.8042 - val_loss: 0.2399 - val_accuracy: 0.7249\n",
      "Epoch 6/10\n",
      "525/525 [==============================] - 691s 1s/step - loss: 0.1430 - accuracy: 0.8071 - val_loss: 0.2362 - val_accuracy: 0.7387\n",
      "Epoch 7/10\n",
      "525/525 [==============================] - 706s 1s/step - loss: 0.1179 - accuracy: 0.8217 - val_loss: 0.2582 - val_accuracy: 0.7476\n",
      "Epoch 8/10\n",
      "525/525 [==============================] - 677s 1s/step - loss: 0.0986 - accuracy: 0.8309 - val_loss: 0.2817 - val_accuracy: 0.7180\n",
      "Epoch 9/10\n",
      "525/525 [==============================] - 731s 1s/step - loss: 0.0853 - accuracy: 0.8384 - val_loss: 0.2908 - val_accuracy: 0.7049\n",
      "Epoch 10/10\n",
      "525/525 [==============================] - 706s 1s/step - loss: 0.0760 - accuracy: 0.8448 - val_loss: 0.2984 - val_accuracy: 0.7094\n"
     ]
    },
    {
     "data": {
      "text/plain": [
       "<keras.callbacks.History at 0x25b6d71f4f0>"
      ]
     },
     "execution_count": 26,
     "metadata": {},
     "output_type": "execute_result"
    }
   ],
   "source": [
    "model.fit(X_train_pad, y_train, batch_size=32, epochs=10, validation_data=(X_test_pad, y_test))"
   ]
  },
  {
   "cell_type": "code",
   "execution_count": 27,
   "id": "93b2f267",
   "metadata": {},
   "outputs": [
    {
     "name": "stdout",
     "output_type": "stream",
     "text": [
      "525/525 [==============================] - 172s 324ms/step\n"
     ]
    }
   ],
   "source": [
    "y_train_pred = model.predict(X_train_pad)"
   ]
  },
  {
   "cell_type": "code",
   "execution_count": 28,
   "id": "aaea45c8",
   "metadata": {},
   "outputs": [
    {
     "name": "stdout",
     "output_type": "stream",
     "text": [
      "132/132 [==============================] - 42s 321ms/step\n"
     ]
    }
   ],
   "source": [
    "y_test_pred = model.predict(X_test_pad)"
   ]
  },
  {
   "cell_type": "code",
   "execution_count": 29,
   "id": "2cac7b77",
   "metadata": {},
   "outputs": [
    {
     "data": {
      "text/plain": [
       "array([[8.5255401e-03, 5.9623141e-02, 1.9396225e-02, 9.7109482e-02,\n",
       "        7.8264230e-01, 4.2296898e-01],\n",
       "       [1.3079192e-03, 9.2929107e-04, 9.9943107e-01, 1.3610752e-03,\n",
       "        3.4048724e-06, 5.2433512e-05],\n",
       "       [9.9901730e-01, 3.7108262e-03, 3.8049116e-03, 1.2631640e-02,\n",
       "        2.4338296e-04, 2.4616214e-05],\n",
       "       ...,\n",
       "       [1.0720866e-03, 9.9986464e-01, 6.1691279e-04, 3.8052685e-04,\n",
       "        6.1036728e-05, 1.7351505e-05],\n",
       "       [9.9973685e-01, 5.1875523e-04, 1.9005962e-03, 5.6600668e-03,\n",
       "        3.6435220e-05, 3.2833120e-06],\n",
       "       [9.9916679e-01, 6.3497247e-04, 7.9208137e-03, 2.0533251e-02,\n",
       "        8.4774816e-05, 2.4245543e-05]], dtype=float32)"
      ]
     },
     "execution_count": 29,
     "metadata": {},
     "output_type": "execute_result"
    }
   ],
   "source": [
    "y_train_pred"
   ]
  },
  {
   "cell_type": "code",
   "execution_count": 30,
   "id": "89f14723",
   "metadata": {},
   "outputs": [],
   "source": [
    "import numpy as np\n",
    "threshold = 0.7\n",
    "\n",
    "y_train_pred_binary = np.where(y_train_pred >= threshold, 1, 0)\n",
    "y_test_pred_binary = np.where(y_test_pred >= threshold, 1, 0)"
   ]
  },
  {
   "cell_type": "code",
   "execution_count": 31,
   "id": "c2fb6688",
   "metadata": {},
   "outputs": [
    {
     "name": "stdout",
     "output_type": "stream",
     "text": [
      "[1 0 1 1 0 0]\n",
      "[1 0 1 1 0 0]\n",
      "[1 0 1 1 0 0]\n",
      "[1 0 1 1 0 0]\n",
      "[1 0 1 1 0 0]\n",
      "[1 0 1 1 0 0]\n",
      "[1 0 1 1 0 0]\n",
      "[1 0 1 1 0 0]\n",
      "[1 0 1 1 0 0]\n",
      "[1 0 1 1 0 0]\n",
      "[1 0 1 1 0 0]\n",
      "[1 0 1 1 0 0]\n",
      "[1 0 1 1 0 0]\n",
      "[1 0 1 1 0 0]\n",
      "[1 0 1 1 0 0]\n",
      "[1 0 1 1 0 0]\n",
      "[1 0 1 1 0 0]\n",
      "[1 0 1 1 0 0]\n",
      "[1 0 1 1 0 0]\n",
      "[1 0 1 1 0 0]\n",
      "[1 0 1 1 0 0]\n",
      "[1 0 1 1 0 0]\n",
      "[1 0 1 1 0 0]\n",
      "[1 0 1 1 0 0]\n",
      "[1 0 1 1 0 0]\n"
     ]
    }
   ],
   "source": [
    "for row in y_train_pred_binary:\n",
    "    if np.sum(row) >= 3:\n",
    "        print(row)"
   ]
  },
  {
   "cell_type": "code",
   "execution_count": 32,
   "id": "8d408085",
   "metadata": {},
   "outputs": [
    {
     "name": "stdout",
     "output_type": "stream",
     "text": [
      "                      precision    recall  f1-score   support\n",
      "\n",
      "    Computer Science       0.77      0.79      0.78      1692\n",
      "             Physics       0.89      0.81      0.85      1226\n",
      "         Mathematics       0.81      0.73      0.77      1150\n",
      "          Statistics       0.73      0.67      0.70      1069\n",
      "Quantitative Biology       0.31      0.09      0.14       122\n",
      "Quantitative Finance       0.50      0.02      0.04        45\n",
      "\n",
      "           micro avg       0.79      0.73      0.76      5304\n",
      "           macro avg       0.67      0.52      0.55      5304\n",
      "        weighted avg       0.78      0.73      0.75      5304\n",
      "         samples avg       0.78      0.77      0.76      5304\n",
      "\n"
     ]
    },
    {
     "name": "stderr",
     "output_type": "stream",
     "text": [
      "C:\\Users\\LEGION\\anaconda3\\lib\\site-packages\\sklearn\\metrics\\_classification.py:1327: UndefinedMetricWarning: Precision and F-score are ill-defined and being set to 0.0 in samples with no predicted labels. Use `zero_division` parameter to control this behavior.\n",
      "  _warn_prf(average, modifier, msg_start, len(result))\n"
     ]
    }
   ],
   "source": [
    "cr = classification_report(\n",
    "    y_test,\n",
    "    y_test_pred_binary ,\n",
    "    target_names=categories\n",
    ")\n",
    "print(cr)"
   ]
  },
  {
   "cell_type": "code",
   "execution_count": 33,
   "id": "080908fb",
   "metadata": {},
   "outputs": [],
   "source": [
    "from sklearn.metrics import multilabel_confusion_matrix\n",
    "from sklearn.metrics import accuracy_score\n",
    "\n",
    "def plot_confusion_matrix(y_true, y_pred, labels):\n",
    "    c_matrix = multilabel_confusion_matrix(y_true, y_pred)\n",
    "    accuracy_per_class = {}\n",
    "\n",
    "    fig, axs = plt.subplots(nrows=2, ncols=3, figsize=(15, 10))\n",
    "    plt.subplots_adjust(hspace=0.4)\n",
    "\n",
    "    for i, ax in enumerate(axs.flatten()):\n",
    "        if i >= len(labels):\n",
    "            ax.axis('off')\n",
    "            continue\n",
    "\n",
    "        label = labels[i]\n",
    "        tn, fp, fn, tp = c_matrix[i].ravel()\n",
    "\n",
    "        # Calculate accuracy for current class\n",
    "        accuracy = (tp + tn) / (tp + tn + fp + fn)\n",
    "        accuracy_per_class[label] = accuracy\n",
    "\n",
    "        # Plot confusion matrix\n",
    "        sns.heatmap(c_matrix[i] / np.sum(c_matrix[i]), fmt=\".2%\", annot=True, cmap='Blues', ax=ax)\n",
    "        ax.set_title(label, fontsize=14)\n",
    "        ax.set_xlabel('Predicted', fontsize=12)\n",
    "        ax.set_ylabel('Actual', fontsize=12)\n",
    "\n",
    "    plt.tight_layout()\n",
    "    plt.show()\n",
    "\n",
    "    # Print accuracy per class\n",
    "    print(\"Accuracy per class:\")\n",
    "    for label, accuracy in accuracy_per_class.items():\n",
    "        print(label, \":\", accuracy)\n",
    "        \n",
    "    print(\"All accuracy: \", accuracy_score(y_test, y_pred))\n"
   ]
  },
  {
   "cell_type": "code",
   "execution_count": 34,
   "id": "1b668ad3",
   "metadata": {},
   "outputs": [
    {
     "data": {
      "image/png": "[encoded data removed]",
      "text/plain": [
       "<Figure size 1080x720 with 12 Axes>"
      ]
     },
     "metadata": {
      "needs_background": "light"
     },
     "output_type": "display_data"
    },
    {
     "name": "stdout",
     "output_type": "stream",
     "text": [
      "Accuracy per class:\n",
      "Computer Science : 0.8197854588796186\n",
      "Physics : 0.9137067938021454\n",
      "Mathematics : 0.8781883194278903\n",
      "Statistics : 0.8536352800953516\n",
      "Quantitative Biology : 0.967580452920143\n",
      "Quantitative Finance : 0.9892729439809297\n",
      "All accuracy:  0.5873659117997616\n"
     ]
    }
   ],
   "source": [
    "plot_confusion_matrix(y_test, y_test_pred_binary , categories)"
   ]
  },
  {
   "cell_type": "markdown",
   "id": "6b15dd20",
   "metadata": {},
   "source": [
    "# Visualization of results\n"
   ]
  },
  {
   "cell_type": "code",
   "execution_count": 36,
   "id": "85d2db7e",
   "metadata": {},
   "outputs": [],
   "source": [
    "import seaborn as sns\n",
    "from sklearn.metrics import confusion_matrix\n",
    "\n",
    "def plot_confusion_matrix_all(y,y_pred):\n",
    "    c_matrix=confusion_matrix(y,y_pred)\n",
    "\n",
    "    c_matrix=pd.DataFrame(c_matrix,columns=['Computer Science',\n",
    "     'Physics',\n",
    "     'Mathematics',\n",
    "     'Statistics',\n",
    "     'Quantitative Biology',\n",
    "     'Quantitative Finance'],index=['Computer Science',\n",
    "     'Physics',\n",
    "     'Mathematics',\n",
    "     'Statistics',\n",
    "     'Quantitative Biology',\n",
    "     'Quantitative Finance'])\n",
    "\n",
    "    fig,ax=plt.subplots(figsize=(12,12))\n",
    "    sns.set(font_scale=1.4)\n",
    "    sns.heatmap(c_matrix/np.sum(c_matrix),fmt=\"0.2%\",annot=True,cmap=\"Blues\",ax=ax)\n",
    "    ax.set_title(\"Confusion matrix \",fontsize=26)\n",
    "    ax.set_xlabel(\"Predicted\",fontsize=26)\n",
    "    ax.set_ylabel(\"Actual\",fontsize=26)"
   ]
  },
  {
   "cell_type": "code",
   "execution_count": 37,
   "id": "65755e4e",
   "metadata": {},
   "outputs": [
    {
     "name": "stdout",
     "output_type": "stream",
     "text": [
      "[array([[9.99140263e-01, 8.59737396e-04],\n",
      "       [8.83880675e-01, 1.16119325e-01],\n",
      "       [9.98651266e-01, 1.34873390e-03],\n",
      "       ...,\n",
      "       [1.61261682e-03, 9.98387396e-01],\n",
      "       [2.37974199e-03, 9.97620285e-01],\n",
      "       [9.47776973e-01, 5.22230268e-02]], dtype=float32), array([[2.6353097e-03, 9.9736470e-01],\n",
      "       [1.2271230e-02, 9.8772877e-01],\n",
      "       [4.2302818e-03, 9.9576974e-01],\n",
      "       ...,\n",
      "       [7.6436174e-01, 2.3563826e-01],\n",
      "       [9.9985927e-01, 1.4072657e-04],\n",
      "       [3.4239948e-02, 9.6576005e-01]], dtype=float32), array([[1.5056612e-03, 9.9849433e-01],\n",
      "       [6.6809803e-01, 3.3190197e-01],\n",
      "       [6.4726276e-03, 9.9352735e-01],\n",
      "       ...,\n",
      "       [9.7955883e-01, 2.0441175e-02],\n",
      "       [7.9100940e-04, 9.9920899e-01],\n",
      "       [1.1800957e-01, 8.8199043e-01]], dtype=float32), array([[2.7752431e-02, 9.7224754e-01],\n",
      "       [8.0447957e-02, 9.1955203e-01],\n",
      "       [2.4813583e-02, 9.7518641e-01],\n",
      "       ...,\n",
      "       [2.1257207e-03, 9.9787426e-01],\n",
      "       [4.2808495e-04, 9.9957192e-01],\n",
      "       [1.0561075e-01, 8.9438927e-01]], dtype=float32), array([[2.1713266e-04, 9.9978286e-01],\n",
      "       [2.5848467e-02, 9.7415155e-01],\n",
      "       [5.9522950e-04, 9.9940479e-01],\n",
      "       ...,\n",
      "       [3.3753092e-04, 9.9966246e-01],\n",
      "       [1.1259062e-04, 9.9988741e-01],\n",
      "       [4.1338630e-02, 9.5866138e-01]], dtype=float32), array([[1.0410792e-05, 9.9998957e-01],\n",
      "       [5.3432122e-02, 9.4656789e-01],\n",
      "       [5.1596089e-05, 9.9994838e-01],\n",
      "       ...,\n",
      "       [6.3854400e-03, 9.9361455e-01],\n",
      "       [2.1265672e-05, 9.9997872e-01],\n",
      "       [9.1204653e-03, 9.9087954e-01]], dtype=float32)]\n"
     ]
    }
   ],
   "source": [
    "result = []\n",
    "\n",
    "for i in range(6):\n",
    "    sub_matrix = np.column_stack((y_test_pred[:, i], 1 - y_test_pred[:, i]))\n",
    "    result.append(sub_matrix)\n",
    "\n",
    "print(result)"
   ]
  },
  {
   "cell_type": "code",
   "execution_count": 38,
   "id": "b6f5c28e",
   "metadata": {},
   "outputs": [],
   "source": [
    "y_test_1 = y_test"
   ]
  },
  {
   "cell_type": "code",
   "execution_count": 39,
   "id": "26d2adea",
   "metadata": {},
   "outputs": [],
   "source": [
    "y_test = y_test.values"
   ]
  },
  {
   "cell_type": "code",
   "execution_count": 40,
   "id": "6df02f16",
   "metadata": {},
   "outputs": [],
   "source": [
    "from collections import defaultdict\n",
    "import numpy as np\n",
    "import pandas as pd\n",
    "def matrix_prob(y_test, result):\n",
    "#     y_test = y_test.values\n",
    "\n",
    "    # Assuming predicted_probabilities and y_test are available\n",
    "    class_names = ['Computer Science', 'Physics', 'Mathematics', 'Statistics', 'Quantitative Biology', 'Quantitative Finance']\n",
    "    num_classes = len(class_names)\n",
    "\n",
    "    class_assignments = defaultdict(lambda: defaultdict(float))\n",
    "    class_counts = np.zeros(num_classes)  # Count of occurrences for each class\n",
    "\n",
    "    # Get the predicted probabilities from the best_model\n",
    "    predicted_probabilities = result\n",
    "\n",
    "\n",
    "    for i, array in enumerate(predicted_probabilities):\n",
    "\n",
    "        for j, row in enumerate(array):\n",
    "            true_class = y_test[j]\n",
    "            for k, label in enumerate(true_class):\n",
    "                if label == 1:\n",
    "                    class_assignments[k][i] += row[1]\n",
    "                    class_counts[k] += 1\n",
    "\n",
    "    # Calculate average probabilities for each class-to-class assignment\n",
    "    class_average_probabilities = np.zeros((num_classes, num_classes))\n",
    "\n",
    "    for i in range(num_classes):\n",
    "        for j in range(num_classes):\n",
    "            if class_counts[i] != 0:\n",
    "                class_average_probabilities[i][j] = class_assignments[i][j] / class_counts[i]\n",
    "\n",
    "    # Normalize the probabilities for each class\n",
    "    class_sums = np.sum(class_average_probabilities, axis=1, keepdims=True)\n",
    "    class_average_probabilities /= class_sums\n",
    "\n",
    "    # Convert the results to a DataFrame\n",
    "    df = pd.DataFrame(class_average_probabilities, columns=class_names, index=class_names)\n",
    "\n",
    "    # Print the DataFrame or use it for further analysis\n",
    "    df"
   ]
  },
  {
   "cell_type": "code",
   "execution_count": 41,
   "id": "7dc8e744",
   "metadata": {},
   "outputs": [
    {
     "data": {
      "text/html": [
       "<div>\n",
       "<style scoped>\n",
       "    .dataframe tbody tr th:only-of-type {\n",
       "        vertical-align: middle;\n",
       "    }\n",
       "\n",
       "    .dataframe tbody tr th {\n",
       "        vertical-align: top;\n",
       "    }\n",
       "\n",
       "    .dataframe thead th {\n",
       "        text-align: right;\n",
       "    }\n",
       "</style>\n",
       "<table border=\"1\" class=\"dataframe\">\n",
       "  <thead>\n",
       "    <tr style=\"text-align: right;\">\n",
       "      <th></th>\n",
       "      <th>Computer Science</th>\n",
       "      <th>Physics</th>\n",
       "      <th>Mathematics</th>\n",
       "      <th>Statistics</th>\n",
       "      <th>Quantitative Biology</th>\n",
       "      <th>Quantitative Finance</th>\n",
       "    </tr>\n",
       "  </thead>\n",
       "  <tbody>\n",
       "    <tr>\n",
       "      <th>Computer Science</th>\n",
       "      <td>0.041315</td>\n",
       "      <td>0.202143</td>\n",
       "      <td>0.187630</td>\n",
       "      <td>0.139670</td>\n",
       "      <td>0.212999</td>\n",
       "      <td>0.216243</td>\n",
       "    </tr>\n",
       "    <tr>\n",
       "      <th>Physics</th>\n",
       "      <td>0.173740</td>\n",
       "      <td>0.034708</td>\n",
       "      <td>0.189801</td>\n",
       "      <td>0.199589</td>\n",
       "      <td>0.199161</td>\n",
       "      <td>0.203001</td>\n",
       "    </tr>\n",
       "    <tr>\n",
       "      <th>Mathematics</th>\n",
       "      <td>0.164310</td>\n",
       "      <td>0.192950</td>\n",
       "      <td>0.051121</td>\n",
       "      <td>0.169469</td>\n",
       "      <td>0.211522</td>\n",
       "      <td>0.210628</td>\n",
       "    </tr>\n",
       "    <tr>\n",
       "      <th>Statistics</th>\n",
       "      <td>0.090826</td>\n",
       "      <td>0.219160</td>\n",
       "      <td>0.178916</td>\n",
       "      <td>0.067833</td>\n",
       "      <td>0.219772</td>\n",
       "      <td>0.223494</td>\n",
       "    </tr>\n",
       "    <tr>\n",
       "      <th>Quantitative Biology</th>\n",
       "      <td>0.113357</td>\n",
       "      <td>0.158423</td>\n",
       "      <td>0.206951</td>\n",
       "      <td>0.147108</td>\n",
       "      <td>0.169890</td>\n",
       "      <td>0.204272</td>\n",
       "    </tr>\n",
       "    <tr>\n",
       "      <th>Quantitative Finance</th>\n",
       "      <td>0.161300</td>\n",
       "      <td>0.187075</td>\n",
       "      <td>0.173240</td>\n",
       "      <td>0.125913</td>\n",
       "      <td>0.174045</td>\n",
       "      <td>0.178427</td>\n",
       "    </tr>\n",
       "  </tbody>\n",
       "</table>\n",
       "</div>"
      ],
      "text/plain": [
       "                      Computer Science   Physics  Mathematics  Statistics  \\\n",
       "Computer Science              0.041315  0.202143     0.187630    0.139670   \n",
       "Physics                       0.173740  0.034708     0.189801    0.199589   \n",
       "Mathematics                   0.164310  0.192950     0.051121    0.169469   \n",
       "Statistics                    0.090826  0.219160     0.178916    0.067833   \n",
       "Quantitative Biology          0.113357  0.158423     0.206951    0.147108   \n",
       "Quantitative Finance          0.161300  0.187075     0.173240    0.125913   \n",
       "\n",
       "                      Quantitative Biology  Quantitative Finance  \n",
       "Computer Science                  0.212999              0.216243  \n",
       "Physics                           0.199161              0.203001  \n",
       "Mathematics                       0.211522              0.210628  \n",
       "Statistics                        0.219772              0.223494  \n",
       "Quantitative Biology              0.169890              0.204272  \n",
       "Quantitative Finance              0.174045              0.178427  "
      ]
     },
     "execution_count": 41,
     "metadata": {},
     "output_type": "execute_result"
    }
   ],
   "source": [
    "df = matrix_prob(y_test, result)\n",
    "df"
   ]
  },
  {
   "cell_type": "code",
   "execution_count": 42,
   "id": "47fffc03",
   "metadata": {},
   "outputs": [],
   "source": [
    "# Create a heatmap\n",
    "def heatmap_prob(df):\n",
    "    plt.figure(figsize=(10, 8))\n",
    "    sns.heatmap(df, annot=True, cmap='YlGnBu', fmt='.2f', cbar=True)\n",
    "    plt.title('Class-to-Class Assignment Probabilities')\n",
    "    plt.xlabel('Assigned Class')\n",
    "    plt.ylabel('True Class')\n",
    "    plt.xticks(rotation=45, ha='right')\n",
    "    plt.yticks(rotation=0)\n",
    "    plt.tight_layout()\n",
    "    plt.show()"
   ]
  },
  {
   "cell_type": "code",
   "execution_count": 43,
   "id": "6592479a",
   "metadata": {},
   "outputs": [
    {
     "data": {
      "image/png": "[encoded data removed]",
      "text/plain": [
       "<Figure size 720x576 with 2 Axes>"
      ]
     },
     "metadata": {
      "needs_background": "light"
     },
     "output_type": "display_data"
    }
   ],
   "source": [
    "heatmap_prob(df)"
   ]
  },
  {
   "cell_type": "markdown",
   "id": "8a3577f7",
   "metadata": {},
   "source": [
    "# Undersampling"
   ]
  },
  {
   "cell_type": "code",
   "execution_count": 44,
   "id": "fc4c4963",
   "metadata": {},
   "outputs": [],
   "source": [
    "# Inicjalizacja słownika, który przechowuje liczność wierszy dla każdej kategorii\n",
    "category_counts = {}\n",
    "\n",
    "# Przejście przez każdą kategorię\n",
    "for category in train_df.columns[1:-1]:\n",
    "    # Wybieranie wierszy dla danej kategorii\n",
    "    category_data = train_df[train_df[category] == 1]\n",
    "\n",
    "    # Sprawdzanie, czy liczba wierszy w kategorii jest większa lub równa 249\n",
    "    if len(category_data) >= 249:\n",
    "        # Wybieranie losowych 249 wierszy\n",
    "        category_data = category_data.sample(n=249, random_state=42)\n",
    "    else:\n",
    "        # Wybieranie wszystkich dostępnych wierszy\n",
    "        category_data = category_data\n",
    "\n",
    "    # Dodawanie wybranych wierszy do słownika\n",
    "    category_counts[category] = category_data\n",
    "\n",
    "# Tworzenie równoważnego zbioru danych\n",
    "balanced_data = pd.concat(category_counts.values(), ignore_index=True)"
   ]
  },
  {
   "cell_type": "code",
   "execution_count": 45,
   "id": "6209c664",
   "metadata": {},
   "outputs": [
    {
     "data": {
      "text/plain": [
       "[8594, 6013, 5618, 5206, 587, 249]"
      ]
     },
     "execution_count": 45,
     "metadata": {},
     "output_type": "execute_result"
    }
   ],
   "source": [
    "categories=[\"Computer Science\",\"Physics\",\"Mathematics\",\"Statistics\",\"Quantitative Biology\",\"Quantitative Finance\"]\n",
    "category_count=[]\n",
    "for i in categories:\n",
    "  category_count.append(train_df[i].sum())\n",
    "category_count"
   ]
  },
  {
   "cell_type": "code",
   "execution_count": 46,
   "id": "ba10afc8",
   "metadata": {},
   "outputs": [],
   "source": [
    "categories=[\"Computer Science\",\"Physics\",\"Mathematics\",\"Statistics\",\"Quantitative Biology\",\"Quantitative Finance\"]\n",
    "category_count_balanced=[]\n",
    "for i in categories:\n",
    "  category_count_balanced.append(balanced_data[i].sum())"
   ]
  },
  {
   "cell_type": "code",
   "execution_count": 47,
   "id": "423849d5",
   "metadata": {},
   "outputs": [
    {
     "data": {
      "text/plain": [
       "Text(0.5, 1.0, 'Number of articles in each category')"
      ]
     },
     "execution_count": 47,
     "metadata": {},
     "output_type": "execute_result"
    },
    {
     "data": {
      "image/png": "[encoded data removed]",
      "text/plain": [
       "<Figure size 1080x360 with 1 Axes>"
      ]
     },
     "metadata": {
      "needs_background": "light"
     },
     "output_type": "display_data"
    }
   ],
   "source": [
    "plt.figure(figsize=(15,5))\n",
    "plt.bar(categories,category_count_balanced)\n",
    "plt.title(\"Number of articles in each category\")"
   ]
  },
  {
   "cell_type": "code",
   "execution_count": 48,
   "id": "168d37ea",
   "metadata": {},
   "outputs": [],
   "source": [
    "X_train,X_test,y_train,y_test=split(balanced_data.loc[:,\"cleaned_text\"],balanced_data.loc[:,categories],0.2)"
   ]
  },
  {
   "cell_type": "code",
   "execution_count": 49,
   "id": "176fadfc",
   "metadata": {},
   "outputs": [],
   "source": [
    "tokenizer = Tokenizer()\n",
    "tokenizer.fit_on_texts(X_train)"
   ]
  },
  {
   "cell_type": "code",
   "execution_count": 50,
   "id": "993b8f3f",
   "metadata": {},
   "outputs": [],
   "source": [
    "X_train_seq = tokenizer.texts_to_sequences(X_train)\n",
    "X_train_pad = pad_sequences(X_train_seq, maxlen=max_length)"
   ]
  },
  {
   "cell_type": "code",
   "execution_count": 51,
   "id": "71ba23a7",
   "metadata": {},
   "outputs": [],
   "source": [
    "X_test_seq = tokenizer.texts_to_sequences(X_test)\n",
    "X_test_pad = pad_sequences(X_test_seq, maxlen=max_length)"
   ]
  },
  {
   "cell_type": "markdown",
   "id": "19f3c9a7",
   "metadata": {},
   "source": [
    "# LSTM model "
   ]
  },
  {
   "cell_type": "code",
   "execution_count": 52,
   "id": "e5a64571",
   "metadata": {},
   "outputs": [],
   "source": [
    "model = Sequential()\n",
    "model.add(Embedding(input_dim=vocab_size, output_dim=embedding_dim, input_length=max_length))\n",
    "model.add(Bidirectional(LSTM(units=256, return_sequences=True)))  \n",
    "model.add(Dropout(0.5))\n",
    "model.add(Bidirectional(LSTM(units=128)))\n",
    "model.add(Dropout(0.5))\n",
    "model.add(Dense(units=6, activation='sigmoid'))\n",
    "\n",
    "model.compile(loss='binary_crossentropy', optimizer='adam', metrics=['accuracy'])"
   ]
  },
  {
   "cell_type": "code",
   "execution_count": 53,
   "id": "09fbb8eb",
   "metadata": {
    "scrolled": true
   },
   "outputs": [
    {
     "name": "stdout",
     "output_type": "stream",
     "text": [
      "Epoch 1/10\n",
      "38/38 [==============================] - 53s 1s/step - loss: 0.5657 - accuracy: 0.2042 - val_loss: 0.5313 - val_accuracy: 0.2943\n",
      "Epoch 2/10\n",
      "38/38 [==============================] - 37s 969ms/step - loss: 0.5230 - accuracy: 0.2904 - val_loss: 0.4883 - val_accuracy: 0.3144\n",
      "Epoch 3/10\n",
      "38/38 [==============================] - 45s 1s/step - loss: 0.4541 - accuracy: 0.4318 - val_loss: 0.4443 - val_accuracy: 0.4783\n",
      "Epoch 4/10\n",
      "38/38 [==============================] - 49s 1s/step - loss: 0.3467 - accuracy: 0.6335 - val_loss: 0.3868 - val_accuracy: 0.5953\n",
      "Epoch 5/10\n",
      "38/38 [==============================] - 50s 1s/step - loss: 0.2630 - accuracy: 0.7515 - val_loss: 0.3729 - val_accuracy: 0.5585\n",
      "Epoch 6/10\n",
      "38/38 [==============================] - 48s 1s/step - loss: 0.2061 - accuracy: 0.7992 - val_loss: 0.3889 - val_accuracy: 0.5719\n",
      "Epoch 7/10\n",
      "38/38 [==============================] - 50s 1s/step - loss: 0.1497 - accuracy: 0.8318 - val_loss: 0.4302 - val_accuracy: 0.5318\n",
      "Epoch 8/10\n",
      "38/38 [==============================] - 52s 1s/step - loss: 0.1242 - accuracy: 0.8368 - val_loss: 0.4463 - val_accuracy: 0.5652\n",
      "Epoch 9/10\n",
      "38/38 [==============================] - 50s 1s/step - loss: 0.0973 - accuracy: 0.8536 - val_loss: 0.4604 - val_accuracy: 0.5518\n",
      "Epoch 10/10\n",
      "38/38 [==============================] - 51s 1s/step - loss: 0.0703 - accuracy: 0.8285 - val_loss: 0.5234 - val_accuracy: 0.5017\n"
     ]
    }
   ],
   "source": [
    "undersampling_history = model.fit(X_train_pad, y_train, batch_size=32, epochs=10, validation_data=(X_test_pad, y_test))"
   ]
  },
  {
   "cell_type": "code",
   "execution_count": 54,
   "id": "0f8f5e06",
   "metadata": {},
   "outputs": [
    {
     "name": "stdout",
     "output_type": "stream",
     "text": [
      "38/38 [==============================] - 15s 303ms/step\n"
     ]
    }
   ],
   "source": [
    "y_train_pred_u = model.predict(X_train_pad)"
   ]
  },
  {
   "cell_type": "code",
   "execution_count": 55,
   "id": "d1399fbb",
   "metadata": {},
   "outputs": [
    {
     "name": "stdout",
     "output_type": "stream",
     "text": [
      "10/10 [==============================] - 3s 252ms/step\n"
     ]
    }
   ],
   "source": [
    "y_test_pred_u = model.predict(X_test_pad)"
   ]
  },
  {
   "cell_type": "code",
   "execution_count": 56,
   "id": "919ed2be",
   "metadata": {},
   "outputs": [],
   "source": [
    "import numpy as np\n",
    "threshold = 0.7\n",
    "\n",
    "y_train_pred_binary_u = np.where(y_train_pred_u >= threshold, 1, 0)\n",
    "y_test_pred_binary_u = np.where(y_test_pred_u >= threshold, 1, 0)"
   ]
  },
  {
   "cell_type": "code",
   "execution_count": 57,
   "id": "63814d11",
   "metadata": {},
   "outputs": [
    {
     "name": "stdout",
     "output_type": "stream",
     "text": [
      "                      precision    recall  f1-score   support\n",
      "\n",
      "    Computer Science       0.58      0.45      0.51        88\n",
      "             Physics       0.90      0.42      0.57        64\n",
      "         Mathematics       0.76      0.66      0.71        62\n",
      "          Statistics       0.71      0.56      0.62        88\n",
      "Quantitative Biology       0.59      0.59      0.59        58\n",
      "Quantitative Finance       0.67      0.73      0.70        49\n",
      "\n",
      "           micro avg       0.68      0.56      0.61       409\n",
      "           macro avg       0.70      0.57      0.62       409\n",
      "        weighted avg       0.70      0.56      0.61       409\n",
      "         samples avg       0.63      0.58      0.59       409\n",
      "\n"
     ]
    },
    {
     "name": "stderr",
     "output_type": "stream",
     "text": [
      "C:\\Users\\LEGION\\anaconda3\\lib\\site-packages\\sklearn\\metrics\\_classification.py:1327: UndefinedMetricWarning: Precision and F-score are ill-defined and being set to 0.0 in samples with no predicted labels. Use `zero_division` parameter to control this behavior.\n",
      "  _warn_prf(average, modifier, msg_start, len(result))\n"
     ]
    }
   ],
   "source": [
    "cr = classification_report(\n",
    "    y_test,\n",
    "    y_test_pred_binary_u ,\n",
    "    target_names=categories\n",
    ")\n",
    "print(cr)"
   ]
  },
  {
   "cell_type": "code",
   "execution_count": 58,
   "id": "ecbe77c6",
   "metadata": {},
   "outputs": [
    {
     "data": {
      "image/png": "[encoded data removed]",
      "text/plain": [
       "<Figure size 1080x720 with 12 Axes>"
      ]
     },
     "metadata": {
      "needs_background": "light"
     },
     "output_type": "display_data"
    },
    {
     "name": "stdout",
     "output_type": "stream",
     "text": [
      "Accuracy per class:\n",
      "Computer Science : 0.7424749163879598\n",
      "Physics : 0.8662207357859532\n",
      "Mathematics : 0.8862876254180602\n",
      "Statistics : 0.802675585284281\n",
      "Quantitative Biology : 0.8394648829431438\n",
      "Quantitative Finance : 0.8963210702341137\n",
      "All accuracy:  0.4414715719063545\n"
     ]
    }
   ],
   "source": [
    "plot_confusion_matrix(y_test, y_test_pred_binary_u , categories)"
   ]
  },
  {
   "cell_type": "code",
   "execution_count": 59,
   "id": "b09f0a28",
   "metadata": {},
   "outputs": [
    {
     "name": "stdout",
     "output_type": "stream",
     "text": [
      "[array([[8.03319514e-02, 9.19668078e-01],\n",
      "       [8.13931763e-01, 1.86068237e-01],\n",
      "       [1.73958868e-03, 9.98260438e-01],\n",
      "       [9.95136321e-01, 4.86367941e-03],\n",
      "       [1.19989008e-01, 8.80010962e-01],\n",
      "       [9.69593048e-01, 3.04069519e-02],\n",
      "       [5.46741532e-03, 9.94532585e-01],\n",
      "       [7.93956406e-03, 9.92060423e-01],\n",
      "       [1.02918856e-02, 9.89708126e-01],\n",
      "       [7.55810916e-01, 2.44189084e-01],\n",
      "       [9.85252976e-01, 1.47470236e-02],\n",
      "       [8.90662372e-01, 1.09337628e-01],\n",
      "       [1.81996566e-03, 9.98180032e-01],\n",
      "       [1.27164926e-03, 9.98728335e-01],\n",
      "       [2.10709535e-02, 9.78929043e-01],\n",
      "       [4.72328020e-03, 9.95276749e-01],\n",
      "       [9.89882052e-01, 1.01179481e-02],\n",
      "       [2.35259943e-02, 9.76473987e-01],\n",
      "       [2.02040318e-02, 9.79795992e-01],\n",
      "       [3.09761669e-02, 9.69023824e-01],\n",
      "       [7.22188592e-01, 2.77811408e-01],\n",
      "       [9.84089077e-01, 1.59109235e-02],\n",
      "       [9.97650683e-01, 2.34931707e-03],\n",
      "       [5.81794605e-03, 9.94182050e-01],\n",
      "       [5.02841286e-02, 9.49715853e-01],\n",
      "       [9.63223696e-01, 3.67763042e-02],\n",
      "       [2.20458652e-03, 9.97795403e-01],\n",
      "       [3.17187645e-02, 9.68281209e-01],\n",
      "       [1.05936855e-01, 8.94063115e-01],\n",
      "       [3.42752505e-03, 9.96572495e-01],\n",
      "       [9.97491777e-01, 2.50822306e-03],\n",
      "       [6.70155883e-02, 9.32984412e-01],\n",
      "       [1.92072213e-01, 8.07927787e-01],\n",
      "       [2.59825528e-01, 7.40174472e-01],\n",
      "       [9.96207118e-01, 3.79288197e-03],\n",
      "       [1.37436450e-01, 8.62563550e-01],\n",
      "       [9.07284953e-03, 9.90927160e-01],\n",
      "       [1.15329161e-01, 8.84670854e-01],\n",
      "       [2.62910016e-02, 9.73708987e-01],\n",
      "       [9.89978015e-01, 1.00219846e-02],\n",
      "       [1.71391889e-02, 9.82860804e-01],\n",
      "       [2.76870430e-02, 9.72312927e-01],\n",
      "       [3.54843661e-02, 9.64515626e-01],\n",
      "       [8.74845028e-01, 1.25154972e-01],\n",
      "       [3.70369363e-03, 9.96296287e-01],\n",
      "       [2.01261695e-02, 9.79873836e-01],\n",
      "       [4.27312292e-02, 9.57268775e-01],\n",
      "       [3.91761474e-02, 9.60823834e-01],\n",
      "       [1.84177943e-02, 9.81582224e-01],\n",
      "       [2.52221543e-02, 9.74777818e-01],\n",
      "       [2.52072692e-01, 7.47927308e-01],\n",
      "       [2.24265736e-02, 9.77573454e-01],\n",
      "       [1.09788023e-01, 8.90211999e-01],\n",
      "       [9.73410066e-03, 9.90265906e-01],\n",
      "       [4.13252180e-03, 9.95867491e-01],\n",
      "       [7.00936973e-01, 2.99063027e-01],\n",
      "       [9.60586011e-01, 3.94139886e-02],\n",
      "       [3.95538844e-03, 9.96044636e-01],\n",
      "       [9.14266765e-01, 8.57332349e-02],\n",
      "       [9.55843687e-01, 4.41563129e-02],\n",
      "       [2.59277653e-02, 9.74072218e-01],\n",
      "       [9.78201861e-04, 9.99021769e-01],\n",
      "       [5.15724309e-02, 9.48427558e-01],\n",
      "       [1.62497219e-02, 9.83750284e-01],\n",
      "       [1.62031304e-03, 9.98379707e-01],\n",
      "       [9.83593881e-01, 1.64061189e-02],\n",
      "       [8.22353736e-02, 9.17764604e-01],\n",
      "       [2.33149119e-02, 9.76685107e-01],\n",
      "       [3.99533622e-02, 9.60046649e-01],\n",
      "       [3.87644372e-03, 9.96123552e-01],\n",
      "       [9.68762577e-01, 3.12374234e-02],\n",
      "       [6.54063420e-03, 9.93459344e-01],\n",
      "       [3.23135294e-02, 9.67686474e-01],\n",
      "       [1.98674321e-01, 8.01325679e-01],\n",
      "       [1.60958711e-02, 9.83904123e-01],\n",
      "       [9.14689898e-02, 9.08531010e-01],\n",
      "       [1.77115928e-02, 9.82288420e-01],\n",
      "       [8.84068012e-01, 1.15931988e-01],\n",
      "       [4.22849953e-02, 9.57715034e-01],\n",
      "       [2.95190397e-03, 9.97048080e-01],\n",
      "       [1.41044930e-02, 9.85895514e-01],\n",
      "       [9.58916783e-01, 4.10832167e-02],\n",
      "       [2.44588535e-02, 9.75541174e-01],\n",
      "       [2.67437170e-03, 9.97325599e-01],\n",
      "       [1.77511927e-02, 9.82248783e-01],\n",
      "       [9.64796245e-01, 3.52037549e-02],\n",
      "       [2.82016963e-01, 7.17983007e-01],\n",
      "       [1.49821606e-03, 9.98501778e-01],\n",
      "       [9.42253232e-01, 5.77467680e-02],\n",
      "       [5.87417558e-02, 9.41258252e-01],\n",
      "       [9.82342005e-01, 1.76579952e-02],\n",
      "       [1.01752393e-03, 9.98982489e-01],\n",
      "       [1.69592991e-03, 9.98304069e-01],\n",
      "       [7.57401530e-03, 9.92425978e-01],\n",
      "       [7.87604321e-03, 9.92123961e-01],\n",
      "       [4.52537835e-03, 9.95474637e-01],\n",
      "       [7.26325298e-03, 9.92736757e-01],\n",
      "       [9.60248530e-01, 3.97514701e-02],\n",
      "       [9.96648967e-01, 3.35103273e-03],\n",
      "       [2.48156577e-01, 7.51843452e-01],\n",
      "       [2.04821527e-01, 7.95178473e-01],\n",
      "       [5.87674156e-02, 9.41232562e-01],\n",
      "       [1.65067310e-03, 9.98349309e-01],\n",
      "       [1.46124847e-02, 9.85387504e-01],\n",
      "       [1.60987757e-03, 9.98390138e-01],\n",
      "       [2.29518581e-02, 9.77048159e-01],\n",
      "       [2.09009950e-03, 9.97909904e-01],\n",
      "       [9.91616696e-02, 9.00838315e-01],\n",
      "       [9.82387304e-01, 1.76126957e-02],\n",
      "       [7.01354071e-02, 9.29864585e-01],\n",
      "       [5.62989712e-03, 9.94370103e-01],\n",
      "       [1.91451013e-01, 8.08548987e-01],\n",
      "       [2.30362266e-01, 7.69637704e-01],\n",
      "       [9.00076807e-01, 9.99231935e-02],\n",
      "       [9.96153951e-01, 3.84604931e-03],\n",
      "       [4.83162254e-01, 5.16837716e-01],\n",
      "       [7.85554424e-02, 9.21444535e-01],\n",
      "       [2.12414423e-03, 9.97875869e-01],\n",
      "       [9.29533362e-01, 7.04666376e-02],\n",
      "       [1.92847904e-02, 9.80715215e-01],\n",
      "       [5.09955734e-03, 9.94900465e-01],\n",
      "       [1.07254773e-01, 8.92745256e-01],\n",
      "       [1.12963340e-03, 9.98870373e-01],\n",
      "       [5.88411058e-04, 9.99411583e-01],\n",
      "       [9.81079876e-01, 1.89201236e-02],\n",
      "       [2.28722091e-03, 9.97712791e-01],\n",
      "       [4.88388501e-02, 9.51161146e-01],\n",
      "       [5.69889173e-02, 9.43011105e-01],\n",
      "       [9.75466706e-03, 9.90245342e-01],\n",
      "       [2.85457335e-02, 9.71454263e-01],\n",
      "       [7.96165466e-02, 9.20383453e-01],\n",
      "       [2.47860208e-01, 7.52139807e-01],\n",
      "       [8.18015784e-02, 9.18198407e-01],\n",
      "       [9.78985131e-01, 2.10148692e-02],\n",
      "       [1.24977954e-01, 8.75022054e-01],\n",
      "       [1.03807233e-01, 8.96192789e-01],\n",
      "       [3.07164729e-01, 6.92835271e-01],\n",
      "       [7.16804504e-01, 2.83195496e-01],\n",
      "       [9.88030970e-01, 1.19690299e-02],\n",
      "       [4.85754125e-02, 9.51424599e-01],\n",
      "       [5.81245981e-02, 9.41875398e-01],\n",
      "       [7.68580707e-03, 9.92314219e-01],\n",
      "       [1.10137300e-03, 9.98898625e-01],\n",
      "       [3.40743130e-03, 9.96592581e-01],\n",
      "       [9.92988050e-01, 7.01195002e-03],\n",
      "       [9.28539991e-01, 7.14600086e-02],\n",
      "       [1.08617224e-01, 8.91382754e-01],\n",
      "       [1.24990230e-03, 9.98750091e-01],\n",
      "       [4.91014030e-03, 9.95089889e-01],\n",
      "       [3.38412970e-01, 6.61587000e-01],\n",
      "       [2.03199666e-02, 9.79680061e-01],\n",
      "       [5.48311369e-03, 9.94516909e-01],\n",
      "       [1.10807056e-02, 9.88919318e-01],\n",
      "       [6.10273778e-01, 3.89726222e-01],\n",
      "       [9.58230555e-01, 4.17694449e-02],\n",
      "       [1.09137334e-02, 9.89086270e-01],\n",
      "       [1.61950514e-01, 8.38049471e-01],\n",
      "       [5.77664096e-03, 9.94223356e-01],\n",
      "       [8.12457800e-02, 9.18754220e-01],\n",
      "       [1.21092526e-02, 9.87890720e-01],\n",
      "       [4.63105626e-02, 9.53689456e-01],\n",
      "       [3.46766233e-01, 6.53233767e-01],\n",
      "       [1.97082618e-03, 9.98029172e-01],\n",
      "       [9.77266669e-01, 2.27333307e-02],\n",
      "       [9.78279710e-01, 2.17202902e-02],\n",
      "       [7.42159367e-01, 2.57840633e-01],\n",
      "       [7.52061838e-03, 9.92479384e-01],\n",
      "       [1.88097171e-03, 9.98119056e-01],\n",
      "       [1.30993696e-02, 9.86900628e-01],\n",
      "       [8.65674857e-03, 9.91343260e-01],\n",
      "       [2.56414618e-02, 9.74358559e-01],\n",
      "       [7.31567204e-01, 2.68432796e-01],\n",
      "       [7.68637121e-01, 2.31362879e-01],\n",
      "       [9.90207255e-01, 9.79274511e-03],\n",
      "       [8.58631909e-01, 1.41368091e-01],\n",
      "       [1.69472734e-03, 9.98305261e-01],\n",
      "       [3.52283195e-02, 9.64771688e-01],\n",
      "       [8.84688739e-03, 9.91153121e-01],\n",
      "       [2.17063865e-03, 9.97829378e-01],\n",
      "       [3.62643111e-03, 9.96373594e-01],\n",
      "       [4.34416309e-02, 9.56558347e-01],\n",
      "       [1.22584235e-02, 9.87741590e-01],\n",
      "       [2.57744193e-02, 9.74225581e-01],\n",
      "       [1.31354937e-02, 9.86864507e-01],\n",
      "       [1.73755782e-03, 9.98262465e-01],\n",
      "       [2.33254671e-01, 7.66745329e-01],\n",
      "       [4.65230225e-03, 9.95347679e-01],\n",
      "       [2.32257426e-01, 7.67742574e-01],\n",
      "       [1.26185492e-02, 9.87381458e-01],\n",
      "       [2.15920154e-02, 9.78407979e-01],\n",
      "       [7.62971997e-01, 2.37028003e-01],\n",
      "       [3.34627986e-01, 6.65372014e-01],\n",
      "       [8.34528685e-01, 1.65471315e-01],\n",
      "       [6.74351513e-01, 3.25648487e-01],\n",
      "       [9.63866949e-01, 3.61330509e-02],\n",
      "       [3.25919390e-02, 9.67408061e-01],\n",
      "       [2.90547550e-01, 7.09452450e-01],\n",
      "       [2.80371751e-03, 9.97196257e-01],\n",
      "       [1.82187848e-03, 9.98178124e-01],\n",
      "       [2.88230568e-01, 7.11769462e-01],\n",
      "       [9.24975984e-03, 9.90750253e-01],\n",
      "       [1.60081536e-02, 9.83991861e-01],\n",
      "       [3.17268148e-02, 9.68273163e-01],\n",
      "       [5.23064971e-01, 4.76935029e-01],\n",
      "       [3.21310456e-03, 9.96786892e-01],\n",
      "       [1.52226659e-02, 9.84777331e-01],\n",
      "       [1.36050209e-02, 9.86395001e-01],\n",
      "       [5.29808760e-01, 4.70191240e-01],\n",
      "       [5.92247881e-02, 9.40775216e-01],\n",
      "       [7.11042527e-03, 9.92889583e-01],\n",
      "       [2.14092154e-02, 9.78590786e-01],\n",
      "       [4.24304558e-03, 9.95756984e-01],\n",
      "       [9.91851211e-01, 8.14878941e-03],\n",
      "       [1.24444850e-02, 9.87555504e-01],\n",
      "       [3.34467739e-03, 9.96655345e-01],\n",
      "       [1.23099948e-03, 9.98768985e-01],\n",
      "       [3.56042734e-03, 9.96439576e-01],\n",
      "       [1.70152576e-03, 9.98298466e-01],\n",
      "       [6.35240823e-02, 9.36475933e-01],\n",
      "       [1.17205285e-01, 8.82794738e-01],\n",
      "       [1.57968048e-02, 9.84203219e-01],\n",
      "       [9.95957911e-01, 4.04208899e-03],\n",
      "       [9.62124020e-03, 9.90378737e-01],\n",
      "       [9.49265182e-01, 5.07348180e-02],\n",
      "       [4.79918569e-01, 5.20081401e-01],\n",
      "       [2.32352361e-01, 7.67647624e-01],\n",
      "       [9.55977499e-01, 4.40225005e-02],\n",
      "       [6.62800763e-03, 9.93371964e-01],\n",
      "       [4.56721336e-03, 9.95432794e-01],\n",
      "       [5.33716679e-01, 4.66283321e-01],\n",
      "       [1.25909403e-01, 8.74090612e-01],\n",
      "       [5.09947091e-02, 9.49005306e-01],\n",
      "       [2.26889434e-03, 9.97731090e-01],\n",
      "       [1.16215856e-03, 9.98837829e-01],\n",
      "       [2.51165242e-03, 9.97488320e-01],\n",
      "       [2.20640488e-02, 9.77935970e-01],\n",
      "       [9.78350937e-01, 2.16490626e-02],\n",
      "       [2.80890852e-01, 7.19109178e-01],\n",
      "       [5.96520118e-03, 9.94034827e-01],\n",
      "       [9.68620367e-03, 9.90313768e-01],\n",
      "       [7.02719092e-02, 9.29728091e-01],\n",
      "       [2.06636339e-02, 9.79336381e-01],\n",
      "       [9.92886722e-01, 7.11327791e-03],\n",
      "       [1.00160288e-02, 9.89983976e-01],\n",
      "       [4.18984098e-03, 9.95810151e-01],\n",
      "       [6.18785433e-02, 9.38121438e-01],\n",
      "       [1.62410345e-02, 9.83758986e-01],\n",
      "       [5.98037802e-03, 9.94019628e-01],\n",
      "       [1.99535832e-01, 8.00464153e-01],\n",
      "       [9.78615463e-01, 2.13845372e-02],\n",
      "       [9.64073062e-01, 3.59269381e-02],\n",
      "       [7.90645331e-02, 9.20935452e-01],\n",
      "       [1.14603236e-01, 8.85396779e-01],\n",
      "       [4.93757546e-01, 5.06242454e-01],\n",
      "       [9.40911412e-01, 5.90885878e-02],\n",
      "       [1.86597258e-02, 9.81340289e-01],\n",
      "       [6.45155879e-03, 9.93548453e-01],\n",
      "       [3.45784761e-02, 9.65421498e-01],\n",
      "       [6.94526136e-01, 3.05473864e-01],\n",
      "       [1.45195909e-02, 9.85480428e-01],\n",
      "       [2.33174548e-01, 7.66825438e-01],\n",
      "       [1.19546487e-03, 9.98804510e-01],\n",
      "       [9.20264602e-01, 7.97353983e-02],\n",
      "       [4.06385884e-02, 9.59361434e-01],\n",
      "       [5.05539123e-03, 9.94944632e-01],\n",
      "       [5.43491263e-03, 9.94565070e-01],\n",
      "       [9.92459953e-01, 7.54004717e-03],\n",
      "       [7.88613874e-03, 9.92113888e-01],\n",
      "       [1.03820125e-02, 9.89618003e-01],\n",
      "       [4.23314720e-02, 9.57668543e-01],\n",
      "       [1.37555376e-02, 9.86244440e-01],\n",
      "       [9.92472827e-01, 7.52717257e-03],\n",
      "       [1.02107354e-01, 8.97892654e-01],\n",
      "       [8.78724694e-01, 1.21275306e-01],\n",
      "       [9.92938399e-01, 7.06160069e-03],\n",
      "       [4.15015174e-03, 9.95849848e-01],\n",
      "       [4.08864254e-03, 9.95911360e-01],\n",
      "       [4.25010286e-02, 9.57498968e-01],\n",
      "       [5.78998402e-02, 9.42100167e-01],\n",
      "       [6.89998828e-03, 9.93099988e-01],\n",
      "       [2.05353126e-02, 9.79464710e-01],\n",
      "       [9.78684306e-01, 2.13156939e-02],\n",
      "       [1.04423858e-01, 8.95576119e-01],\n",
      "       [9.79349673e-01, 2.06503272e-02],\n",
      "       [5.42608136e-03, 9.94573891e-01],\n",
      "       [5.24753844e-03, 9.94752467e-01],\n",
      "       [9.94086266e-03, 9.90059137e-01],\n",
      "       [9.47605312e-01, 5.23946881e-02],\n",
      "       [2.85572209e-03, 9.97144282e-01],\n",
      "       [7.71415280e-03, 9.92285848e-01],\n",
      "       [9.89891112e-01, 1.01088881e-02],\n",
      "       [7.24070191e-01, 2.75929809e-01],\n",
      "       [1.48260137e-02, 9.85174000e-01],\n",
      "       [9.67234135e-01, 3.27658653e-02],\n",
      "       [1.51019320e-01, 8.48980665e-01],\n",
      "       [1.82524286e-02, 9.81747568e-01],\n",
      "       [3.99349153e-01, 6.00650847e-01],\n",
      "       [1.03640265e-03, 9.98963594e-01],\n",
      "       [2.67250482e-02, 9.73274946e-01]], dtype=float32), array([[0.0048663 , 0.9951337 ],\n",
      "       [0.00374176, 0.99625826],\n",
      "       [0.00306173, 0.9969383 ],\n",
      "       [0.00346879, 0.9965312 ],\n",
      "       [0.00270493, 0.9972951 ],\n",
      "       [0.75853515, 0.24146485],\n",
      "       [0.01937691, 0.98062307],\n",
      "       [0.9891646 , 0.01083541],\n",
      "       [0.3213476 , 0.6786524 ],\n",
      "       [0.0027191 , 0.9972809 ],\n",
      "       [0.02164671, 0.97835326],\n",
      "       [0.00197758, 0.99802244],\n",
      "       [0.01358469, 0.9864153 ],\n",
      "       [0.00315777, 0.9968422 ],\n",
      "       [0.00488546, 0.99511456],\n",
      "       [0.9880911 , 0.01190889],\n",
      "       [0.00860951, 0.99139047],\n",
      "       [0.9896904 , 0.01030958],\n",
      "       [0.02712313, 0.97287685],\n",
      "       [0.01081564, 0.9891844 ],\n",
      "       [0.18946671, 0.8105333 ],\n",
      "       [0.00186058, 0.99813944],\n",
      "       [0.00607986, 0.99392015],\n",
      "       [0.01768536, 0.98231465],\n",
      "       [0.0204699 , 0.9795301 ],\n",
      "       [0.00777162, 0.9922284 ],\n",
      "       [0.00229122, 0.9977088 ],\n",
      "       [0.0144909 , 0.9855091 ],\n",
      "       [0.00956504, 0.99043494],\n",
      "       [0.04118744, 0.95881253],\n",
      "       [0.00767517, 0.9923248 ],\n",
      "       [0.01128273, 0.98871726],\n",
      "       [0.10758803, 0.89241195],\n",
      "       [0.00329254, 0.99670744],\n",
      "       [0.01920286, 0.9807971 ],\n",
      "       [0.0047296 , 0.99527043],\n",
      "       [0.97768027, 0.02231973],\n",
      "       [0.00274224, 0.99725777],\n",
      "       [0.9508868 , 0.04911321],\n",
      "       [0.00214418, 0.99785584],\n",
      "       [0.0042604 , 0.9957396 ],\n",
      "       [0.00175894, 0.99824107],\n",
      "       [0.00436667, 0.9956333 ],\n",
      "       [0.07355439, 0.9264456 ],\n",
      "       [0.01503366, 0.98496634],\n",
      "       [0.00439735, 0.99560267],\n",
      "       [0.00551948, 0.9944805 ],\n",
      "       [0.00802251, 0.9919775 ],\n",
      "       [0.45201796, 0.54798204],\n",
      "       [0.02283325, 0.9771668 ],\n",
      "       [0.35279155, 0.64720845],\n",
      "       [0.00839717, 0.99160284],\n",
      "       [0.05178214, 0.94821787],\n",
      "       [0.9889643 , 0.01103568],\n",
      "       [0.00696717, 0.9930328 ],\n",
      "       [0.00708126, 0.9929187 ],\n",
      "       [0.0015276 , 0.9984724 ],\n",
      "       [0.00344983, 0.9965502 ],\n",
      "       [0.00196134, 0.99803865],\n",
      "       [0.61007357, 0.38992643],\n",
      "       [0.700945  , 0.29905498],\n",
      "       [0.0035451 , 0.9964549 ],\n",
      "       [0.02170085, 0.97829914],\n",
      "       [0.00529766, 0.99470234],\n",
      "       [0.01230455, 0.98769546],\n",
      "       [0.00648036, 0.99351966],\n",
      "       [0.00276791, 0.9972321 ],\n",
      "       [0.9826651 , 0.01733488],\n",
      "       [0.00300373, 0.9969963 ],\n",
      "       [0.00817711, 0.9918229 ],\n",
      "       [0.02693372, 0.9730663 ],\n",
      "       [0.01604013, 0.98395985],\n",
      "       [0.01174499, 0.988255  ],\n",
      "       [0.04242789, 0.9575721 ],\n",
      "       [0.00458691, 0.99541306],\n",
      "       [0.00497949, 0.9950205 ],\n",
      "       [0.01420256, 0.98579746],\n",
      "       [0.3915836 , 0.60841644],\n",
      "       [0.00357344, 0.9964266 ],\n",
      "       [0.04597054, 0.95402944],\n",
      "       [0.01115327, 0.9888467 ],\n",
      "       [0.05587893, 0.94412106],\n",
      "       [0.25284803, 0.747152  ],\n",
      "       [0.00525051, 0.9947495 ],\n",
      "       [0.0096529 , 0.9903471 ],\n",
      "       [0.00542685, 0.9945732 ],\n",
      "       [0.00241783, 0.9975822 ],\n",
      "       [0.00301271, 0.9969873 ],\n",
      "       [0.01583042, 0.9841696 ],\n",
      "       [0.00677475, 0.9932253 ],\n",
      "       [0.04167664, 0.95832336],\n",
      "       [0.0222372 , 0.9777628 ],\n",
      "       [0.02827224, 0.9717277 ],\n",
      "       [0.0090612 , 0.9909388 ],\n",
      "       [0.9818928 , 0.01810718],\n",
      "       [0.00634128, 0.9936587 ],\n",
      "       [0.02499552, 0.9750045 ],\n",
      "       [0.0026192 , 0.9973808 ],\n",
      "       [0.0101495 , 0.9898505 ],\n",
      "       [0.03476406, 0.96523595],\n",
      "       [0.00272749, 0.9972725 ],\n",
      "       [0.01480719, 0.98519284],\n",
      "       [0.00295443, 0.9970456 ],\n",
      "       [0.00432219, 0.9956778 ],\n",
      "       [0.00309864, 0.9969014 ],\n",
      "       [0.03371144, 0.96628857],\n",
      "       [0.04496231, 0.9550377 ],\n",
      "       [0.01123911, 0.9887609 ],\n",
      "       [0.0048232 , 0.9951768 ],\n",
      "       [0.00680116, 0.9931988 ],\n",
      "       [0.03917047, 0.96082956],\n",
      "       [0.00704519, 0.9929548 ],\n",
      "       [0.00264563, 0.9973544 ],\n",
      "       [0.00789383, 0.9921062 ],\n",
      "       [0.00413672, 0.99586326],\n",
      "       [0.00685853, 0.9931415 ],\n",
      "       [0.01569465, 0.9843054 ],\n",
      "       [0.01037159, 0.98962843],\n",
      "       [0.0049166 , 0.9950834 ],\n",
      "       [0.00876418, 0.99123585],\n",
      "       [0.010509  , 0.989491  ],\n",
      "       [0.00462728, 0.9953727 ],\n",
      "       [0.00333722, 0.9966628 ],\n",
      "       [0.00892375, 0.99107623],\n",
      "       [0.00351346, 0.99648654],\n",
      "       [0.01362772, 0.9863723 ],\n",
      "       [0.00970126, 0.99029875],\n",
      "       [0.9054405 , 0.09455949],\n",
      "       [0.03368986, 0.96631014],\n",
      "       [0.0193152 , 0.9806848 ],\n",
      "       [0.00837229, 0.9916277 ],\n",
      "       [0.12837659, 0.8716234 ],\n",
      "       [0.01410451, 0.9858955 ],\n",
      "       [0.00839688, 0.99160314],\n",
      "       [0.0184021 , 0.9815979 ],\n",
      "       [0.00708368, 0.99291635],\n",
      "       [0.02002182, 0.9799782 ],\n",
      "       [0.00339325, 0.99660677],\n",
      "       [0.00337291, 0.9966271 ],\n",
      "       [0.59084696, 0.40915304],\n",
      "       [0.00311777, 0.9968822 ],\n",
      "       [0.01685169, 0.98314834],\n",
      "       [0.00413795, 0.99586207],\n",
      "       [0.09961714, 0.9003829 ],\n",
      "       [0.01432504, 0.985675  ],\n",
      "       [0.00955478, 0.9904452 ],\n",
      "       [0.00222841, 0.9977716 ],\n",
      "       [0.00372696, 0.99627304],\n",
      "       [0.00389969, 0.9961003 ],\n",
      "       [0.01351343, 0.98648655],\n",
      "       [0.01332332, 0.9866767 ],\n",
      "       [0.03383794, 0.9661621 ],\n",
      "       [0.00279217, 0.9972078 ],\n",
      "       [0.01174784, 0.98825216],\n",
      "       [0.00572669, 0.9942733 ],\n",
      "       [0.00458373, 0.9954163 ],\n",
      "       [0.00744134, 0.99255866],\n",
      "       [0.99115777, 0.00884223],\n",
      "       [0.01156521, 0.9884348 ],\n",
      "       [0.01988442, 0.9801156 ],\n",
      "       [0.00792883, 0.99207115],\n",
      "       [0.00368134, 0.99631864],\n",
      "       [0.8212437 , 0.1787563 ],\n",
      "       [0.00182357, 0.9981764 ],\n",
      "       [0.00460021, 0.9953998 ],\n",
      "       [0.58301896, 0.41698104],\n",
      "       [0.00427472, 0.9957253 ],\n",
      "       [0.00302085, 0.9969792 ],\n",
      "       [0.09480362, 0.90519637],\n",
      "       [0.02056749, 0.9794325 ],\n",
      "       [0.00944088, 0.9905591 ],\n",
      "       [0.02843568, 0.9715643 ],\n",
      "       [0.00821404, 0.99178594],\n",
      "       [0.00632027, 0.9936797 ],\n",
      "       [0.01637864, 0.98362136],\n",
      "       [0.03310902, 0.966891  ],\n",
      "       [0.00409018, 0.9959098 ],\n",
      "       [0.98777384, 0.01222616],\n",
      "       [0.02769043, 0.9723096 ],\n",
      "       [0.98580873, 0.01419127],\n",
      "       [0.02196351, 0.97803646],\n",
      "       [0.00197138, 0.99802864],\n",
      "       [0.00209883, 0.99790114],\n",
      "       [0.19907802, 0.800922  ],\n",
      "       [0.0127796 , 0.9872204 ],\n",
      "       [0.00378298, 0.996217  ],\n",
      "       [0.99015105, 0.00984895],\n",
      "       [0.00500338, 0.9949966 ],\n",
      "       [0.01715472, 0.9828453 ],\n",
      "       [0.8416261 , 0.15837389],\n",
      "       [0.005471  , 0.994529  ],\n",
      "       [0.006746  , 0.993254  ],\n",
      "       [0.00964975, 0.99035025],\n",
      "       [0.01655141, 0.98344857],\n",
      "       [0.00974603, 0.990254  ],\n",
      "       [0.02608579, 0.9739142 ],\n",
      "       [0.97189456, 0.02810544],\n",
      "       [0.9886747 , 0.0113253 ],\n",
      "       [0.00242053, 0.99757946],\n",
      "       [0.00824234, 0.99175763],\n",
      "       [0.98867595, 0.01132405],\n",
      "       [0.08509819, 0.9149018 ],\n",
      "       [0.0749282 , 0.9250718 ],\n",
      "       [0.0056968 , 0.9943032 ],\n",
      "       [0.815264  , 0.18473601],\n",
      "       [0.01805841, 0.9819416 ],\n",
      "       [0.01835112, 0.98164886],\n",
      "       [0.04043493, 0.95956504],\n",
      "       [0.0101433 , 0.9898567 ],\n",
      "       [0.00973466, 0.9902653 ],\n",
      "       [0.00367648, 0.9963235 ],\n",
      "       [0.01932127, 0.98067874],\n",
      "       [0.00401028, 0.99598974],\n",
      "       [0.01557718, 0.9844228 ],\n",
      "       [0.00177589, 0.99822414],\n",
      "       [0.00336786, 0.99663216],\n",
      "       [0.00410781, 0.99589217],\n",
      "       [0.0184638 , 0.9815362 ],\n",
      "       [0.00442638, 0.99557364],\n",
      "       [0.08650528, 0.9134947 ],\n",
      "       [0.0305554 , 0.9694446 ],\n",
      "       [0.00619888, 0.9938011 ],\n",
      "       [0.00564685, 0.9943532 ],\n",
      "       [0.01148569, 0.9885143 ],\n",
      "       [0.00230743, 0.9976926 ],\n",
      "       [0.00446275, 0.9955373 ],\n",
      "       [0.00430888, 0.9956911 ],\n",
      "       [0.02962066, 0.97037935],\n",
      "       [0.00316904, 0.99683094],\n",
      "       [0.00233132, 0.9976687 ],\n",
      "       [0.9803911 , 0.01960891],\n",
      "       [0.01368289, 0.9863171 ],\n",
      "       [0.00337136, 0.99662864],\n",
      "       [0.00444404, 0.99555594],\n",
      "       [0.0033262 , 0.9966738 ],\n",
      "       [0.00265507, 0.9973449 ],\n",
      "       [0.01454144, 0.98545855],\n",
      "       [0.04176167, 0.95823836],\n",
      "       [0.01191895, 0.98808104],\n",
      "       [0.09902624, 0.90097374],\n",
      "       [0.00837553, 0.9916245 ],\n",
      "       [0.01054429, 0.9894557 ],\n",
      "       [0.01595998, 0.98404   ],\n",
      "       [0.8843867 , 0.11561328],\n",
      "       [0.00139666, 0.99860334],\n",
      "       [0.00643453, 0.9935655 ],\n",
      "       [0.01866708, 0.9813329 ],\n",
      "       [0.00634289, 0.9936571 ],\n",
      "       [0.00439013, 0.9956099 ],\n",
      "       [0.00733529, 0.9926647 ],\n",
      "       [0.00126467, 0.9987353 ],\n",
      "       [0.00565642, 0.9943436 ],\n",
      "       [0.00309827, 0.99690175],\n",
      "       [0.00527415, 0.9947258 ],\n",
      "       [0.00268357, 0.9973164 ],\n",
      "       [0.8131528 , 0.18684721],\n",
      "       [0.01493574, 0.98506427],\n",
      "       [0.00879793, 0.99120206],\n",
      "       [0.00665392, 0.9933461 ],\n",
      "       [0.01066045, 0.98933953],\n",
      "       [0.00705552, 0.9929445 ],\n",
      "       [0.00337952, 0.9966205 ],\n",
      "       [0.00348749, 0.99651253],\n",
      "       [0.01360039, 0.9863996 ],\n",
      "       [0.9931804 , 0.00681961],\n",
      "       [0.98890495, 0.01109505],\n",
      "       [0.00745858, 0.99254143],\n",
      "       [0.9890285 , 0.01097149],\n",
      "       [0.99135774, 0.00864226],\n",
      "       [0.00170668, 0.99829334],\n",
      "       [0.0027557 , 0.9972443 ],\n",
      "       [0.00759135, 0.99240863],\n",
      "       [0.01559976, 0.9844003 ],\n",
      "       [0.00249921, 0.9975008 ],\n",
      "       [0.02626758, 0.9737324 ],\n",
      "       [0.023236  , 0.976764  ],\n",
      "       [0.08105052, 0.9189495 ],\n",
      "       [0.04348025, 0.9565197 ],\n",
      "       [0.00989249, 0.99010754],\n",
      "       [0.99082166, 0.00917834],\n",
      "       [0.01546282, 0.9845372 ],\n",
      "       [0.00334101, 0.996659  ],\n",
      "       [0.01348378, 0.98651624],\n",
      "       [0.02108608, 0.9789139 ],\n",
      "       [0.25438726, 0.74561274],\n",
      "       [0.01359534, 0.98640466],\n",
      "       [0.02426362, 0.9757364 ],\n",
      "       [0.00705689, 0.9929431 ],\n",
      "       [0.00307572, 0.9969243 ],\n",
      "       [0.19230789, 0.8076921 ],\n",
      "       [0.00355058, 0.9964494 ],\n",
      "       [0.01491778, 0.9850822 ],\n",
      "       [0.00459613, 0.9954039 ],\n",
      "       [0.00375771, 0.9962423 ],\n",
      "       [0.00560086, 0.99439913],\n",
      "       [0.0109107 , 0.9890893 ],\n",
      "       [0.00281291, 0.9971871 ],\n",
      "       [0.00280319, 0.9971968 ],\n",
      "       [0.96971154, 0.03028846]], dtype=float32), array([[8.75588600e-03, 9.91244137e-01],\n",
      "       [1.12968693e-02, 9.88703132e-01],\n",
      "       [3.54843866e-03, 9.96451557e-01],\n",
      "       [4.44441382e-03, 9.95555580e-01],\n",
      "       [8.97107482e-01, 1.02892518e-01],\n",
      "       [8.65617115e-03, 9.91343856e-01],\n",
      "       [1.29139610e-03, 9.98708606e-01],\n",
      "       [7.66693382e-03, 9.92333055e-01],\n",
      "       [9.67967868e-01, 3.20321321e-02],\n",
      "       [4.05169511e-03, 9.95948315e-01],\n",
      "       [3.51640545e-02, 9.64835942e-01],\n",
      "       [1.65778510e-02, 9.83422160e-01],\n",
      "       [4.35120426e-03, 9.95648801e-01],\n",
      "       [2.78305612e-03, 9.97216940e-01],\n",
      "       [4.36934642e-03, 9.95630682e-01],\n",
      "       [5.69445081e-03, 9.94305551e-01],\n",
      "       [2.16741557e-03, 9.97832596e-01],\n",
      "       [1.06588705e-02, 9.89341140e-01],\n",
      "       [3.68286157e-03, 9.96317148e-01],\n",
      "       [1.21567969e-03, 9.98784304e-01],\n",
      "       [1.27893663e-03, 9.98721063e-01],\n",
      "       [5.23721194e-03, 9.94762778e-01],\n",
      "       [3.48130311e-03, 9.96518672e-01],\n",
      "       [9.91782188e-01, 8.21781158e-03],\n",
      "       [1.32326758e-03, 9.98676717e-01],\n",
      "       [3.09176953e-03, 9.96908247e-01],\n",
      "       [3.10122385e-03, 9.96898770e-01],\n",
      "       [2.68122810e-03, 9.97318745e-01],\n",
      "       [3.83111153e-04, 9.99616861e-01],\n",
      "       [9.45365310e-01, 5.46346903e-02],\n",
      "       [3.49860103e-03, 9.96501386e-01],\n",
      "       [4.01851768e-03, 9.95981455e-01],\n",
      "       [9.21695948e-01, 7.83040524e-02],\n",
      "       [9.04386282e-01, 9.56137180e-02],\n",
      "       [5.00445161e-03, 9.94995534e-01],\n",
      "       [9.57713902e-01, 4.22860980e-02],\n",
      "       [4.57621180e-03, 9.95423794e-01],\n",
      "       [1.21616265e-02, 9.87838387e-01],\n",
      "       [2.03862716e-03, 9.97961402e-01],\n",
      "       [5.33894403e-03, 9.94661033e-01],\n",
      "       [9.81354117e-01, 1.86458826e-02],\n",
      "       [4.31274856e-03, 9.95687246e-01],\n",
      "       [9.90543067e-01, 9.45693254e-03],\n",
      "       [2.53530778e-03, 9.97464716e-01],\n",
      "       [9.83061016e-01, 1.69389844e-02],\n",
      "       [2.48502684e-03, 9.97514963e-01],\n",
      "       [2.09406644e-01, 7.90593386e-01],\n",
      "       [2.31408118e-03, 9.97685909e-01],\n",
      "       [9.80401933e-01, 1.95980668e-02],\n",
      "       [7.94614607e-04, 9.99205410e-01],\n",
      "       [3.00902990e-03, 9.96990979e-01],\n",
      "       [3.67899635e-03, 9.96321023e-01],\n",
      "       [9.46747482e-01, 5.32525182e-02],\n",
      "       [6.78238925e-03, 9.93217587e-01],\n",
      "       [3.45581537e-03, 9.96544182e-01],\n",
      "       [1.25060380e-01, 8.74939620e-01],\n",
      "       [4.13475372e-03, 9.95865226e-01],\n",
      "       [1.95008970e-03, 9.98049915e-01],\n",
      "       [2.56143976e-03, 9.97438550e-01],\n",
      "       [4.79716472e-02, 9.52028334e-01],\n",
      "       [9.85824823e-01, 1.41751766e-02],\n",
      "       [2.89471727e-03, 9.97105300e-01],\n",
      "       [7.37210736e-04, 9.99262810e-01],\n",
      "       [5.26334904e-02, 9.47366536e-01],\n",
      "       [7.38438010e-01, 2.61561990e-01],\n",
      "       [4.07013204e-03, 9.95929897e-01],\n",
      "       [1.38520880e-03, 9.98614788e-01],\n",
      "       [3.14709768e-02, 9.68529046e-01],\n",
      "       [2.12474167e-02, 9.78752613e-01],\n",
      "       [1.85678760e-03, 9.98143196e-01],\n",
      "       [1.07836984e-02, 9.89216328e-01],\n",
      "       [5.17516732e-01, 4.82483268e-01],\n",
      "       [6.50025010e-02, 9.34997499e-01],\n",
      "       [9.91340458e-01, 8.65954161e-03],\n",
      "       [1.20388903e-03, 9.98796105e-01],\n",
      "       [2.91954912e-02, 9.70804513e-01],\n",
      "       [5.25654701e-04, 9.99474347e-01],\n",
      "       [6.39373362e-01, 3.60626638e-01],\n",
      "       [5.62220346e-03, 9.94377792e-01],\n",
      "       [7.63379216e-01, 2.36620784e-01],\n",
      "       [6.70145848e-04, 9.99329865e-01],\n",
      "       [9.75022614e-01, 2.49773860e-02],\n",
      "       [2.79304176e-03, 9.97206986e-01],\n",
      "       [2.17956700e-03, 9.97820437e-01],\n",
      "       [2.67675729e-03, 9.97323215e-01],\n",
      "       [9.61218476e-02, 9.03878152e-01],\n",
      "       [3.05918953e-03, 9.96940792e-01],\n",
      "       [2.63534882e-03, 9.97364640e-01],\n",
      "       [8.18187669e-02, 9.18181241e-01],\n",
      "       [1.10993432e-02, 9.88900661e-01],\n",
      "       [3.40960477e-03, 9.96590376e-01],\n",
      "       [9.64934051e-01, 3.50659490e-02],\n",
      "       [9.87324834e-01, 1.26751661e-02],\n",
      "       [7.81049073e-01, 2.18950927e-01],\n",
      "       [5.40880067e-03, 9.94591177e-01],\n",
      "       [4.52038944e-01, 5.47961056e-01],\n",
      "       [9.74813640e-01, 2.51863599e-02],\n",
      "       [7.00050360e-03, 9.92999494e-01],\n",
      "       [2.48926692e-03, 9.97510731e-01],\n",
      "       [9.57082748e-01, 4.29172516e-02],\n",
      "       [1.09986123e-02, 9.89001393e-01],\n",
      "       [9.92728949e-01, 7.27105141e-03],\n",
      "       [2.83721508e-03, 9.97162759e-01],\n",
      "       [5.93348173e-03, 9.94066536e-01],\n",
      "       [3.37177468e-03, 9.96628225e-01],\n",
      "       [1.57113560e-03, 9.98428881e-01],\n",
      "       [7.12230742e-01, 2.87769258e-01],\n",
      "       [2.21503880e-02, 9.77849603e-01],\n",
      "       [4.48212307e-03, 9.95517850e-01],\n",
      "       [7.93472864e-04, 9.99206543e-01],\n",
      "       [3.78587306e-03, 9.96214151e-01],\n",
      "       [4.65161130e-02, 9.53483880e-01],\n",
      "       [3.35370819e-03, 9.96646285e-01],\n",
      "       [1.90787273e-03, 9.98092115e-01],\n",
      "       [7.25895911e-03, 9.92741048e-01],\n",
      "       [3.61773162e-03, 9.96382296e-01],\n",
      "       [8.45212024e-04, 9.99154806e-01],\n",
      "       [1.89337635e-03, 9.98106599e-01],\n",
      "       [5.28374687e-03, 9.94716227e-01],\n",
      "       [2.82825972e-03, 9.97171760e-01],\n",
      "       [1.36343902e-03, 9.98636544e-01],\n",
      "       [9.87039983e-01, 1.29600167e-02],\n",
      "       [2.99099670e-03, 9.97008979e-01],\n",
      "       [1.28286453e-02, 9.87171352e-01],\n",
      "       [2.95087416e-03, 9.97049153e-01],\n",
      "       [9.84589458e-01, 1.54105425e-02],\n",
      "       [1.84272090e-03, 9.98157263e-01],\n",
      "       [4.91243079e-02, 9.50875700e-01],\n",
      "       [9.93555069e-01, 6.44493103e-03],\n",
      "       [1.50517374e-03, 9.98494804e-01],\n",
      "       [4.78256121e-03, 9.95217443e-01],\n",
      "       [2.64269169e-02, 9.73573089e-01],\n",
      "       [1.15767689e-02, 9.88423228e-01],\n",
      "       [3.99612710e-02, 9.60038722e-01],\n",
      "       [7.20110396e-03, 9.92798924e-01],\n",
      "       [5.74959144e-02, 9.42504108e-01],\n",
      "       [1.74417463e-03, 9.98255849e-01],\n",
      "       [3.04793157e-02, 9.69520688e-01],\n",
      "       [9.48354509e-03, 9.90516484e-01],\n",
      "       [4.81960888e-04, 9.99518037e-01],\n",
      "       [2.53314083e-03, 9.97466862e-01],\n",
      "       [2.41696602e-03, 9.97583032e-01],\n",
      "       [3.10955686e-03, 9.96890426e-01],\n",
      "       [9.93310869e-01, 6.68913126e-03],\n",
      "       [3.78020690e-03, 9.96219814e-01],\n",
      "       [3.35567594e-01, 6.64432406e-01],\n",
      "       [4.61777300e-03, 9.95382249e-01],\n",
      "       [3.14738066e-03, 9.96852636e-01],\n",
      "       [4.30743210e-03, 9.95692551e-01],\n",
      "       [9.08678412e-01, 9.13215876e-02],\n",
      "       [5.28181263e-04, 9.99471843e-01],\n",
      "       [6.97489642e-03, 9.93025124e-01],\n",
      "       [1.50384486e-03, 9.98496175e-01],\n",
      "       [2.27031205e-03, 9.97729659e-01],\n",
      "       [7.45029747e-01, 2.54970253e-01],\n",
      "       [8.99140444e-03, 9.91008580e-01],\n",
      "       [6.23361301e-03, 9.93766367e-01],\n",
      "       [8.63056071e-03, 9.91369426e-01],\n",
      "       [3.26655945e-03, 9.96733427e-01],\n",
      "       [1.44413474e-03, 9.98555839e-01],\n",
      "       [2.30156421e-03, 9.97698426e-01],\n",
      "       [8.71304646e-02, 9.12869513e-01],\n",
      "       [3.13285999e-02, 9.68671381e-01],\n",
      "       [4.74898051e-03, 9.95251000e-01],\n",
      "       [3.15730661e-01, 6.84269309e-01],\n",
      "       [1.39697432e-03, 9.98603046e-01],\n",
      "       [5.80466446e-03, 9.94195342e-01],\n",
      "       [2.32925662e-03, 9.97670770e-01],\n",
      "       [9.94997621e-01, 5.00237942e-03],\n",
      "       [6.91773044e-03, 9.93082285e-01],\n",
      "       [4.23574704e-04, 9.99576449e-01],\n",
      "       [1.05376192e-03, 9.98946249e-01],\n",
      "       [2.79552094e-03, 9.97204483e-01],\n",
      "       [7.70939793e-03, 9.92290616e-01],\n",
      "       [1.62187417e-03, 9.98378098e-01],\n",
      "       [9.82035995e-01, 1.79640055e-02],\n",
      "       [9.88346517e-01, 1.16534829e-02],\n",
      "       [7.74447434e-03, 9.92255509e-01],\n",
      "       [9.89348352e-01, 1.06516480e-02],\n",
      "       [9.02314391e-03, 9.90976870e-01],\n",
      "       [9.91596878e-01, 8.40312243e-03],\n",
      "       [7.01034162e-03, 9.92989659e-01],\n",
      "       [3.37910913e-02, 9.66208935e-01],\n",
      "       [1.64901316e-01, 8.35098684e-01],\n",
      "       [1.94232259e-03, 9.98057663e-01],\n",
      "       [8.66383035e-03, 9.91336167e-01],\n",
      "       [7.14093354e-03, 9.92859066e-01],\n",
      "       [5.86977461e-03, 9.94130254e-01],\n",
      "       [1.85969006e-02, 9.81403112e-01],\n",
      "       [1.99509808e-03, 9.98004913e-01],\n",
      "       [3.75276012e-03, 9.96247232e-01],\n",
      "       [6.26647240e-03, 9.93733525e-01],\n",
      "       [3.10526276e-03, 9.96894717e-01],\n",
      "       [9.97655466e-03, 9.90023434e-01],\n",
      "       [4.52361116e-03, 9.95476365e-01],\n",
      "       [6.05733308e-04, 9.99394238e-01],\n",
      "       [1.36376102e-03, 9.98636246e-01],\n",
      "       [1.78214833e-02, 9.82178509e-01],\n",
      "       [2.28610612e-03, 9.97713923e-01],\n",
      "       [1.32124254e-03, 9.98678744e-01],\n",
      "       [5.34731988e-03, 9.94652689e-01],\n",
      "       [9.72819388e-01, 2.71806121e-02],\n",
      "       [3.91741097e-03, 9.96082604e-01],\n",
      "       [1.05767080e-03, 9.98942316e-01],\n",
      "       [2.21416820e-02, 9.77858305e-01],\n",
      "       [2.79148947e-02, 9.72085118e-01],\n",
      "       [8.49760592e-01, 1.50239408e-01],\n",
      "       [9.87181365e-01, 1.28186345e-02],\n",
      "       [1.33142248e-02, 9.86685753e-01],\n",
      "       [9.94306684e-01, 5.69331646e-03],\n",
      "       [9.88828123e-01, 1.11718774e-02],\n",
      "       [2.18322757e-03, 9.97816801e-01],\n",
      "       [4.11234424e-03, 9.95887637e-01],\n",
      "       [1.43173267e-03, 9.98568296e-01],\n",
      "       [2.55833985e-03, 9.97441649e-01],\n",
      "       [4.31732321e-03, 9.95682657e-01],\n",
      "       [2.22863047e-03, 9.97771382e-01],\n",
      "       [9.84150827e-01, 1.58491731e-02],\n",
      "       [1.41401321e-03, 9.98585999e-01],\n",
      "       [1.59892836e-03, 9.98401046e-01],\n",
      "       [9.55404639e-01, 4.45953608e-02],\n",
      "       [4.62149177e-03, 9.95378494e-01],\n",
      "       [9.94203389e-01, 5.79661131e-03],\n",
      "       [2.86813080e-03, 9.97131884e-01],\n",
      "       [1.55309141e-02, 9.84469056e-01],\n",
      "       [6.24737563e-03, 9.93752599e-01],\n",
      "       [8.00051689e-01, 1.99948311e-01],\n",
      "       [7.96104548e-04, 9.99203920e-01],\n",
      "       [1.86731108e-02, 9.81326878e-01],\n",
      "       [2.26481054e-02, 9.77351904e-01],\n",
      "       [2.67320941e-03, 9.97326791e-01],\n",
      "       [7.27145234e-04, 9.99272883e-01],\n",
      "       [2.92544649e-03, 9.97074544e-01],\n",
      "       [4.32080729e-03, 9.95679200e-01],\n",
      "       [2.74088862e-03, 9.97259140e-01],\n",
      "       [1.72719788e-02, 9.82728004e-01],\n",
      "       [9.43931751e-03, 9.90560710e-01],\n",
      "       [1.54649625e-02, 9.84535038e-01],\n",
      "       [9.74507809e-01, 2.54921913e-02],\n",
      "       [9.93770003e-01, 6.22999668e-03],\n",
      "       [1.24393357e-03, 9.98756051e-01],\n",
      "       [6.67060842e-04, 9.99332964e-01],\n",
      "       [5.62608242e-02, 9.43739176e-01],\n",
      "       [5.17482400e-01, 4.82517600e-01],\n",
      "       [5.66589320e-03, 9.94334102e-01],\n",
      "       [1.08379382e-03, 9.98916209e-01],\n",
      "       [1.91139721e-03, 9.98088598e-01],\n",
      "       [1.09638423e-02, 9.89036143e-01],\n",
      "       [1.01106835e-03, 9.98988926e-01],\n",
      "       [3.69062740e-03, 9.96309400e-01],\n",
      "       [1.07190050e-02, 9.89280999e-01],\n",
      "       [9.13740635e-01, 8.62593651e-02],\n",
      "       [9.65763748e-01, 3.42362523e-02],\n",
      "       [1.42360374e-03, 9.98576403e-01],\n",
      "       [2.72914097e-02, 9.72708583e-01],\n",
      "       [9.39495027e-01, 6.05049729e-02],\n",
      "       [9.79163945e-01, 2.08360553e-02],\n",
      "       [1.11939376e-02, 9.88806069e-01],\n",
      "       [3.97133594e-03, 9.96028662e-01],\n",
      "       [2.30778288e-03, 9.97692227e-01],\n",
      "       [6.01338409e-03, 9.93986607e-01],\n",
      "       [3.22701968e-03, 9.96773005e-01],\n",
      "       [3.19015910e-03, 9.96809840e-01],\n",
      "       [9.89970267e-01, 1.00297332e-02],\n",
      "       [1.12488288e-02, 9.88751173e-01],\n",
      "       [6.93448959e-03, 9.93065536e-01],\n",
      "       [8.10999703e-03, 9.91890013e-01],\n",
      "       [3.19941458e-03, 9.96800601e-01],\n",
      "       [7.89538305e-03, 9.92104590e-01],\n",
      "       [2.60251458e-03, 9.97397482e-01],\n",
      "       [1.26179541e-02, 9.87382054e-01],\n",
      "       [2.48402962e-03, 9.97515976e-01],\n",
      "       [3.83251011e-02, 9.61674929e-01],\n",
      "       [3.42915617e-02, 9.65708435e-01],\n",
      "       [6.32066786e-01, 3.67933214e-01],\n",
      "       [9.94535685e-01, 5.46431541e-03],\n",
      "       [3.13234958e-03, 9.96867657e-01],\n",
      "       [6.48371922e-03, 9.93516266e-01],\n",
      "       [6.36156357e-04, 9.99363840e-01],\n",
      "       [8.09505489e-03, 9.91904974e-01],\n",
      "       [2.52756826e-03, 9.97472405e-01],\n",
      "       [6.56268885e-03, 9.93437290e-01],\n",
      "       [6.41071994e-04, 9.99358952e-01],\n",
      "       [5.38317859e-03, 9.94616807e-01],\n",
      "       [5.09663597e-02, 9.49033618e-01],\n",
      "       [1.83134545e-02, 9.81686532e-01],\n",
      "       [1.97007577e-03, 9.98029947e-01],\n",
      "       [4.41232882e-03, 9.95587647e-01],\n",
      "       [1.79504929e-03, 9.98204947e-01],\n",
      "       [5.75443581e-02, 9.42455649e-01],\n",
      "       [3.30916396e-03, 9.96690810e-01],\n",
      "       [9.73952949e-01, 2.60470510e-02],\n",
      "       [2.82308529e-03, 9.97176886e-01],\n",
      "       [3.96748446e-03, 9.96032536e-01],\n",
      "       [9.47314739e-01, 5.26852608e-02],\n",
      "       [5.13241161e-03, 9.94867563e-01],\n",
      "       [5.96450828e-03, 9.94035482e-01],\n",
      "       [4.36336827e-03, 9.95636642e-01],\n",
      "       [4.63213399e-03, 9.95367885e-01]], dtype=float32), array([[0.42881417, 0.5711858 ],\n",
      "       [0.8626373 , 0.13736272],\n",
      "       [0.04242391, 0.9575761 ],\n",
      "       [0.85757583, 0.14242417],\n",
      "       [0.9899857 , 0.0100143 ],\n",
      "       [0.01791109, 0.9820889 ],\n",
      "       [0.0079098 , 0.9920902 ],\n",
      "       [0.00200961, 0.99799037],\n",
      "       [0.00981541, 0.9901846 ],\n",
      "       [0.86853784, 0.13146216],\n",
      "       [0.28279185, 0.71720815],\n",
      "       [0.9324863 , 0.0675137 ],\n",
      "       [0.03006606, 0.9699339 ],\n",
      "       [0.02644098, 0.973559  ],\n",
      "       [0.98899806, 0.01100194],\n",
      "       [0.00266966, 0.9973303 ],\n",
      "       [0.19414313, 0.8058569 ],\n",
      "       [0.00251102, 0.997489  ],\n",
      "       [0.03171234, 0.96828765],\n",
      "       [0.0228624 , 0.97713757],\n",
      "       [0.00963468, 0.9903653 ],\n",
      "       [0.99128056, 0.00871944],\n",
      "       [0.94535196, 0.05464804],\n",
      "       [0.0955155 , 0.9044845 ],\n",
      "       [0.0094599 , 0.9905401 ],\n",
      "       [0.37255925, 0.62744075],\n",
      "       [0.04973148, 0.9502685 ],\n",
      "       [0.11212101, 0.887879  ],\n",
      "       [0.00808091, 0.9919191 ],\n",
      "       [0.02656068, 0.97343934],\n",
      "       [0.8145988 , 0.1854012 ],\n",
      "       [0.02954313, 0.97045684],\n",
      "       [0.46873882, 0.5312612 ],\n",
      "       [0.98766196, 0.01233804],\n",
      "       [0.12304656, 0.8769534 ],\n",
      "       [0.87745774, 0.12254226],\n",
      "       [0.00147801, 0.998522  ],\n",
      "       [0.9960296 , 0.00397038],\n",
      "       [0.0017379 , 0.9982621 ],\n",
      "       [0.9832281 , 0.01677191],\n",
      "       [0.6208796 , 0.3791204 ],\n",
      "       [0.98164314, 0.01835686],\n",
      "       [0.6786632 , 0.3213368 ],\n",
      "       [0.01887336, 0.98112667],\n",
      "       [0.09211081, 0.9078892 ],\n",
      "       [0.12452345, 0.87547654],\n",
      "       [0.9094364 , 0.0905636 ],\n",
      "       [0.03395581, 0.9660442 ],\n",
      "       [0.00670658, 0.9932934 ],\n",
      "       [0.00702136, 0.99297863],\n",
      "       [0.01242585, 0.98757416],\n",
      "       [0.042981  , 0.957019  ],\n",
      "       [0.03386835, 0.9661316 ],\n",
      "       [0.0024389 , 0.9975611 ],\n",
      "       [0.05248455, 0.9475154 ],\n",
      "       [0.8907974 , 0.10920262],\n",
      "       [0.98839575, 0.01160425],\n",
      "       [0.02336376, 0.97663623],\n",
      "       [0.9750604 , 0.0249396 ],\n",
      "       [0.01870436, 0.98129565],\n",
      "       [0.01920451, 0.9807955 ],\n",
      "       [0.02113243, 0.9788676 ],\n",
      "       [0.03684887, 0.9631511 ],\n",
      "       [0.86328894, 0.13671106],\n",
      "       [0.05402177, 0.9459782 ],\n",
      "       [0.27008304, 0.72991693],\n",
      "       [0.8890915 , 0.11090851],\n",
      "       [0.00227253, 0.99772745],\n",
      "       [0.90656805, 0.09343195],\n",
      "       [0.06511254, 0.93488747],\n",
      "       [0.05283812, 0.9471619 ],\n",
      "       [0.41741413, 0.5825859 ],\n",
      "       [0.52861786, 0.47138214],\n",
      "       [0.04090988, 0.9590901 ],\n",
      "       [0.05579306, 0.94420695],\n",
      "       [0.9800572 , 0.01994282],\n",
      "       [0.01016747, 0.9898325 ],\n",
      "       [0.03558327, 0.96441674],\n",
      "       [0.80027986, 0.19972014],\n",
      "       [0.09046164, 0.9095384 ],\n",
      "       [0.00717616, 0.99282384],\n",
      "       [0.67258847, 0.32741153],\n",
      "       [0.07052917, 0.92947084],\n",
      "       [0.03248798, 0.967512  ],\n",
      "       [0.02058559, 0.9794144 ],\n",
      "       [0.970324  , 0.02967602],\n",
      "       [0.7140139 , 0.28598613],\n",
      "       [0.02736977, 0.9726302 ],\n",
      "       [0.6014441 , 0.39855587],\n",
      "       [0.8061081 , 0.19389188],\n",
      "       [0.00528579, 0.9947142 ],\n",
      "       [0.02687481, 0.9731252 ],\n",
      "       [0.0212461 , 0.9787539 ],\n",
      "       [0.59154713, 0.40845287],\n",
      "       [0.0021432 , 0.9978568 ],\n",
      "       [0.43386397, 0.566136  ],\n",
      "       [0.05336133, 0.94663864],\n",
      "       [0.80277336, 0.19722664],\n",
      "       [0.40479958, 0.5952004 ],\n",
      "       [0.57028   , 0.42971998],\n",
      "       [0.76425743, 0.23574257],\n",
      "       [0.09086675, 0.90913326],\n",
      "       [0.04387186, 0.9561281 ],\n",
      "       [0.14298812, 0.8570119 ],\n",
      "       [0.0452504 , 0.9547496 ],\n",
      "       [0.01346455, 0.98653543],\n",
      "       [0.02082217, 0.97917783],\n",
      "       [0.14198723, 0.8580128 ],\n",
      "       [0.38409406, 0.61590594],\n",
      "       [0.02065733, 0.97934264],\n",
      "       [0.02276178, 0.97723824],\n",
      "       [0.9860275 , 0.01397252],\n",
      "       [0.92089075, 0.07910925],\n",
      "       [0.94229275, 0.05770725],\n",
      "       [0.9876888 , 0.01231122],\n",
      "       [0.03768399, 0.96231604],\n",
      "       [0.01297501, 0.98702496],\n",
      "       [0.01235241, 0.9876476 ],\n",
      "       [0.94360304, 0.05639696],\n",
      "       [0.03980747, 0.9601925 ],\n",
      "       [0.01917791, 0.9808221 ],\n",
      "       [0.8169021 , 0.1830979 ],\n",
      "       [0.02587922, 0.9741208 ],\n",
      "       [0.0256507 , 0.9743493 ],\n",
      "       [0.54193646, 0.45806354],\n",
      "       [0.03847055, 0.96152943],\n",
      "       [0.03631506, 0.9636849 ],\n",
      "       [0.00872543, 0.9912746 ],\n",
      "       [0.02659148, 0.9734085 ],\n",
      "       [0.02030008, 0.9796999 ],\n",
      "       [0.019273  , 0.980727  ],\n",
      "       [0.21051507, 0.7894849 ],\n",
      "       [0.95683557, 0.04316443],\n",
      "       [0.5062621 , 0.49373788],\n",
      "       [0.03320193, 0.96679807],\n",
      "       [0.6371449 , 0.36285508],\n",
      "       [0.01165966, 0.9883403 ],\n",
      "       [0.9259093 , 0.07409072],\n",
      "       [0.981624  , 0.01837599],\n",
      "       [0.0031383 , 0.9968617 ],\n",
      "       [0.03704968, 0.9629503 ],\n",
      "       [0.01072203, 0.98927796],\n",
      "       [0.01462792, 0.98537207],\n",
      "       [0.01024638, 0.9897536 ],\n",
      "       [0.03916029, 0.9608397 ],\n",
      "       [0.70604694, 0.29395306],\n",
      "       [0.9954391 , 0.00456089],\n",
      "       [0.02519006, 0.97480994],\n",
      "       [0.10217068, 0.8978293 ],\n",
      "       [0.773919  , 0.22608101],\n",
      "       [0.01226383, 0.98773617],\n",
      "       [0.17376274, 0.82623726],\n",
      "       [0.02425892, 0.9757411 ],\n",
      "       [0.02223341, 0.9777666 ],\n",
      "       [0.5275172 , 0.4724828 ],\n",
      "       [0.15730703, 0.842693  ],\n",
      "       [0.84079564, 0.15920436],\n",
      "       [0.00183827, 0.99816173],\n",
      "       [0.9162223 , 0.08377773],\n",
      "       [0.00858997, 0.99141   ],\n",
      "       [0.05858468, 0.9414153 ],\n",
      "       [0.9744621 , 0.02553791],\n",
      "       [0.00223127, 0.9977687 ],\n",
      "       [0.97354513, 0.02645487],\n",
      "       [0.8663318 , 0.13366818],\n",
      "       [0.00705541, 0.9929446 ],\n",
      "       [0.1782345 , 0.8217655 ],\n",
      "       [0.03288859, 0.9671114 ],\n",
      "       [0.01432007, 0.9856799 ],\n",
      "       [0.65596926, 0.34403074],\n",
      "       [0.00842818, 0.99157184],\n",
      "       [0.0285011 , 0.9714989 ],\n",
      "       [0.0385322 , 0.9614678 ],\n",
      "       [0.89568347, 0.10431653],\n",
      "       [0.00755841, 0.9924416 ],\n",
      "       [0.02105423, 0.9789458 ],\n",
      "       [0.8115066 , 0.18849337],\n",
      "       [0.00271215, 0.99728787],\n",
      "       [0.03282936, 0.96717066],\n",
      "       [0.00199522, 0.9980048 ],\n",
      "       [0.15976973, 0.8402303 ],\n",
      "       [0.66677636, 0.33322364],\n",
      "       [0.45798153, 0.5420185 ],\n",
      "       [0.3724063 , 0.6275937 ],\n",
      "       [0.01400008, 0.98599994],\n",
      "       [0.4990316 , 0.5009684 ],\n",
      "       [0.00162161, 0.9983784 ],\n",
      "       [0.90193635, 0.09806365],\n",
      "       [0.08932496, 0.91067505],\n",
      "       [0.00294707, 0.9970529 ],\n",
      "       [0.16148242, 0.83851755],\n",
      "       [0.18200351, 0.8179965 ],\n",
      "       [0.19432057, 0.80567944],\n",
      "       [0.75915486, 0.24084514],\n",
      "       [0.11724232, 0.88275766],\n",
      "       [0.00380022, 0.9961998 ],\n",
      "       [0.00426285, 0.99573714],\n",
      "       [0.0012672 , 0.9987328 ],\n",
      "       [0.02876762, 0.9712324 ],\n",
      "       [0.02093466, 0.97906536],\n",
      "       [0.00212136, 0.9978787 ],\n",
      "       [0.02731145, 0.97268856],\n",
      "       [0.0091477 , 0.9908523 ],\n",
      "       [0.02452288, 0.9754771 ],\n",
      "       [0.00473704, 0.995263  ],\n",
      "       [0.70971805, 0.29028195],\n",
      "       [0.04397513, 0.9560249 ],\n",
      "       [0.0732343 , 0.9267657 ],\n",
      "       [0.194333  , 0.805667  ],\n",
      "       [0.09185154, 0.90814847],\n",
      "       [0.380586  , 0.619414  ],\n",
      "       [0.22027744, 0.7797226 ],\n",
      "       [0.721395  , 0.27860498],\n",
      "       [0.01824248, 0.9817575 ],\n",
      "       [0.0978457 , 0.9021543 ],\n",
      "       [0.04106425, 0.95893574],\n",
      "       [0.03220321, 0.9677968 ],\n",
      "       [0.03803368, 0.96196634],\n",
      "       [0.05046523, 0.9495348 ],\n",
      "       [0.00405406, 0.99594593],\n",
      "       [0.5019018 , 0.4980982 ],\n",
      "       [0.7950897 , 0.20491028],\n",
      "       [0.30432412, 0.69567585],\n",
      "       [0.03680258, 0.9631974 ],\n",
      "       [0.90946925, 0.09053075],\n",
      "       [0.44114736, 0.5588527 ],\n",
      "       [0.98818296, 0.01181704],\n",
      "       [0.00929319, 0.9907068 ],\n",
      "       [0.41395032, 0.5860497 ],\n",
      "       [0.9979514 , 0.00204861],\n",
      "       [0.00318755, 0.99681246],\n",
      "       [0.01170306, 0.9882969 ],\n",
      "       [0.04221558, 0.9577844 ],\n",
      "       [0.03555787, 0.96444213],\n",
      "       [0.03590911, 0.9640909 ],\n",
      "       [0.9179726 , 0.08202738],\n",
      "       [0.60148966, 0.39851034],\n",
      "       [0.23801486, 0.7619851 ],\n",
      "       [0.48280928, 0.5171907 ],\n",
      "       [0.01573357, 0.98426646],\n",
      "       [0.3283952 , 0.6716048 ],\n",
      "       [0.02068863, 0.97931135],\n",
      "       [0.08626443, 0.91373557],\n",
      "       [0.00227301, 0.997727  ],\n",
      "       [0.55695236, 0.44304764],\n",
      "       [0.02655732, 0.9734427 ],\n",
      "       [0.01237132, 0.9876287 ],\n",
      "       [0.7431392 , 0.2568608 ],\n",
      "       [0.6672908 , 0.3327092 ],\n",
      "       [0.39327005, 0.60673   ],\n",
      "       [0.98651206, 0.01348794],\n",
      "       [0.84810066, 0.15189934],\n",
      "       [0.9635172 , 0.03648281],\n",
      "       [0.8012159 , 0.19878411],\n",
      "       [0.97615707, 0.02384293],\n",
      "       [0.00729243, 0.99270755],\n",
      "       [0.17411186, 0.82588816],\n",
      "       [0.5684496 , 0.43155038],\n",
      "       [0.16503914, 0.8349609 ],\n",
      "       [0.4311078 , 0.56889224],\n",
      "       [0.9186667 , 0.08133328],\n",
      "       [0.0292392 , 0.9707608 ],\n",
      "       [0.5099429 , 0.4900571 ],\n",
      "       [0.09143861, 0.9085614 ],\n",
      "       [0.00281072, 0.9971893 ],\n",
      "       [0.00240151, 0.99759847],\n",
      "       [0.30797264, 0.69202733],\n",
      "       [0.00143029, 0.9985697 ],\n",
      "       [0.00497495, 0.99502504],\n",
      "       [0.67856914, 0.32143086],\n",
      "       [0.3223908 , 0.6776092 ],\n",
      "       [0.3742607 , 0.62573934],\n",
      "       [0.89434636, 0.10565364],\n",
      "       [0.9960559 , 0.0039441 ],\n",
      "       [0.87766016, 0.12233984],\n",
      "       [0.0348403 , 0.9651597 ],\n",
      "       [0.00841346, 0.99158657],\n",
      "       [0.02681349, 0.9731865 ],\n",
      "       [0.019345  , 0.980655  ],\n",
      "       [0.00237496, 0.99762505],\n",
      "       [0.23609373, 0.76390624],\n",
      "       [0.72561204, 0.27438796],\n",
      "       [0.02731472, 0.9726853 ],\n",
      "       [0.09187794, 0.90812206],\n",
      "       [0.01364655, 0.98635346],\n",
      "       [0.06482363, 0.9351764 ],\n",
      "       [0.01828003, 0.98172   ],\n",
      "       [0.07756951, 0.9224305 ],\n",
      "       [0.06270309, 0.9372969 ],\n",
      "       [0.15212317, 0.84787685],\n",
      "       [0.91080254, 0.08919746],\n",
      "       [0.10577015, 0.8942298 ],\n",
      "       [0.06073491, 0.9392651 ],\n",
      "       [0.20672716, 0.79327285],\n",
      "       [0.9965652 , 0.00343478],\n",
      "       [0.11042964, 0.88957036],\n",
      "       [0.34429055, 0.65570945],\n",
      "       [0.04501455, 0.95498544],\n",
      "       [0.0038984 , 0.9961016 ]], dtype=float32), array([[0.01997486, 0.9800251 ],\n",
      "       [0.00520351, 0.9947965 ],\n",
      "       [0.00381276, 0.99618727],\n",
      "       [0.00208912, 0.99791086],\n",
      "       [0.01125721, 0.98874277],\n",
      "       [0.00823759, 0.9917624 ],\n",
      "       [0.11119021, 0.8888098 ],\n",
      "       [0.00320248, 0.9967975 ],\n",
      "       [0.00875842, 0.9912416 ],\n",
      "       [0.01470969, 0.9852903 ],\n",
      "       [0.06155159, 0.9384484 ],\n",
      "       [0.00365699, 0.996343  ],\n",
      "       [0.01991356, 0.98008645],\n",
      "       [0.00506213, 0.9949379 ],\n",
      "       [0.47935662, 0.52064335],\n",
      "       [0.00393998, 0.99606   ],\n",
      "       [0.00413724, 0.9958628 ],\n",
      "       [0.00256758, 0.9974324 ],\n",
      "       [0.9813929 , 0.01860708],\n",
      "       [0.9907721 , 0.00922787],\n",
      "       [0.11771752, 0.8822825 ],\n",
      "       [0.00279892, 0.9972011 ],\n",
      "       [0.00664454, 0.99335545],\n",
      "       [0.00784747, 0.9921525 ],\n",
      "       [0.9442743 , 0.05572569],\n",
      "       [0.00921254, 0.99078745],\n",
      "       [0.00646895, 0.99353105],\n",
      "       [0.9945106 , 0.00548941],\n",
      "       [0.9795327 , 0.02046728],\n",
      "       [0.01281053, 0.9871895 ],\n",
      "       [0.0072963 , 0.9927037 ],\n",
      "       [0.9024909 , 0.09750909],\n",
      "       [0.01109213, 0.9889079 ],\n",
      "       [0.00527781, 0.9947222 ],\n",
      "       [0.00779248, 0.9922075 ],\n",
      "       [0.00515206, 0.99484795],\n",
      "       [0.02537531, 0.9746247 ],\n",
      "       [0.07714572, 0.9228543 ],\n",
      "       [0.03248697, 0.967513  ],\n",
      "       [0.00245664, 0.99754333],\n",
      "       [0.00659634, 0.9934037 ],\n",
      "       [0.17306258, 0.82693744],\n",
      "       [0.0048682 , 0.9951318 ],\n",
      "       [0.16373438, 0.8362656 ],\n",
      "       [0.00861476, 0.9913852 ],\n",
      "       [0.966553  , 0.03344703],\n",
      "       [0.01726649, 0.9827335 ],\n",
      "       [0.7773464 , 0.22265363],\n",
      "       [0.00780803, 0.992192  ],\n",
      "       [0.9754614 , 0.02453858],\n",
      "       [0.8252898 , 0.17471021],\n",
      "       [0.97608703, 0.02391297],\n",
      "       [0.01368934, 0.98631066],\n",
      "       [0.00334656, 0.99665344],\n",
      "       [0.00865035, 0.99134964],\n",
      "       [0.00377834, 0.99622166],\n",
      "       [0.00341577, 0.99658424],\n",
      "       [0.01480638, 0.9851936 ],\n",
      "       [0.01228898, 0.987711  ],\n",
      "       [0.0073485 , 0.9926515 ],\n",
      "       [0.00690841, 0.9930916 ],\n",
      "       [0.0054463 , 0.9945537 ],\n",
      "       [0.9969929 , 0.00300711],\n",
      "       [0.05541337, 0.94458663],\n",
      "       [0.00917536, 0.99082464],\n",
      "       [0.00560017, 0.99439985],\n",
      "       [0.8950371 , 0.10496289],\n",
      "       [0.01011564, 0.9898844 ],\n",
      "       [0.05091007, 0.94908994],\n",
      "       [0.9584133 , 0.0415867 ],\n",
      "       [0.00893096, 0.991069  ],\n",
      "       [0.01222787, 0.9877721 ],\n",
      "       [0.06843054, 0.93156946],\n",
      "       [0.00376183, 0.9962382 ],\n",
      "       [0.9455983 , 0.0544017 ],\n",
      "       [0.14900024, 0.8509998 ],\n",
      "       [0.98900115, 0.01099885],\n",
      "       [0.01113618, 0.9888638 ],\n",
      "       [0.6586849 , 0.3413151 ],\n",
      "       [0.01320284, 0.98679715],\n",
      "       [0.9828021 , 0.01719791],\n",
      "       [0.01245323, 0.98754674],\n",
      "       [0.14821674, 0.8517833 ],\n",
      "       [0.01567338, 0.9843266 ],\n",
      "       [0.19884047, 0.8011595 ],\n",
      "       [0.00189231, 0.9981077 ],\n",
      "       [0.04392896, 0.956071  ],\n",
      "       [0.00549413, 0.9945059 ],\n",
      "       [0.00246302, 0.99753696],\n",
      "       [0.77916235, 0.22083765],\n",
      "       [0.14196853, 0.85803145],\n",
      "       [0.00804824, 0.99195176],\n",
      "       [0.00547763, 0.9945224 ],\n",
      "       [0.01622008, 0.9837799 ],\n",
      "       [0.00832897, 0.991671  ],\n",
      "       [0.01623131, 0.9837687 ],\n",
      "       [0.00768543, 0.9923146 ],\n",
      "       [0.00223467, 0.9977653 ],\n",
      "       [0.01899336, 0.9810066 ],\n",
      "       [0.00586706, 0.99413294],\n",
      "       [0.0121914 , 0.9878086 ],\n",
      "       [0.00433706, 0.9956629 ],\n",
      "       [0.00542118, 0.99457884],\n",
      "       [0.0074448 , 0.9925552 ],\n",
      "       [0.00492264, 0.9950774 ],\n",
      "       [0.95805377, 0.04194623],\n",
      "       [0.01559474, 0.9844053 ],\n",
      "       [0.05249665, 0.9475033 ],\n",
      "       [0.01203042, 0.9879696 ],\n",
      "       [0.9666135 , 0.03338653],\n",
      "       [0.0135894 , 0.9864106 ],\n",
      "       [0.04370563, 0.95629436],\n",
      "       [0.15538646, 0.84461355],\n",
      "       [0.12317755, 0.8768225 ],\n",
      "       [0.00297763, 0.9970224 ],\n",
      "       [0.7620291 , 0.23797089],\n",
      "       [0.99320495, 0.00679505],\n",
      "       [0.05498541, 0.9450146 ],\n",
      "       [0.00851559, 0.9914844 ],\n",
      "       [0.8165165 , 0.18348348],\n",
      "       [0.02277645, 0.9772235 ],\n",
      "       [0.00437636, 0.99562365],\n",
      "       [0.00424241, 0.9957576 ],\n",
      "       [0.00389185, 0.9961082 ],\n",
      "       [0.00344094, 0.9965591 ],\n",
      "       [0.00869111, 0.99130887],\n",
      "       [0.96411467, 0.03588533],\n",
      "       [0.0061121 , 0.9938879 ],\n",
      "       [0.00541195, 0.9945881 ],\n",
      "       [0.9810907 , 0.01890928],\n",
      "       [0.6209337 , 0.3790663 ],\n",
      "       [0.129837  , 0.87016296],\n",
      "       [0.73759246, 0.26240754],\n",
      "       [0.00145094, 0.99854904],\n",
      "       [0.03867137, 0.9613286 ],\n",
      "       [0.03000636, 0.96999365],\n",
      "       [0.7140128 , 0.2859872 ],\n",
      "       [0.00473538, 0.9952646 ],\n",
      "       [0.00285581, 0.99714416],\n",
      "       [0.5718949 , 0.42810512],\n",
      "       [0.03626581, 0.9637342 ],\n",
      "       [0.8331876 , 0.16681242],\n",
      "       [0.00395715, 0.99604285],\n",
      "       [0.00307945, 0.9969205 ],\n",
      "       [0.00787095, 0.992129  ],\n",
      "       [0.00222854, 0.99777144],\n",
      "       [0.10315513, 0.89684486],\n",
      "       [0.00555236, 0.99444765],\n",
      "       [0.00743805, 0.99256194],\n",
      "       [0.0076388 , 0.9923612 ],\n",
      "       [0.99230736, 0.00769264],\n",
      "       [0.04828779, 0.9517122 ],\n",
      "       [0.03629223, 0.96370775],\n",
      "       [0.8535187 , 0.14648128],\n",
      "       [0.00219379, 0.9978062 ],\n",
      "       [0.00309906, 0.9969009 ],\n",
      "       [0.9926026 , 0.00739741],\n",
      "       [0.00421534, 0.99578464],\n",
      "       [0.27829662, 0.7217034 ],\n",
      "       [0.97444123, 0.02555877],\n",
      "       [0.9801427 , 0.01985729],\n",
      "       [0.00703511, 0.99296486],\n",
      "       [0.00442248, 0.9955775 ],\n",
      "       [0.00332367, 0.9966763 ],\n",
      "       [0.00147952, 0.9985205 ],\n",
      "       [0.02896863, 0.97103137],\n",
      "       [0.01759931, 0.9824007 ],\n",
      "       [0.00618337, 0.9938166 ],\n",
      "       [0.00309464, 0.9969054 ],\n",
      "       [0.6792468 , 0.32075322],\n",
      "       [0.9869686 , 0.01303142],\n",
      "       [0.53832084, 0.46167916],\n",
      "       [0.09139426, 0.90860575],\n",
      "       [0.004058  , 0.995942  ],\n",
      "       [0.59460443, 0.40539557],\n",
      "       [0.00669876, 0.9933012 ],\n",
      "       [0.0059122 , 0.9940878 ],\n",
      "       [0.00459319, 0.9954068 ],\n",
      "       [0.00580448, 0.9941955 ],\n",
      "       [0.00567833, 0.99432164],\n",
      "       [0.00803432, 0.9919657 ],\n",
      "       [0.03804914, 0.96195084],\n",
      "       [0.16791852, 0.8320815 ],\n",
      "       [0.02181682, 0.97818315],\n",
      "       [0.02144093, 0.9785591 ],\n",
      "       [0.03486545, 0.96513456],\n",
      "       [0.00392292, 0.99607706],\n",
      "       [0.11537642, 0.8846236 ],\n",
      "       [0.9218171 , 0.07818288],\n",
      "       [0.12175712, 0.87824285],\n",
      "       [0.340843  , 0.65915704],\n",
      "       [0.01946254, 0.9805375 ],\n",
      "       [0.605935  , 0.39406502],\n",
      "       [0.4756747 , 0.5243253 ],\n",
      "       [0.0299936 , 0.9700064 ],\n",
      "       [0.98449296, 0.01550704],\n",
      "       [0.03565403, 0.964346  ],\n",
      "       [0.00547668, 0.9945233 ],\n",
      "       [0.00731487, 0.99268514],\n",
      "       [0.85410357, 0.14589643],\n",
      "       [0.00339311, 0.9966069 ],\n",
      "       [0.00826982, 0.99173015],\n",
      "       [0.85801136, 0.14198864],\n",
      "       [0.82977474, 0.17022526],\n",
      "       [0.00908962, 0.99091035],\n",
      "       [0.23996678, 0.76003325],\n",
      "       [0.03213598, 0.96786404],\n",
      "       [0.00538692, 0.99461305],\n",
      "       [0.87142515, 0.12857485],\n",
      "       [0.00513952, 0.9948605 ],\n",
      "       [0.00344492, 0.9965551 ],\n",
      "       [0.07665056, 0.92334944],\n",
      "       [0.00226353, 0.99773645],\n",
      "       [0.33927152, 0.66072845],\n",
      "       [0.01243929, 0.9875607 ],\n",
      "       [0.00291114, 0.99708885],\n",
      "       [0.00845531, 0.99154466],\n",
      "       [0.00752885, 0.99247116],\n",
      "       [0.9579567 , 0.04204333],\n",
      "       [0.85262156, 0.14737844],\n",
      "       [0.01036081, 0.98963916],\n",
      "       [0.00336928, 0.9966307 ],\n",
      "       [0.00467673, 0.99532324],\n",
      "       [0.24431372, 0.7556863 ],\n",
      "       [0.00846509, 0.9915349 ],\n",
      "       [0.03884794, 0.9611521 ],\n",
      "       [0.00167204, 0.998328  ],\n",
      "       [0.9692036 , 0.03079641],\n",
      "       [0.0054343 , 0.9945657 ],\n",
      "       [0.02060548, 0.9793945 ],\n",
      "       [0.00719062, 0.99280936],\n",
      "       [0.99082226, 0.00917774],\n",
      "       [0.00383842, 0.9961616 ],\n",
      "       [0.00322021, 0.9967798 ],\n",
      "       [0.00641317, 0.99358684],\n",
      "       [0.05053215, 0.94946784],\n",
      "       [0.05739739, 0.94260263],\n",
      "       [0.9928066 , 0.00719339],\n",
      "       [0.00882767, 0.9911723 ],\n",
      "       [0.00475119, 0.9952488 ],\n",
      "       [0.8988294 , 0.1011706 ],\n",
      "       [0.99418414, 0.00581586],\n",
      "       [0.00413929, 0.9958607 ],\n",
      "       [0.02480084, 0.97519916],\n",
      "       [0.01645651, 0.9835435 ],\n",
      "       [0.9675457 , 0.03245431],\n",
      "       [0.08443969, 0.9155603 ],\n",
      "       [0.14719336, 0.8528066 ],\n",
      "       [0.97650194, 0.02349806],\n",
      "       [0.01997729, 0.9800227 ],\n",
      "       [0.00209868, 0.9979013 ],\n",
      "       [0.00652668, 0.9934733 ],\n",
      "       [0.00551469, 0.9944853 ],\n",
      "       [0.95253485, 0.04746515],\n",
      "       [0.00211093, 0.99788904],\n",
      "       [0.00517474, 0.99482524],\n",
      "       [0.01086844, 0.98913157],\n",
      "       [0.95275193, 0.04724807],\n",
      "       [0.6838186 , 0.31618142],\n",
      "       [0.9313025 , 0.06869751],\n",
      "       [0.726067  , 0.273933  ],\n",
      "       [0.00393265, 0.99606735],\n",
      "       [0.02964171, 0.9703583 ],\n",
      "       [0.0040252 , 0.9959748 ],\n",
      "       [0.00732302, 0.992677  ],\n",
      "       [0.00376336, 0.9962366 ],\n",
      "       [0.00223253, 0.99776745],\n",
      "       [0.00621024, 0.99378973],\n",
      "       [0.00677288, 0.9932271 ],\n",
      "       [0.04888859, 0.95111144],\n",
      "       [0.00306625, 0.99693376],\n",
      "       [0.00897583, 0.99102414],\n",
      "       [0.19233602, 0.807664  ],\n",
      "       [0.00683683, 0.99316317],\n",
      "       [0.00451763, 0.9954824 ],\n",
      "       [0.00583669, 0.99416333],\n",
      "       [0.1557139 , 0.8442861 ],\n",
      "       [0.6029288 , 0.39707118],\n",
      "       [0.99313986, 0.00686014],\n",
      "       [0.005073  , 0.994927  ],\n",
      "       [0.9865208 , 0.01347917],\n",
      "       [0.00212392, 0.9978761 ],\n",
      "       [0.98738074, 0.01261926],\n",
      "       [0.00568027, 0.99431974],\n",
      "       [0.7279754 , 0.27202457],\n",
      "       [0.02063675, 0.97936326],\n",
      "       [0.12846494, 0.87153506],\n",
      "       [0.10661965, 0.89338034],\n",
      "       [0.01821452, 0.9817855 ],\n",
      "       [0.32627884, 0.6737212 ],\n",
      "       [0.00547596, 0.99452406],\n",
      "       [0.00469691, 0.9953031 ],\n",
      "       [0.00776396, 0.992236  ],\n",
      "       [0.00621151, 0.9937885 ],\n",
      "       [0.01258498, 0.987415  ],\n",
      "       [0.9845109 , 0.0154891 ],\n",
      "       [0.09500631, 0.9049937 ],\n",
      "       [0.00334735, 0.99665266],\n",
      "       [0.01145208, 0.9885479 ]], dtype=float32), array([[8.79057825e-01, 1.20942175e-01],\n",
      "       [1.37282452e-02, 9.86271739e-01],\n",
      "       [9.95515823e-01, 4.48417664e-03],\n",
      "       [1.06520280e-02, 9.89347994e-01],\n",
      "       [5.68150124e-03, 9.94318485e-01],\n",
      "       [4.96100495e-03, 9.95038986e-01],\n",
      "       [9.46532130e-01, 5.34678698e-02],\n",
      "       [5.01326891e-03, 9.94986713e-01],\n",
      "       [3.09334998e-03, 9.96906638e-01],\n",
      "       [3.60062905e-02, 9.63993728e-01],\n",
      "       [7.02708727e-03, 9.92972910e-01],\n",
      "       [2.44431738e-02, 9.75556850e-01],\n",
      "       [9.67678666e-01, 3.23213339e-02],\n",
      "       [9.96451199e-01, 3.54880095e-03],\n",
      "       [9.32735298e-03, 9.90672648e-01],\n",
      "       [6.02195179e-03, 9.93978024e-01],\n",
      "       [1.15620559e-02, 9.88437951e-01],\n",
      "       [3.50779621e-03, 9.96492207e-01],\n",
      "       [9.41619650e-03, 9.90583777e-01],\n",
      "       [1.70937460e-02, 9.82906282e-01],\n",
      "       [1.15750656e-02, 9.88424957e-01],\n",
      "       [5.86358178e-03, 9.94136393e-01],\n",
      "       [6.84934156e-03, 9.93150651e-01],\n",
      "       [1.22999065e-02, 9.87700105e-01],\n",
      "       [1.63089707e-02, 9.83691037e-01],\n",
      "       [1.39538795e-02, 9.86046135e-01],\n",
      "       [9.95962143e-01, 4.03785706e-03],\n",
      "       [1.77072287e-02, 9.82292771e-01],\n",
      "       [5.58510199e-02, 9.44148958e-01],\n",
      "       [2.23310217e-02, 9.77669001e-01],\n",
      "       [1.00784730e-02, 9.89921510e-01],\n",
      "       [2.26645872e-01, 7.73354113e-01],\n",
      "       [4.43069125e-03, 9.95569289e-01],\n",
      "       [2.17219791e-03, 9.97827828e-01],\n",
      "       [3.93855991e-03, 9.96061444e-01],\n",
      "       [4.31570224e-03, 9.95684326e-01],\n",
      "       [1.01403864e-02, 9.89859641e-01],\n",
      "       [3.46568599e-02, 9.65343118e-01],\n",
      "       [1.91477910e-02, 9.80852187e-01],\n",
      "       [7.03224633e-03, 9.92967725e-01],\n",
      "       [1.38871176e-02, 9.86112893e-01],\n",
      "       [1.12061039e-01, 8.87938976e-01],\n",
      "       [6.49450300e-03, 9.93505478e-01],\n",
      "       [2.19443142e-02, 9.78055716e-01],\n",
      "       [1.71653051e-02, 9.82834697e-01],\n",
      "       [2.72793099e-02, 9.72720683e-01],\n",
      "       [9.06170309e-02, 9.09382939e-01],\n",
      "       [6.08902752e-01, 3.91097248e-01],\n",
      "       [1.79039699e-03, 9.98209596e-01],\n",
      "       [1.07769117e-01, 8.92230868e-01],\n",
      "       [8.11062939e-03, 9.91889358e-01],\n",
      "       [1.77899953e-02, 9.82209980e-01],\n",
      "       [7.02577038e-03, 9.92974222e-01],\n",
      "       [4.70502209e-03, 9.95294988e-01],\n",
      "       [9.89783287e-01, 1.02167130e-02],\n",
      "       [1.13629838e-02, 9.88637030e-01],\n",
      "       [1.04911560e-02, 9.89508867e-01],\n",
      "       [9.92717326e-01, 7.28267431e-03],\n",
      "       [4.63731773e-02, 9.53626812e-01],\n",
      "       [4.70412429e-03, 9.95295882e-01],\n",
      "       [7.14816444e-04, 9.99285161e-01],\n",
      "       [9.96373117e-01, 3.62688303e-03],\n",
      "       [2.58202832e-02, 9.74179745e-01],\n",
      "       [7.03710765e-02, 9.29628909e-01],\n",
      "       [2.49881342e-01, 7.50118673e-01],\n",
      "       [2.34033745e-02, 9.76596653e-01],\n",
      "       [1.80262513e-02, 9.81973767e-01],\n",
      "       [4.29824088e-03, 9.95701730e-01],\n",
      "       [8.07189718e-02, 9.19281006e-01],\n",
      "       [1.21751957e-01, 8.78248036e-01],\n",
      "       [2.08836216e-02, 9.79116380e-01],\n",
      "       [1.34601459e-01, 8.65398526e-01],\n",
      "       [2.38127306e-01, 7.61872709e-01],\n",
      "       [2.24444363e-03, 9.97755527e-01],\n",
      "       [1.56475902e-01, 8.43524098e-01],\n",
      "       [5.92775345e-02, 9.40722466e-01],\n",
      "       [2.72687972e-02, 9.72731233e-01],\n",
      "       [6.42718934e-03, 9.93572831e-01],\n",
      "       [2.21213713e-01, 7.78786302e-01],\n",
      "       [6.11693598e-02, 9.38830614e-01],\n",
      "       [4.19372693e-02, 9.58062708e-01],\n",
      "       [9.39799298e-04, 9.99060214e-01],\n",
      "       [5.85232794e-01, 4.14767206e-01],\n",
      "       [9.87628400e-01, 1.23715997e-02],\n",
      "       [8.78934264e-01, 1.21065736e-01],\n",
      "       [4.09958279e-03, 9.95900393e-01],\n",
      "       [6.00580573e-02, 9.39941943e-01],\n",
      "       [9.96503532e-01, 3.49646807e-03],\n",
      "       [7.67752388e-03, 9.92322505e-01],\n",
      "       [1.61047634e-02, 9.83895242e-01],\n",
      "       [1.24071641e-02, 9.87592816e-01],\n",
      "       [3.89992595e-02, 9.61000741e-01],\n",
      "       [1.40543878e-02, 9.85945582e-01],\n",
      "       [5.90620004e-02, 9.40937996e-01],\n",
      "       [6.55852119e-03, 9.93441463e-01],\n",
      "       [3.28914732e-01, 6.71085238e-01],\n",
      "       [1.52444495e-02, 9.84755576e-01],\n",
      "       [1.39958328e-02, 9.86004174e-01],\n",
      "       [1.09165497e-02, 9.89083469e-01],\n",
      "       [1.70793396e-03, 9.98292089e-01],\n",
      "       [1.23754419e-01, 8.76245558e-01],\n",
      "       [4.80331341e-03, 9.95196700e-01],\n",
      "       [9.96183395e-01, 3.81660461e-03],\n",
      "       [9.73108888e-01, 2.68911123e-02],\n",
      "       [9.94611323e-01, 5.38867712e-03],\n",
      "       [4.07865718e-02, 9.59213436e-01],\n",
      "       [8.83210823e-02, 9.11678910e-01],\n",
      "       [6.73569262e-01, 3.26430738e-01],\n",
      "       [2.65292581e-02, 9.73470747e-01],\n",
      "       [2.77041141e-02, 9.72295880e-01],\n",
      "       [9.37031865e-01, 6.29681349e-02],\n",
      "       [1.08389976e-02, 9.89161015e-01],\n",
      "       [1.33613735e-01, 8.66386294e-01],\n",
      "       [1.21945413e-02, 9.87805486e-01],\n",
      "       [3.30029614e-03, 9.96699691e-01],\n",
      "       [3.81649546e-02, 9.61835027e-01],\n",
      "       [1.85683202e-02, 9.81431663e-01],\n",
      "       [9.71130550e-01, 2.88694501e-02],\n",
      "       [7.79173151e-03, 9.92208242e-01],\n",
      "       [7.70319581e-01, 2.29680419e-01],\n",
      "       [9.80271995e-01, 1.97280049e-02],\n",
      "       [3.31439869e-03, 9.96685624e-01],\n",
      "       [9.96830583e-01, 3.16941738e-03],\n",
      "       [9.77298319e-01, 2.27016807e-02],\n",
      "       [1.89953838e-02, 9.81004596e-01],\n",
      "       [2.81621981e-02, 9.71837819e-01],\n",
      "       [8.90586302e-02, 9.10941362e-01],\n",
      "       [9.54688434e-03, 9.90453124e-01],\n",
      "       [5.55306254e-03, 9.94446933e-01],\n",
      "       [1.42149273e-02, 9.85785067e-01],\n",
      "       [6.51790857e-01, 3.48209143e-01],\n",
      "       [7.21295644e-03, 9.92787063e-01],\n",
      "       [5.94778964e-03, 9.94052231e-01],\n",
      "       [1.43711315e-02, 9.85628843e-01],\n",
      "       [8.70772839e-01, 1.29227161e-01],\n",
      "       [6.96562648e-01, 3.03437352e-01],\n",
      "       [1.73402615e-02, 9.82659757e-01],\n",
      "       [2.96100900e-02, 9.70389903e-01],\n",
      "       [4.81090089e-03, 9.95189071e-01],\n",
      "       [9.61396378e-03, 9.90386009e-01],\n",
      "       [9.73723948e-01, 2.62760520e-02],\n",
      "       [4.28137034e-01, 5.71862936e-01],\n",
      "       [9.96845782e-01, 3.15421820e-03],\n",
      "       [3.72922886e-03, 9.96270776e-01],\n",
      "       [1.28415199e-02, 9.87158477e-01],\n",
      "       [4.47103474e-03, 9.95528936e-01],\n",
      "       [2.65053045e-02, 9.73494709e-01],\n",
      "       [9.96405423e-01, 3.59457731e-03],\n",
      "       [9.84276414e-01, 1.57235861e-02],\n",
      "       [2.35717348e-03, 9.97642815e-01],\n",
      "       [2.14709286e-02, 9.78529096e-01],\n",
      "       [8.88537586e-01, 1.11462414e-01],\n",
      "       [9.87531960e-01, 1.24680400e-02],\n",
      "       [3.12579125e-02, 9.68742073e-01],\n",
      "       [3.78214335e-03, 9.96217847e-01],\n",
      "       [9.75868523e-01, 2.41314769e-02],\n",
      "       [7.83933792e-03, 9.92160678e-01],\n",
      "       [5.15778549e-03, 9.94842231e-01],\n",
      "       [1.09412596e-02, 9.89058733e-01],\n",
      "       [2.05547027e-02, 9.79445279e-01],\n",
      "       [1.84940808e-02, 9.81505930e-01],\n",
      "       [1.12119019e-02, 9.88788128e-01],\n",
      "       [1.13877930e-01, 8.86122048e-01],\n",
      "       [1.11185629e-02, 9.88881409e-01],\n",
      "       [2.65501090e-03, 9.97344971e-01],\n",
      "       [9.18019842e-03, 9.90819812e-01],\n",
      "       [9.74622488e-01, 2.53775120e-02],\n",
      "       [9.95839238e-01, 4.16076183e-03],\n",
      "       [2.21265364e-03, 9.97787356e-01],\n",
      "       [1.97051689e-02, 9.80294824e-01],\n",
      "       [3.76121141e-02, 9.62387860e-01],\n",
      "       [2.05472410e-02, 9.79452729e-01],\n",
      "       [9.94694456e-02, 9.00530577e-01],\n",
      "       [6.29233522e-03, 9.93707657e-01],\n",
      "       [2.53866613e-02, 9.74613309e-01],\n",
      "       [1.39021957e-02, 9.86097813e-01],\n",
      "       [5.01900865e-03, 9.94980991e-01],\n",
      "       [4.78832237e-03, 9.95211661e-01],\n",
      "       [9.15355515e-03, 9.90846455e-01],\n",
      "       [1.42695000e-02, 9.85730529e-01],\n",
      "       [3.94238532e-03, 9.96057630e-01],\n",
      "       [4.66338277e-01, 5.33661723e-01],\n",
      "       [1.06775492e-01, 8.93224478e-01],\n",
      "       [3.22472602e-02, 9.67752755e-01],\n",
      "       [9.79604661e-01, 2.03953385e-02],\n",
      "       [4.59751338e-01, 5.40248632e-01],\n",
      "       [6.87087700e-03, 9.93129134e-01],\n",
      "       [7.47798324e-01, 2.52201676e-01],\n",
      "       [1.43831205e-02, 9.85616863e-01],\n",
      "       [8.91358219e-03, 9.91086423e-01],\n",
      "       [7.84323812e-02, 9.21567619e-01],\n",
      "       [8.37126017e-01, 1.62873983e-01],\n",
      "       [4.91808616e-02, 9.50819135e-01],\n",
      "       [6.06858917e-02, 9.39314127e-01],\n",
      "       [6.32564276e-02, 9.36743557e-01],\n",
      "       [1.43553577e-02, 9.85644639e-01],\n",
      "       [4.83011780e-03, 9.95169878e-01],\n",
      "       [5.55670308e-03, 9.94443297e-01],\n",
      "       [9.96408820e-01, 3.59117985e-03],\n",
      "       [8.56581330e-02, 9.14341867e-01],\n",
      "       [5.28627401e-03, 9.94713724e-01],\n",
      "       [4.45822906e-03, 9.95541751e-01],\n",
      "       [1.60695240e-02, 9.83930469e-01],\n",
      "       [1.72379225e-01, 8.27620745e-01],\n",
      "       [2.08212897e-01, 7.91787088e-01],\n",
      "       [2.55436748e-02, 9.74456310e-01],\n",
      "       [6.36700094e-02, 9.36329961e-01],\n",
      "       [3.68569698e-03, 9.96314287e-01],\n",
      "       [1.41534451e-02, 9.85846579e-01],\n",
      "       [9.77757294e-03, 9.90222454e-01],\n",
      "       [1.05067091e-02, 9.89493310e-01],\n",
      "       [9.42678511e-01, 5.73214889e-02],\n",
      "       [9.59038828e-03, 9.90409613e-01],\n",
      "       [8.46432686e-01, 1.53567314e-01],\n",
      "       [9.90925431e-01, 9.07456875e-03],\n",
      "       [9.96006310e-01, 3.99369001e-03],\n",
      "       [9.92515147e-01, 7.48485327e-03],\n",
      "       [2.05451753e-02, 9.79454815e-01],\n",
      "       [4.83670123e-02, 9.51632977e-01],\n",
      "       [1.04331905e-02, 9.89566803e-01],\n",
      "       [7.00435974e-03, 9.92995620e-01],\n",
      "       [8.19300301e-03, 9.91806984e-01],\n",
      "       [8.99842661e-03, 9.91001546e-01],\n",
      "       [3.35711874e-02, 9.66428816e-01],\n",
      "       [2.62454171e-02, 9.73754585e-01],\n",
      "       [6.94713593e-01, 3.05286407e-01],\n",
      "       [1.16196310e-03, 9.98838007e-01],\n",
      "       [2.51627360e-02, 9.74837244e-01],\n",
      "       [9.50389326e-01, 4.96106744e-02],\n",
      "       [1.15736742e-02, 9.88426328e-01],\n",
      "       [5.75917913e-03, 9.94240820e-01],\n",
      "       [2.59439684e-02, 9.74056005e-01],\n",
      "       [9.94372189e-01, 5.62781096e-03],\n",
      "       [9.93065178e-01, 6.93482161e-03],\n",
      "       [9.94001508e-01, 5.99849224e-03],\n",
      "       [1.56906053e-01, 8.43093932e-01],\n",
      "       [1.23323537e-02, 9.87667620e-01],\n",
      "       [7.32631683e-02, 9.26736832e-01],\n",
      "       [1.21077709e-02, 9.87892210e-01],\n",
      "       [3.37044965e-03, 9.96629536e-01],\n",
      "       [2.97734383e-02, 9.70226586e-01],\n",
      "       [2.02314500e-02, 9.79768574e-01],\n",
      "       [1.32273473e-02, 9.86772656e-01],\n",
      "       [2.69812183e-03, 9.97301877e-01],\n",
      "       [9.34793174e-01, 6.52068257e-02],\n",
      "       [3.05596143e-02, 9.69440401e-01],\n",
      "       [9.66245294e-01, 3.37547064e-02],\n",
      "       [9.96632725e-02, 9.00336742e-01],\n",
      "       [1.04413610e-02, 9.89558637e-01],\n",
      "       [1.66770853e-02, 9.83322918e-01],\n",
      "       [1.45679843e-02, 9.85432029e-01],\n",
      "       [1.03612216e-02, 9.89638805e-01],\n",
      "       [2.69104727e-03, 9.97308969e-01],\n",
      "       [4.94845584e-03, 9.95051563e-01],\n",
      "       [9.26148798e-03, 9.90738511e-01],\n",
      "       [1.03246758e-03, 9.98967528e-01],\n",
      "       [1.28340349e-02, 9.87165987e-01],\n",
      "       [2.02529598e-02, 9.79747057e-01],\n",
      "       [1.66937113e-02, 9.83306289e-01],\n",
      "       [2.28845090e-01, 7.71154881e-01],\n",
      "       [1.93044841e-02, 9.80695486e-01],\n",
      "       [9.96530950e-01, 3.46904993e-03],\n",
      "       [1.45861283e-01, 8.54138732e-01],\n",
      "       [5.78411156e-03, 9.94215906e-01],\n",
      "       [3.58732161e-03, 9.96412694e-01],\n",
      "       [5.59837883e-03, 9.94401634e-01],\n",
      "       [1.12836426e-02, 9.88716364e-01],\n",
      "       [7.54462369e-03, 9.92455363e-01],\n",
      "       [5.52941440e-03, 9.94470596e-01],\n",
      "       [2.41668493e-01, 7.58331537e-01],\n",
      "       [9.63073909e-01, 3.69260907e-02],\n",
      "       [2.85205487e-02, 9.71479475e-01],\n",
      "       [1.36606647e-02, 9.86339331e-01],\n",
      "       [1.29678957e-02, 9.87032115e-01],\n",
      "       [8.23295151e-04, 9.99176681e-01],\n",
      "       [7.18054269e-03, 9.92819428e-01],\n",
      "       [8.15537989e-01, 1.84462011e-01],\n",
      "       [1.39778808e-01, 8.60221207e-01],\n",
      "       [1.59058608e-02, 9.84094143e-01],\n",
      "       [5.48178749e-03, 9.94518220e-01],\n",
      "       [8.88401270e-03, 9.91115987e-01],\n",
      "       [1.82198379e-02, 9.81780171e-01],\n",
      "       [1.54827442e-02, 9.84517276e-01],\n",
      "       [1.10270306e-02, 9.88972962e-01],\n",
      "       [1.11655202e-02, 9.88834500e-01],\n",
      "       [8.91329169e-01, 1.08670831e-01],\n",
      "       [9.05354977e-01, 9.46450233e-02],\n",
      "       [4.12735939e-02, 9.58726406e-01],\n",
      "       [9.89701152e-01, 1.02988482e-02],\n",
      "       [1.88516695e-02, 9.81148303e-01],\n",
      "       [2.81731449e-02, 9.71826851e-01],\n",
      "       [5.30657452e-03, 9.94693398e-01],\n",
      "       [9.83739913e-01, 1.62600875e-02],\n",
      "       [8.02149773e-02, 9.19785023e-01],\n",
      "       [2.10670941e-03, 9.97893274e-01],\n",
      "       [1.79171264e-02, 9.82082844e-01],\n",
      "       [2.67584682e-01, 7.32415318e-01],\n",
      "       [9.93466139e-01, 6.53386116e-03],\n",
      "       [7.74353277e-03, 9.92256463e-01]], dtype=float32)]\n"
     ]
    }
   ],
   "source": [
    "result_u = []\n",
    "\n",
    "for i in range(6):\n",
    "    sub_matrix = np.column_stack((y_test_pred_u[:, i], 1 - y_test_pred_u[:, i]))\n",
    "    result_u.append(sub_matrix)\n",
    "\n",
    "print(result_u)"
   ]
  },
  {
   "cell_type": "code",
   "execution_count": 61,
   "id": "e5919c1b",
   "metadata": {},
   "outputs": [],
   "source": [
    "y_test = y_test.values"
   ]
  },
  {
   "cell_type": "code",
   "execution_count": 62,
   "id": "e353a4df",
   "metadata": {},
   "outputs": [
    {
     "data": {
      "text/html": [
       "<div>\n",
       "<style scoped>\n",
       "    .dataframe tbody tr th:only-of-type {\n",
       "        vertical-align: middle;\n",
       "    }\n",
       "\n",
       "    .dataframe tbody tr th {\n",
       "        vertical-align: top;\n",
       "    }\n",
       "\n",
       "    .dataframe thead th {\n",
       "        text-align: right;\n",
       "    }\n",
       "</style>\n",
       "<table border=\"1\" class=\"dataframe\">\n",
       "  <thead>\n",
       "    <tr style=\"text-align: right;\">\n",
       "      <th></th>\n",
       "      <th>Computer Science</th>\n",
       "      <th>Physics</th>\n",
       "      <th>Mathematics</th>\n",
       "      <th>Statistics</th>\n",
       "      <th>Quantitative Biology</th>\n",
       "      <th>Quantitative Finance</th>\n",
       "    </tr>\n",
       "  </thead>\n",
       "  <tbody>\n",
       "    <tr>\n",
       "      <th>Computer Science</th>\n",
       "      <td>0.111185</td>\n",
       "      <td>0.215340</td>\n",
       "      <td>0.196177</td>\n",
       "      <td>0.099868</td>\n",
       "      <td>0.188821</td>\n",
       "      <td>0.188610</td>\n",
       "    </tr>\n",
       "    <tr>\n",
       "      <th>Physics</th>\n",
       "      <td>0.182511</td>\n",
       "      <td>0.111668</td>\n",
       "      <td>0.188182</td>\n",
       "      <td>0.189064</td>\n",
       "      <td>0.143851</td>\n",
       "      <td>0.184724</td>\n",
       "    </tr>\n",
       "    <tr>\n",
       "      <th>Mathematics</th>\n",
       "      <td>0.181405</td>\n",
       "      <td>0.192297</td>\n",
       "      <td>0.073209</td>\n",
       "      <td>0.147642</td>\n",
       "      <td>0.203978</td>\n",
       "      <td>0.201469</td>\n",
       "    </tr>\n",
       "    <tr>\n",
       "      <th>Statistics</th>\n",
       "      <td>0.133830</td>\n",
       "      <td>0.222417</td>\n",
       "      <td>0.178879</td>\n",
       "      <td>0.083751</td>\n",
       "      <td>0.186944</td>\n",
       "      <td>0.194179</td>\n",
       "    </tr>\n",
       "    <tr>\n",
       "      <th>Quantitative Biology</th>\n",
       "      <td>0.149085</td>\n",
       "      <td>0.213353</td>\n",
       "      <td>0.210145</td>\n",
       "      <td>0.157357</td>\n",
       "      <td>0.086294</td>\n",
       "      <td>0.183766</td>\n",
       "    </tr>\n",
       "    <tr>\n",
       "      <th>Quantitative Finance</th>\n",
       "      <td>0.187518</td>\n",
       "      <td>0.200454</td>\n",
       "      <td>0.188716</td>\n",
       "      <td>0.180147</td>\n",
       "      <td>0.192065</td>\n",
       "      <td>0.051100</td>\n",
       "    </tr>\n",
       "  </tbody>\n",
       "</table>\n",
       "</div>"
      ],
      "text/plain": [
       "                      Computer Science   Physics  Mathematics  Statistics  \\\n",
       "Computer Science              0.111185  0.215340     0.196177    0.099868   \n",
       "Physics                       0.182511  0.111668     0.188182    0.189064   \n",
       "Mathematics                   0.181405  0.192297     0.073209    0.147642   \n",
       "Statistics                    0.133830  0.222417     0.178879    0.083751   \n",
       "Quantitative Biology          0.149085  0.213353     0.210145    0.157357   \n",
       "Quantitative Finance          0.187518  0.200454     0.188716    0.180147   \n",
       "\n",
       "                      Quantitative Biology  Quantitative Finance  \n",
       "Computer Science                  0.188821              0.188610  \n",
       "Physics                           0.143851              0.184724  \n",
       "Mathematics                       0.203978              0.201469  \n",
       "Statistics                        0.186944              0.194179  \n",
       "Quantitative Biology              0.086294              0.183766  \n",
       "Quantitative Finance              0.192065              0.051100  "
      ]
     },
     "execution_count": 62,
     "metadata": {},
     "output_type": "execute_result"
    }
   ],
   "source": [
    "df = matrix_prob(y_test, result_u)\n",
    "df"
   ]
  },
  {
   "cell_type": "code",
   "execution_count": 63,
   "id": "55f4f616",
   "metadata": {},
   "outputs": [
    {
     "data": {
      "image/png": "[encoded data removed]",
      "text/plain": [
       "<Figure size 720x576 with 2 Axes>"
      ]
     },
     "metadata": {
      "needs_background": "light"
     },
     "output_type": "display_data"
    }
   ],
   "source": [
    "heatmap_prob(df)"
   ]
  },
  {
   "cell_type": "markdown",
   "id": "be3930ea",
   "metadata": {},
   "source": [
    "# Oversampling"
   ]
  },
  {
   "cell_type": "code",
   "execution_count": 64,
   "id": "96ca8ae7",
   "metadata": {},
   "outputs": [],
   "source": [
    "from imblearn.over_sampling import RandomOverSampler"
   ]
  },
  {
   "cell_type": "code",
   "execution_count": 65,
   "id": "1ab8aaf6",
   "metadata": {},
   "outputs": [],
   "source": [
    "X = train_df.loc[:,\"cleaned_text\"].values\n",
    "y = train_df.loc[:,categories].values"
   ]
  },
  {
   "cell_type": "code",
   "execution_count": 66,
   "id": "154e7886",
   "metadata": {},
   "outputs": [
    {
     "name": "stdout",
     "output_type": "stream",
     "text": [
      "Shape of X_balanced: (51564,)\n",
      "Shape of y_balanced: (51564, 6)\n"
     ]
    }
   ],
   "source": [
    "from sklearn.utils import shuffle\n",
    "\n",
    "class_counts = np.sum(y, axis=0)\n",
    "\n",
    "max_count = np.max(class_counts)\n",
    "\n",
    "X_balanced = []\n",
    "y_balanced = []\n",
    "\n",
    "for i in range(y.shape[1]):\n",
    "    indices = np.where(y[:, i] == 1)[0]\n",
    "    \n",
    "    oversampled_indices = np.random.choice(indices, size=max_count, replace=True)\n",
    "    \n",
    "    X_balanced.extend(X[oversampled_indices])\n",
    "    y_balanced.extend(y[oversampled_indices])\n",
    "\n",
    "X_balanced = np.array(X_balanced)\n",
    "y_balanced = np.array(y_balanced)\n",
    "\n",
    "X_balanced, y_balanced = shuffle(X_balanced, y_balanced, random_state=42)\n",
    "\n",
    "print(\"Shape of X_balanced:\", X_balanced.shape)\n",
    "print(\"Shape of y_balanced:\", y_balanced.shape)\n",
    "\n"
   ]
  },
  {
   "cell_type": "code",
   "execution_count": 67,
   "id": "81578bb9",
   "metadata": {},
   "outputs": [
    {
     "data": {
      "text/plain": [
       "array([15639,  9752, 11524, 15356,  8953,  8716], dtype=int64)"
      ]
     },
     "execution_count": 67,
     "metadata": {},
     "output_type": "execute_result"
    }
   ],
   "source": [
    "class_counts = np.sum(y_balanced, axis=0)\n",
    "class_counts"
   ]
  },
  {
   "cell_type": "code",
   "execution_count": 68,
   "id": "a81ef0b0",
   "metadata": {},
   "outputs": [],
   "source": [
    "category_count_sampling = []\n",
    "for i in range(len(categories)):\n",
    "  category_count_sampling.append(y_balanced[y_balanced == i].shape[0]) "
   ]
  },
  {
   "cell_type": "code",
   "execution_count": 69,
   "id": "99d42ea3",
   "metadata": {
    "scrolled": true
   },
   "outputs": [
    {
     "data": {
      "text/plain": [
       "Text(0.5, 1.0, 'Number of articles in each category')"
      ]
     },
     "execution_count": 69,
     "metadata": {},
     "output_type": "execute_result"
    },
    {
     "data": {
      "image/png": "[encoded data removed]",
      "text/plain": [
       "<Figure size 1080x360 with 1 Axes>"
      ]
     },
     "metadata": {
      "needs_background": "light"
     },
     "output_type": "display_data"
    }
   ],
   "source": [
    "plt.figure(figsize=(15,5))\n",
    "plt.bar(categories,class_counts)\n",
    "plt.title(\"Number of articles in each category\")"
   ]
  },
  {
   "cell_type": "code",
   "execution_count": 70,
   "id": "7481aba2",
   "metadata": {},
   "outputs": [],
   "source": [
    "X_train,X_test,y_train,y_test=split(X_balanced, y_balanced,0.2)"
   ]
  },
  {
   "cell_type": "markdown",
   "id": "82a87489",
   "metadata": {},
   "source": [
    "# Tokenization and padding after oversampling the data"
   ]
  },
  {
   "cell_type": "code",
   "execution_count": 71,
   "id": "292fccb0",
   "metadata": {},
   "outputs": [],
   "source": [
    "tokenizer = Tokenizer()\n",
    "tokenizer.fit_on_texts(X_train)"
   ]
  },
  {
   "cell_type": "code",
   "execution_count": 72,
   "id": "79bb7257",
   "metadata": {},
   "outputs": [],
   "source": [
    "X_train_seq = tokenizer.texts_to_sequences(X_train)\n",
    "X_train_pad = pad_sequences(X_train_seq, maxlen=max_length)"
   ]
  },
  {
   "cell_type": "code",
   "execution_count": 73,
   "id": "9c24b7fb",
   "metadata": {},
   "outputs": [],
   "source": [
    "X_test_seq = tokenizer.texts_to_sequences(X_test)\n",
    "X_test_pad = pad_sequences(X_test_seq, maxlen=max_length)"
   ]
  },
  {
   "cell_type": "markdown",
   "id": "a4416183",
   "metadata": {},
   "source": [
    "# LSTM model"
   ]
  },
  {
   "cell_type": "code",
   "execution_count": 288,
   "id": "e4828ed8",
   "metadata": {},
   "outputs": [
    {
     "data": {
      "text/plain": [
       "39398"
      ]
     },
     "execution_count": 288,
     "metadata": {},
     "output_type": "execute_result"
    }
   ],
   "source": [
    "vocab_size = len(tokenizer.word_index) + 1\n",
    "embedding_dim = 50\n",
    "vocab_size"
   ]
  },
  {
   "cell_type": "code",
   "execution_count": 74,
   "id": "203c0f07",
   "metadata": {},
   "outputs": [
    {
     "name": "stdout",
     "output_type": "stream",
     "text": [
      "Epoch 1/10\n",
      "1290/1290 [==============================] - 1398s 1s/step - loss: 0.2208 - accuracy: 0.6778 - val_loss: 0.1300 - val_accuracy: 0.7914\n",
      "Epoch 2/10\n",
      "1290/1290 [==============================] - 1750s 1s/step - loss: 0.0962 - accuracy: 0.7693 - val_loss: 0.0940 - val_accuracy: 0.7992\n",
      "Epoch 3/10\n",
      "1290/1290 [==============================] - 1617s 1s/step - loss: 0.0602 - accuracy: 0.7817 - val_loss: 0.0850 - val_accuracy: 0.7108\n",
      "Epoch 4/10\n",
      "1290/1290 [==============================] - 1682s 1s/step - loss: 0.0424 - accuracy: 0.7923 - val_loss: 0.0714 - val_accuracy: 0.7670\n",
      "Epoch 5/10\n",
      "1290/1290 [==============================] - 1736s 1s/step - loss: 0.0317 - accuracy: 0.7953 - val_loss: 0.0733 - val_accuracy: 0.7344\n",
      "Epoch 6/10\n",
      "1290/1290 [==============================] - 1791s 1s/step - loss: 0.0231 - accuracy: 0.8038 - val_loss: 0.0678 - val_accuracy: 0.7909\n",
      "Epoch 7/10\n",
      "1290/1290 [==============================] - 1730s 1s/step - loss: 0.0192 - accuracy: 0.8137 - val_loss: 0.0701 - val_accuracy: 0.7968\n",
      "Epoch 8/10\n",
      "1290/1290 [==============================] - 1892s 1s/step - loss: 0.0142 - accuracy: 0.8225 - val_loss: 0.0762 - val_accuracy: 0.7733\n",
      "Epoch 9/10\n",
      "1290/1290 [==============================] - 1845s 1s/step - loss: 0.0116 - accuracy: 0.8295 - val_loss: 0.0734 - val_accuracy: 0.7775\n",
      "Epoch 10/10\n",
      "1290/1290 [==============================] - 1865s 1s/step - loss: 0.0097 - accuracy: 0.8295 - val_loss: 0.0768 - val_accuracy: 0.8295\n"
     ]
    }
   ],
   "source": [
    "oversampling_history = model.fit(X_train_pad, y_train, batch_size=32, epochs=10, validation_data=(X_test_pad, y_test))"
   ]
  },
  {
   "cell_type": "code",
   "execution_count": 75,
   "id": "61a6c01c",
   "metadata": {},
   "outputs": [
    {
     "name": "stdout",
     "output_type": "stream",
     "text": [
      "1290/1290 [==============================] - 418s 324ms/step\n"
     ]
    }
   ],
   "source": [
    "y_train_pred_o = model.predict(X_train_pad)"
   ]
  },
  {
   "cell_type": "code",
   "execution_count": 76,
   "id": "721f0342",
   "metadata": {},
   "outputs": [
    {
     "name": "stdout",
     "output_type": "stream",
     "text": [
      "323/323 [==============================] - 84s 259ms/step\n"
     ]
    }
   ],
   "source": [
    "y_test_pred_o = model.predict(X_test_pad)"
   ]
  },
  {
   "cell_type": "code",
   "execution_count": 77,
   "id": "53114da5",
   "metadata": {},
   "outputs": [],
   "source": [
    "import numpy as np\n",
    "threshold = 0.7\n",
    "\n",
    "y_train_pred_binary_o = np.where(y_train_pred_o >= threshold, 1, 0)\n",
    "y_test_pred_binary_o = np.where(y_test_pred_o >= threshold, 1, 0)"
   ]
  },
  {
   "cell_type": "code",
   "execution_count": 78,
   "id": "9b67e5ab",
   "metadata": {},
   "outputs": [
    {
     "name": "stdout",
     "output_type": "stream",
     "text": [
      "                      precision    recall  f1-score   support\n",
      "\n",
      "    Computer Science       0.96      0.94      0.95      3196\n",
      "             Physics       0.97      0.96      0.96      1931\n",
      "         Mathematics       0.94      0.97      0.95      2260\n",
      "          Statistics       0.96      0.96      0.96      3087\n",
      "Quantitative Biology       0.99      1.00      0.99      1776\n",
      "Quantitative Finance       1.00      0.99      1.00      1740\n",
      "\n",
      "           micro avg       0.97      0.97      0.97     13990\n",
      "           macro avg       0.97      0.97      0.97     13990\n",
      "        weighted avg       0.97      0.97      0.97     13990\n",
      "         samples avg       0.97      0.97      0.96     13990\n",
      "\n"
     ]
    },
    {
     "name": "stderr",
     "output_type": "stream",
     "text": [
      "C:\\Users\\LEGION\\anaconda3\\lib\\site-packages\\sklearn\\metrics\\_classification.py:1327: UndefinedMetricWarning: Precision and F-score are ill-defined and being set to 0.0 in samples with no predicted labels. Use `zero_division` parameter to control this behavior.\n",
      "  _warn_prf(average, modifier, msg_start, len(result))\n"
     ]
    }
   ],
   "source": [
    "cr = classification_report(\n",
    "    y_test,\n",
    "    y_test_pred_binary_o ,\n",
    "    target_names=categories\n",
    ")\n",
    "print(cr)"
   ]
  },
  {
   "cell_type": "code",
   "execution_count": 80,
   "id": "3dace91b",
   "metadata": {},
   "outputs": [
    {
     "data": {
      "image/png": "[encoded data removed]",
      "text/plain": [
       "<Figure size 1080x720 with 12 Axes>"
      ]
     },
     "metadata": {
      "needs_background": "light"
     },
     "output_type": "display_data"
    },
    {
     "name": "stdout",
     "output_type": "stream",
     "text": [
      "Accuracy per class:\n",
      "Computer Science : 0.9686803064093862\n",
      "Physics : 0.98584311063706\n",
      "Mathematics : 0.9783768059730438\n",
      "Statistics : 0.9770192960341316\n",
      "Quantitative Biology : 0.9973819451178124\n",
      "Quantitative Finance : 0.9984485600698148\n",
      "All accuracy:  0.9304760981285756\n"
     ]
    }
   ],
   "source": [
    "plot_confusion_matrix(y_test, y_test_pred_binary_o , categories)"
   ]
  },
  {
   "cell_type": "code",
   "execution_count": 81,
   "id": "5dbf2a65",
   "metadata": {},
   "outputs": [
    {
     "name": "stdout",
     "output_type": "stream",
     "text": [
      "[array([[9.99140263e-01, 8.59737396e-04],\n",
      "       [8.83880675e-01, 1.16119325e-01],\n",
      "       [9.98651266e-01, 1.34873390e-03],\n",
      "       ...,\n",
      "       [1.61261682e-03, 9.98387396e-01],\n",
      "       [2.37974199e-03, 9.97620285e-01],\n",
      "       [9.47776973e-01, 5.22230268e-02]], dtype=float32), array([[2.6353097e-03, 9.9736470e-01],\n",
      "       [1.2271230e-02, 9.8772877e-01],\n",
      "       [4.2302818e-03, 9.9576974e-01],\n",
      "       ...,\n",
      "       [7.6436174e-01, 2.3563826e-01],\n",
      "       [9.9985927e-01, 1.4072657e-04],\n",
      "       [3.4239948e-02, 9.6576005e-01]], dtype=float32), array([[1.5056612e-03, 9.9849433e-01],\n",
      "       [6.6809803e-01, 3.3190197e-01],\n",
      "       [6.4726276e-03, 9.9352735e-01],\n",
      "       ...,\n",
      "       [9.7955883e-01, 2.0441175e-02],\n",
      "       [7.9100940e-04, 9.9920899e-01],\n",
      "       [1.1800957e-01, 8.8199043e-01]], dtype=float32), array([[2.7752431e-02, 9.7224754e-01],\n",
      "       [8.0447957e-02, 9.1955203e-01],\n",
      "       [2.4813583e-02, 9.7518641e-01],\n",
      "       ...,\n",
      "       [2.1257207e-03, 9.9787426e-01],\n",
      "       [4.2808495e-04, 9.9957192e-01],\n",
      "       [1.0561075e-01, 8.9438927e-01]], dtype=float32), array([[2.1713266e-04, 9.9978286e-01],\n",
      "       [2.5848467e-02, 9.7415155e-01],\n",
      "       [5.9522950e-04, 9.9940479e-01],\n",
      "       ...,\n",
      "       [3.3753092e-04, 9.9966246e-01],\n",
      "       [1.1259062e-04, 9.9988741e-01],\n",
      "       [4.1338630e-02, 9.5866138e-01]], dtype=float32), array([[1.0410792e-05, 9.9998957e-01],\n",
      "       [5.3432122e-02, 9.4656789e-01],\n",
      "       [5.1596089e-05, 9.9994838e-01],\n",
      "       ...,\n",
      "       [6.3854400e-03, 9.9361455e-01],\n",
      "       [2.1265672e-05, 9.9997872e-01],\n",
      "       [9.1204653e-03, 9.9087954e-01]], dtype=float32)]\n"
     ]
    }
   ],
   "source": [
    "result_o = []\n",
    "\n",
    "for i in range(6):\n",
    "    sub_matrix = np.column_stack((y_test_pred_o[:, i],y_test_pred_o[:, i], ))\n",
    "    result_o.append(sub_matrix)\n",
    "\n",
    "print(result)"
   ]
  },
  {
   "cell_type": "code",
   "execution_count": 84,
   "id": "7ddfe935",
   "metadata": {},
   "outputs": [
    {
     "data": {
      "text/html": [
       "<div>\n",
       "<style scoped>\n",
       "    .dataframe tbody tr th:only-of-type {\n",
       "        vertical-align: middle;\n",
       "    }\n",
       "\n",
       "    .dataframe tbody tr th {\n",
       "        vertical-align: top;\n",
       "    }\n",
       "\n",
       "    .dataframe thead th {\n",
       "        text-align: right;\n",
       "    }\n",
       "</style>\n",
       "<table border=\"1\" class=\"dataframe\">\n",
       "  <thead>\n",
       "    <tr style=\"text-align: right;\">\n",
       "      <th></th>\n",
       "      <th>Computer Science</th>\n",
       "      <th>Physics</th>\n",
       "      <th>Mathematics</th>\n",
       "      <th>Statistics</th>\n",
       "      <th>Quantitative Biology</th>\n",
       "      <th>Quantitative Finance</th>\n",
       "    </tr>\n",
       "  </thead>\n",
       "  <tbody>\n",
       "    <tr>\n",
       "      <th>Computer Science</th>\n",
       "      <td>0.543141</td>\n",
       "      <td>0.047039</td>\n",
       "      <td>0.099161</td>\n",
       "      <td>0.271903</td>\n",
       "      <td>0.023055</td>\n",
       "      <td>0.015701</td>\n",
       "    </tr>\n",
       "    <tr>\n",
       "      <th>Physics</th>\n",
       "      <td>0.101914</td>\n",
       "      <td>0.766419</td>\n",
       "      <td>0.088392</td>\n",
       "      <td>0.036913</td>\n",
       "      <td>0.005508</td>\n",
       "      <td>0.000855</td>\n",
       "    </tr>\n",
       "    <tr>\n",
       "      <th>Mathematics</th>\n",
       "      <td>0.140707</td>\n",
       "      <td>0.056945</td>\n",
       "      <td>0.615425</td>\n",
       "      <td>0.185650</td>\n",
       "      <td>0.000397</td>\n",
       "      <td>0.000875</td>\n",
       "    </tr>\n",
       "    <tr>\n",
       "      <th>Statistics</th>\n",
       "      <td>0.262154</td>\n",
       "      <td>0.017499</td>\n",
       "      <td>0.115276</td>\n",
       "      <td>0.508713</td>\n",
       "      <td>0.060859</td>\n",
       "      <td>0.035499</td>\n",
       "    </tr>\n",
       "    <tr>\n",
       "      <th>Quantitative Biology</th>\n",
       "      <td>0.048929</td>\n",
       "      <td>0.000017</td>\n",
       "      <td>0.000023</td>\n",
       "      <td>0.153014</td>\n",
       "      <td>0.783882</td>\n",
       "      <td>0.014135</td>\n",
       "    </tr>\n",
       "    <tr>\n",
       "      <th>Quantitative Finance</th>\n",
       "      <td>0.040405</td>\n",
       "      <td>0.000009</td>\n",
       "      <td>0.000999</td>\n",
       "      <td>0.098403</td>\n",
       "      <td>0.019961</td>\n",
       "      <td>0.840223</td>\n",
       "    </tr>\n",
       "  </tbody>\n",
       "</table>\n",
       "</div>"
      ],
      "text/plain": [
       "                      Computer Science   Physics  Mathematics  Statistics  \\\n",
       "Computer Science              0.543141  0.047039     0.099161    0.271903   \n",
       "Physics                       0.101914  0.766419     0.088392    0.036913   \n",
       "Mathematics                   0.140707  0.056945     0.615425    0.185650   \n",
       "Statistics                    0.262154  0.017499     0.115276    0.508713   \n",
       "Quantitative Biology          0.048929  0.000017     0.000023    0.153014   \n",
       "Quantitative Finance          0.040405  0.000009     0.000999    0.098403   \n",
       "\n",
       "                      Quantitative Biology  Quantitative Finance  \n",
       "Computer Science                  0.023055              0.015701  \n",
       "Physics                           0.005508              0.000855  \n",
       "Mathematics                       0.000397              0.000875  \n",
       "Statistics                        0.060859              0.035499  \n",
       "Quantitative Biology              0.783882              0.014135  \n",
       "Quantitative Finance              0.019961              0.840223  "
      ]
     },
     "execution_count": 84,
     "metadata": {},
     "output_type": "execute_result"
    }
   ],
   "source": [
    "df = matrix_prob(y_test, result_o)\n",
    "df"
   ]
  },
  {
   "cell_type": "code",
   "execution_count": 85,
   "id": "49b16803",
   "metadata": {},
   "outputs": [
    {
     "data": {
      "image/png": "[encoded data removed]",
      "text/plain": [
       "<Figure size 720x576 with 2 Axes>"
      ]
     },
     "metadata": {
      "needs_background": "light"
     },
     "output_type": "display_data"
    }
   ],
   "source": [
    "heatmap_prob(df)"
   ]
  },
  {
   "cell_type": "markdown",
   "id": "b2a75452",
   "metadata": {},
   "source": [
    "# Creating an LSTM model with an Embedding layer"
   ]
  },
  {
   "cell_type": "code",
   "execution_count": 86,
   "id": "68bd6280",
   "metadata": {},
   "outputs": [
    {
     "data": {
      "text/plain": [
       "39756"
      ]
     },
     "execution_count": 86,
     "metadata": {},
     "output_type": "execute_result"
    }
   ],
   "source": [
    "vocab_size = len(tokenizer.word_index) + 1\n",
    "embedding_dim = 50\n",
    "vocab_size"
   ]
  },
  {
   "cell_type": "code",
   "execution_count": 87,
   "id": "76649a53",
   "metadata": {},
   "outputs": [],
   "source": [
    "def build_model(hp):\n",
    "    model = Sequential()\n",
    "    model.add(Embedding(input_dim=vocab_size, output_dim=embedding_dim, input_length=max_length))\n",
    "    model.add(LSTM(units=128))\n",
    "    model.add(Dense(units=6, activation='sigmoid'))\n",
    "    \n",
    "    model.compile(loss='binary_crossentropy', optimizer='adam', metrics=['accuracy'])\n",
    "    return model"
   ]
  },
  {
   "cell_type": "markdown",
   "id": "61cf7c39",
   "metadata": {},
   "source": [
    "# Search for the best model"
   ]
  },
  {
   "cell_type": "code",
   "execution_count": 88,
   "id": "9af33b9f",
   "metadata": {},
   "outputs": [
    {
     "name": "stdout",
     "output_type": "stream",
     "text": [
      "INFO:tensorflow:Reloading Tuner from .\\untitled_project\\tuner0.json\n"
     ]
    },
    {
     "name": "stderr",
     "output_type": "stream",
     "text": [
      "C:\\Users\\LEGION\\AppData\\Local\\Temp\\ipykernel_24492\\437492748.py:1: DeprecationWarning: `import kerastuner` is deprecated, please use `import keras_tuner`.\n",
      "  from kerastuner.tuners import RandomSearch\n"
     ]
    }
   ],
   "source": [
    "from kerastuner.tuners import RandomSearch\n",
    "\n",
    "tuner = RandomSearch(\n",
    "    build_model,\n",
    "    objective='val_loss',\n",
    "    max_trials=5)"
   ]
  },
  {
   "cell_type": "code",
   "execution_count": 89,
   "id": "2aae4f0a",
   "metadata": {},
   "outputs": [
    {
     "data": {
      "text/plain": [
       "array([[0, 0, 0, 0, 1, 0],\n",
       "       [1, 0, 0, 0, 0, 0],\n",
       "       [0, 0, 0, 0, 0, 1],\n",
       "       ...,\n",
       "       [1, 0, 0, 0, 0, 0],\n",
       "       [1, 0, 0, 0, 0, 0],\n",
       "       [0, 0, 1, 0, 0, 0]], dtype=int64)"
      ]
     },
     "execution_count": 89,
     "metadata": {},
     "output_type": "execute_result"
    }
   ],
   "source": [
    "y_train"
   ]
  },
  {
   "cell_type": "code",
   "execution_count": 90,
   "id": "0c4c0ba0",
   "metadata": {},
   "outputs": [
    {
     "data": {
      "text/plain": [
       "(41251, 100)"
      ]
     },
     "execution_count": 90,
     "metadata": {},
     "output_type": "execute_result"
    }
   ],
   "source": [
    "X_train_pad.shape"
   ]
  },
  {
   "cell_type": "code",
   "execution_count": 91,
   "id": "106ffaa0",
   "metadata": {},
   "outputs": [
    {
     "name": "stdout",
     "output_type": "stream",
     "text": [
      "INFO:tensorflow:Oracle triggered exit\n",
      "Results summary\n",
      "Results in .\\untitled_project\n",
      "Showing 10 best trials\n",
      "Objective(name=\"val_loss\", direction=\"min\")\n",
      "\n",
      "Trial 0 summary\n",
      "Hyperparameters:\n",
      "default configuration\n",
      "Score: 0.2648775577545166\n"
     ]
    }
   ],
   "source": [
    "tuner.search(X_train_pad, y_train, epochs=10, validation_split=0.2)\n",
    "tuner.results_summary()"
   ]
  },
  {
   "cell_type": "code",
   "execution_count": 93,
   "id": "e47be6b0",
   "metadata": {},
   "outputs": [],
   "source": [
    "# best_model = tuner.get_best_models(num_models=1)[0]\n",
    "# best_model"
   ]
  },
  {
   "cell_type": "markdown",
   "id": "5afe54cd",
   "metadata": {},
   "source": [
    "###### best_model.summary()"
   ]
  },
  {
   "cell_type": "code",
   "execution_count": null,
   "id": "756f35a3",
   "metadata": {},
   "outputs": [],
   "source": [
    "from keras.callbacks import EarlyStopping\n",
    "\n",
    "es = EarlyStopping(monitor='val_loss', mode='min', verbose=1, patience=5)\n",
    "his = best_model.fit(X_train_pad, y_train, batch_size=32, epochs=10, \n",
    "                     validation_data=(X_test_pad, y_test), callbacks=[es])"
   ]
  },
  {
   "cell_type": "markdown",
   "id": "eaadd73c",
   "metadata": {},
   "source": [
    "# Visualization of results"
   ]
  },
  {
   "cell_type": "code",
   "execution_count": null,
   "id": "ecf3a9de",
   "metadata": {},
   "outputs": [],
   "source": [
    "y_train_pred = model.predict(X_train_pad)\n",
    "y_test_pred = model.predict(X_test_pad)"
   ]
  },
  {
   "cell_type": "code",
   "execution_count": null,
   "id": "a88b0fa9",
   "metadata": {},
   "outputs": [],
   "source": [
    "import numpy as np\n",
    "threshold = 0.7\n",
    "\n",
    "y_train_pred_binary = np.where(y_train_pred >= threshold, 1, 0)\n",
    "y_test_pred_binary = np.where(y_test_pred >= threshold, 1, 0)"
   ]
  },
  {
   "cell_type": "code",
   "execution_count": null,
   "id": "e235a0b8",
   "metadata": {},
   "outputs": [],
   "source": [
    "for row in y_train_pred_binary:\n",
    "    if np.sum(row) >= 2:\n",
    "        print(row)"
   ]
  },
  {
   "cell_type": "code",
   "execution_count": null,
   "id": "a2cb4118",
   "metadata": {},
   "outputs": [],
   "source": [
    "cr = classification_report(\n",
    "    y_test,\n",
    "    y_test_pred_binary ,\n",
    "    target_names=categories\n",
    ")\n",
    "print(cr)"
   ]
  },
  {
   "cell_type": "code",
   "execution_count": null,
   "id": "8e7a5529",
   "metadata": {},
   "outputs": [],
   "source": [
    "plot_confusion_matrix(y_test, y_test_pred_binary , categories)"
   ]
  },
  {
   "cell_type": "code",
   "execution_count": null,
   "id": "8e54e658",
   "metadata": {},
   "outputs": [],
   "source": [
    "result = []\n",
    "\n",
    "for i in range(6):\n",
    "    sub_matrix = np.column_stack((y_test_pred[:, i], 1 - y_test_pred[:, i]))\n",
    "    result.append(sub_matrix)\n",
    "\n",
    "print(result)"
   ]
  },
  {
   "cell_type": "code",
   "execution_count": null,
   "id": "31c2cf5d",
   "metadata": {},
   "outputs": [],
   "source": [
    "df = matrix_prob(y_test, result)\n",
    "df"
   ]
  },
  {
   "cell_type": "code",
   "execution_count": null,
   "id": "6e3c07ae",
   "metadata": {},
   "outputs": [],
   "source": [
    "heatmap_prob(df)"
   ]
  },
  {
   "cell_type": "code",
   "execution_count": 79,
   "id": "626ab2e1",
   "metadata": {
    "scrolled": true
   },
   "outputs": [
    {
     "data": {
      "image/png": "[encoded data removed]",
      "text/plain": [
       "<Figure size 1440x504 with 2 Axes>"
      ]
     },
     "metadata": {},
     "output_type": "display_data"
    }
   ],
   "source": [
    "fig = plt.figure(figsize=(20,7))\n",
    "fig.add_subplot(121)\n",
    "\n",
    "\n",
    "plt.plot(his.epoch, his.history['accuracy'], label = \"accuracy\")\n",
    "plt.plot(his.epoch, his.history['val_accuracy'], label = \"val_accuracy\")\n",
    "\n",
    "plt.title(\"Accuracy\", fontsize=18)\n",
    "plt.xlabel(\"Epochs\", fontsize=15)\n",
    "plt.ylabel(\"Accuracy\", fontsize=15)\n",
    "plt.grid(alpha=0.3)\n",
    "plt.legend()\n",
    "\n",
    "fig.add_subplot(122)\n",
    "\n",
    "plt.plot(his.epoch, his.history['loss'], label=\"loss\")\n",
    "plt.plot(his.epoch, his.history['val_loss'], label=\"val_loss\")\n",
    "\n",
    "plt.title(\"Loss\", fontsize=18)\n",
    "plt.xlabel(\"Epochs\", fontsize=15)\n",
    "plt.ylabel(\"Loss\", fontsize=15)\n",
    "plt.grid(alpha=0.3)\n",
    "plt.legend()\n",
    "\n",
    "plt.show()"
   ]
  },
  {
   "cell_type": "code",
   "execution_count": null,
   "id": "3b867d4b",
   "metadata": {},
   "outputs": [],
   "source": []
  }
 ],
 "metadata": {
  "kernelspec": {
   "display_name": "Python 3 (ipykernel)",
   "language": "python",
   "name": "python3"
  },
  "language_info": {
   "codemirror_mode": {
    "name": "ipython",
    "version": 3
   },
   "file_extension": ".py",
   "mimetype": "text/x-python",
   "name": "python",
   "nbconvert_exporter": "python",
   "pygments_lexer": "ipython3",
   "version": "3.9.12"
  }
 },
 "nbformat": 4,
 "nbformat_minor": 5
}
